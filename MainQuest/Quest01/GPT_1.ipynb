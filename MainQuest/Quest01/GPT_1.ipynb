{
 "cells": [
  {
   "cell_type": "markdown",
   "id": "82853888-d327-48f0-b92d-b311523419c2",
   "metadata": {},
   "source": [
    "## GPT-1 모델 구현하기\n",
    "\n",
    "Q. Transformer와 무엇이 다른가?  \n",
    "1. 모델 아키텍쳐 구조에서, Positional Embedding이 trainable한 파라미터로 변경되어야 한다.  \n",
    "2. Unidirectional 한 모델로써, Encoder 부분이 제거되고 Decoder-Only 구조를 갖는다.  \n",
    "3. Decoder에서는 Causal Mask가 적용되어야 한다.  \n",
    "4. Unsupervised Pre-training과 Supervised Fine-tuning의 두 단계로 학습 구조가 변경된다."
   ]
  },
  {
   "cell_type": "code",
   "execution_count": 6,
   "id": "bd07bbcf-a339-4314-93a6-b1b778020c67",
   "metadata": {},
   "outputs": [],
   "source": [
    "import re\n",
    "import tensorflow_datasets as tfds\n",
    "import numpy as np\n",
    "import matplotlib.pyplot as plt\n",
    "import tensorflow as tf\n",
    "from tensorflow import keras\n",
    "from tensorflow.keras import utils\n",
    "from tensorflow.keras.layers import Embedding"
   ]
  },
  {
   "cell_type": "code",
   "execution_count": 7,
   "id": "5e893d21-2e37-4c95-aa56-9d5e2f5c4d7e",
   "metadata": {},
   "outputs": [
    {
     "name": "stdout",
     "output_type": "stream",
     "text": [
      "11823\n"
     ]
    }
   ],
   "source": [
    "# 전처리 하기 위해 일단 읽어오기\n",
    "import pandas as pd\n",
    "\n",
    "raw_data = pd.read_csv(\"C:/Users/양자/Desktop/Hun_Works/AIFFEL_quest_rs/Exploration/ex07/ChatbotData.csv\")\n",
    "print(len(raw_data))\n",
    "MAX_SAMPLES = len(raw_data)"
   ]
  },
  {
   "cell_type": "code",
   "execution_count": 8,
   "id": "069fee42-69fa-4a7e-a227-2b438ae69a45",
   "metadata": {},
   "outputs": [
    {
     "data": {
      "text/html": [
       "<div>\n",
       "<style scoped>\n",
       "    .dataframe tbody tr th:only-of-type {\n",
       "        vertical-align: middle;\n",
       "    }\n",
       "\n",
       "    .dataframe tbody tr th {\n",
       "        vertical-align: top;\n",
       "    }\n",
       "\n",
       "    .dataframe thead th {\n",
       "        text-align: right;\n",
       "    }\n",
       "</style>\n",
       "<table border=\"1\" class=\"dataframe\">\n",
       "  <thead>\n",
       "    <tr style=\"text-align: right;\">\n",
       "      <th></th>\n",
       "      <th>Q</th>\n",
       "      <th>A</th>\n",
       "      <th>label</th>\n",
       "    </tr>\n",
       "  </thead>\n",
       "  <tbody>\n",
       "    <tr>\n",
       "      <th>0</th>\n",
       "      <td>12시 땡!</td>\n",
       "      <td>하루가 또 가네요.</td>\n",
       "      <td>0</td>\n",
       "    </tr>\n",
       "    <tr>\n",
       "      <th>1</th>\n",
       "      <td>1지망 학교 떨어졌어</td>\n",
       "      <td>위로해 드립니다.</td>\n",
       "      <td>0</td>\n",
       "    </tr>\n",
       "    <tr>\n",
       "      <th>2</th>\n",
       "      <td>3박4일 놀러가고 싶다</td>\n",
       "      <td>여행은 언제나 좋죠.</td>\n",
       "      <td>0</td>\n",
       "    </tr>\n",
       "    <tr>\n",
       "      <th>3</th>\n",
       "      <td>3박4일 정도 놀러가고 싶다</td>\n",
       "      <td>여행은 언제나 좋죠.</td>\n",
       "      <td>0</td>\n",
       "    </tr>\n",
       "    <tr>\n",
       "      <th>4</th>\n",
       "      <td>PPL 심하네</td>\n",
       "      <td>눈살이 찌푸려지죠.</td>\n",
       "      <td>0</td>\n",
       "    </tr>\n",
       "  </tbody>\n",
       "</table>\n",
       "</div>"
      ],
      "text/plain": [
       "                 Q            A  label\n",
       "0           12시 땡!   하루가 또 가네요.      0\n",
       "1      1지망 학교 떨어졌어    위로해 드립니다.      0\n",
       "2     3박4일 놀러가고 싶다  여행은 언제나 좋죠.      0\n",
       "3  3박4일 정도 놀러가고 싶다  여행은 언제나 좋죠.      0\n",
       "4          PPL 심하네   눈살이 찌푸려지죠.      0"
      ]
     },
     "execution_count": 8,
     "metadata": {},
     "output_type": "execute_result"
    }
   ],
   "source": [
    "raw_data.head()"
   ]
  },
  {
   "cell_type": "markdown",
   "id": "c40555fb-f738-4d74-b205-0e9943dd77c6",
   "metadata": {},
   "source": [
    "#### 전처리: 정수 인코딩을 하되, 단일 시퀀스로 연결\n",
    "\n",
    "토크나이저는 그대로 사용하되, 인코더가 없으니까 Q&A를 구분하는 것이 아니라 하나의 시퀀스로 연결하자."
   ]
  },
  {
   "cell_type": "code",
   "execution_count": 9,
   "id": "998e155e-6270-4aff-9be7-e3320560ec7a",
   "metadata": {},
   "outputs": [],
   "source": [
    "# 전처리 함수\n",
    "def preprocess_sentence(sentence):\n",
    "  sentence = sentence.lower()\n",
    "  \n",
    "  # 단어와 구두점(punctuation) 사이의 거리를 만듭니다.\n",
    "  # student와 온점 사이에 거리를 만듭니다.\n",
    "  sentence = re.sub(r\"([?.!,])\", r\" \\1 \", sentence) # 문장부호 앞뒤 공백 추가\n",
    "  sentence = re.sub(r'[\" \"]+', \" \", sentence) # 연속된 공백 제거\n",
    "  sentence = re.sub(r\"(.)\\1{2,}\", r\"\\1\\1\", sentence) # 반복 문자 축약\n",
    "  # (한국어/영어 문자, \".\", \"?\", \"!\", \",\")를 제외한 모든 문자를 공백인 ' '로 대체합니다.\n",
    "  sentence = re.sub(r\"[^가-힣ㄱ-ㅣa-z0-9.?!,]\", \" \", sentence)\n",
    "  sentence = re.sub(r\"\\d+\", \"<NUM>\", sentence) # 숫자 변환\n",
    "  sentence = re.sub(r\"\\s+\", \" \", sentence).strip()\n",
    "  return sentence"
   ]
  },
  {
   "cell_type": "code",
   "execution_count": 10,
   "id": "3300c0e7-3264-43c1-96ec-12b56a9ad9ff",
   "metadata": {},
   "outputs": [],
   "source": [
    "import tensorflow_datasets as tfds\n",
    "\n",
    "tokenizer_data = [\n",
    "    f\"{preprocess_sentence(question)} <sep> {preprocess_sentence(answer)} <end>\"\n",
    "    for question, answer in zip(raw_data[\"Q\"], raw_data[\"A\"])\n",
    "]\n",
    "\n",
    "# SubwordTextEncoder 사용\n",
    "tokenizer = tfds.deprecated.text.SubwordTextEncoder.build_from_corpus(\n",
    "    tokenizer_data, target_vocab_size=2**13\n",
    ")\n"
   ]
  },
  {
   "cell_type": "code",
   "execution_count": 11,
   "id": "0c3e469a-e2dc-414e-a42f-d54c0427024a",
   "metadata": {},
   "outputs": [],
   "source": [
    "MAX_LENGTH = 10 + 10 + 2  # 질문(10) + 답변(10) + <sep> + <end>\n",
    "\n",
    "# 질문과 답변을 하나의 시퀀스로 변환 후 토크나이징\n",
    "incorporated_sequence = []\n",
    "for question, answer in zip(raw_data[\"Q\"], raw_data[\"A\"]):\n",
    "    text = f\"{preprocess_sentence(question)} <sep> {preprocess_sentence(answer)} <end>\"\n",
    "    tokenized_text = tokenizer.encode(text)\n",
    "    \n",
    "    if len(tokenized_text) <= MAX_LENGTH:\n",
    "        incorporated_sequence.append(tokenized_text)\n"
   ]
  },
  {
   "cell_type": "code",
   "execution_count": 12,
   "id": "86fe159e-8f31-4ae5-9afb-6d1cab0cd464",
   "metadata": {},
   "outputs": [
    {
     "name": "stdout",
     "output_type": "stream",
     "text": [
      "11048\n",
      "필터링 후 사라진 아이 개수: 775\n"
     ]
    }
   ],
   "source": [
    "print(len(incorporated_sequence))\n",
    "print(f\"필터링 후 사라진 아이 개수: {len(raw_data) - len(incorporated_sequence)}\")"
   ]
  },
  {
   "cell_type": "code",
   "execution_count": 14,
   "id": "a8985c92-60f5-4d97-b925-500c2673a300",
   "metadata": {},
   "outputs": [
    {
     "data": {
      "text/plain": [
       "[' . <', 'sep', 'end', '> ', ' <', ' ? <', '거예요', '수_', '게_', '너무_']"
      ]
     },
     "execution_count": 14,
     "metadata": {},
     "output_type": "execute_result"
    }
   ],
   "source": [
    "tokenizer.subwords[:10]"
   ]
  },
  {
   "cell_type": "code",
   "execution_count": 15,
   "id": "bdee8cf8-bfa2-43f0-af51-d5d984b4cfcd",
   "metadata": {},
   "outputs": [
    {
     "data": {
      "text/plain": [
       "[7957, 20, 7959, 5167, 3062, 46, 2, 4, 3846, 78, 7879, 1, 3, 7959]"
      ]
     },
     "execution_count": 15,
     "metadata": {},
     "output_type": "execute_result"
    }
   ],
   "source": [
    "incorporated_sequence[0]"
   ]
  },
  {
   "cell_type": "code",
   "execution_count": 16,
   "id": "512e06d0-2434-4131-b949-52af8b94d5a6",
   "metadata": {},
   "outputs": [],
   "source": [
    "# 프리패딩\n",
    "from tensorflow.keras.preprocessing.sequence import pad_sequences\n",
    "\n",
    "padded_sequences = pad_sequences(\n",
    "    incorporated_sequence, maxlen=MAX_LENGTH, padding='pre', truncating='post'\n",
    ")"
   ]
  },
  {
   "cell_type": "code",
   "execution_count": 17,
   "id": "9a6a7720-76c5-4cd3-9914-c5fab3caedc8",
   "metadata": {},
   "outputs": [
    {
     "data": {
      "text/plain": [
       "array([   0,    0,    0,    0,    0,    0,    0,    0, 7957,   20, 7959,\n",
       "       5167, 3062,   46,    2,    4, 3846,   78, 7879,    1,    3, 7959])"
      ]
     },
     "execution_count": 17,
     "metadata": {},
     "output_type": "execute_result"
    }
   ],
   "source": [
    "padded_sequences[0]"
   ]
  },
  {
   "cell_type": "markdown",
   "id": "3a75d24a-baa9-4a33-aa07-7b8b6998d0c1",
   "metadata": {},
   "source": [
    "#### 데이터셋 구성하기"
   ]
  },
  {
   "cell_type": "code",
   "execution_count": 18,
   "id": "74484c03-2184-49b4-bb06-a6bc5f2b8a73",
   "metadata": {},
   "outputs": [],
   "source": [
    "# Step 1: Tokenized Data를 이용하여 입력과 정답 분리\n",
    "inputs = padded_sequences[:, :-1]  # 마지막 토큰 제외 (입력)\n",
    "targets = padded_sequences[:, 1:]  # 첫 번째 토큰 제외 (정답)\n",
    "\n",
    "# Step 2: TensorFlow Dataset 객체로 변환\n",
    "BATCH_SIZE = 128\n",
    "SHUFFLE_BUFFER_SIZE = 10000\n",
    "\n",
    "dataset = tf.data.Dataset.from_tensor_slices((inputs, targets))\n",
    "dataset = dataset.shuffle(SHUFFLE_BUFFER_SIZE).batch(BATCH_SIZE).prefetch(tf.data.experimental.AUTOTUNE)\n"
   ]
  },
  {
   "cell_type": "markdown",
   "id": "94c4bda9-12ce-4a0a-9c79-618ac6fe97b3",
   "metadata": {},
   "source": [
    "### 이하부터는 모델 구성하는 부분이 될 것"
   ]
  },
  {
   "cell_type": "markdown",
   "id": "8d41d5b8-58e1-4f69-b2ae-d19653860167",
   "metadata": {},
   "source": [
    "#### 1. 포지셔널 인코딩을 학습가능한 임베딩 레이어로 설정"
   ]
  },
  {
   "cell_type": "code",
   "execution_count": 19,
   "id": "3f8c1d54-3248-4367-a57c-a47c0da18e2d",
   "metadata": {},
   "outputs": [],
   "source": [
    "# 포지셔널 인코딩 레이어\n",
    "class PositionalEncoding(tf.keras.layers.Layer):\n",
    "    def __init__(self, max_position, d_model):\n",
    "        super(PositionalEncoding, self).__init__()\n",
    "        self.pos_embedding = self.add_weight(\n",
    "            \"pos_embedding\", shape=(max_position, d_model), trainable=True\n",
    "        )\n",
    "\n",
    "    def call(self, inputs):\n",
    "        seq_length = tf.shape(inputs)[1]  # 시퀀스 길이 가져오기\n",
    "        return inputs + self.pos_embedding[:seq_length, :]  # 시퀀스 길이에 맞는 위치 임베딩 추가\n"
   ]
  },
  {
   "cell_type": "markdown",
   "id": "0039f259-af9c-4dff-8e2a-a50dfc77f718",
   "metadata": {},
   "source": [
    "#### 2. 트랜스포머 디코더 부분 구현\n",
    "\n",
    "디코더 블록은 SDPA 및 MHA 구현하고, 그 다음에 GPT-1에서 도입한 pre-norm 방식의 add norm 이후에 FFN으로 구성\n",
    "\n",
    "이 때, 논문을 가능한 한 재현하기 위해서 relu &rightarrow; gelu 등의 변경은 유지"
   ]
  },
  {
   "cell_type": "code",
   "execution_count": 20,
   "id": "8f43fe1a-3bcc-4578-897b-a7e3f8fcb6c9",
   "metadata": {},
   "outputs": [],
   "source": [
    "# 스케일드 닷 프로덕트 어텐션 함수\n",
    "def scaled_dot_product_attention(query, key, value, mask):\n",
    "  # 어텐션 가중치는 Q와 K의 닷 프로덕트\n",
    "  matmul_qk = tf.matmul(query, key, transpose_b=True)\n",
    "\n",
    "  # 가중치를 정규화\n",
    "  depth = tf.cast(tf.shape(key)[-1], tf.float32)\n",
    "  logits = matmul_qk / tf.math.sqrt(depth)\n",
    "\n",
    "  # 패딩에 마스크 추가\n",
    "  if mask is not None:\n",
    "    logits += (mask * -1e9)\n",
    "\n",
    "  # softmax적용\n",
    "  attention_weights = tf.nn.softmax(logits, axis=-1)\n",
    "\n",
    "  # 최종 어텐션은 가중치와 V의 닷 프로덕트\n",
    "  output = tf.matmul(attention_weights, value)\n",
    "  return output"
   ]
  },
  {
   "cell_type": "code",
   "execution_count": 21,
   "id": "cfdd92fc-26b3-46db-8641-a21f7638f98f",
   "metadata": {},
   "outputs": [],
   "source": [
    "# 멀티헤드 어텐션\n",
    "class MultiHeadAttention(tf.keras.layers.Layer):\n",
    "\n",
    "  def __init__(self, d_model, num_heads, name=\"multi_head_attention\"):\n",
    "    super(MultiHeadAttention, self).__init__(name=name)\n",
    "    self.num_heads = num_heads\n",
    "    self.d_model = d_model\n",
    "\n",
    "    assert d_model % self.num_heads == 0\n",
    "\n",
    "    self.depth = d_model // self.num_heads\n",
    "\n",
    "    self.query_dense = tf.keras.layers.Dense(units=d_model)\n",
    "    self.key_dense = tf.keras.layers.Dense(units=d_model)\n",
    "    self.value_dense = tf.keras.layers.Dense(units=d_model)\n",
    "\n",
    "    self.dense = tf.keras.layers.Dense(units=d_model)\n",
    "\n",
    "  def split_heads(self, inputs, batch_size):\n",
    "    inputs = tf.reshape(\n",
    "        inputs, shape=(batch_size, -1, self.num_heads, self.depth))\n",
    "    return tf.transpose(inputs, perm=[0, 2, 1, 3])\n",
    "\n",
    "  def call(self, inputs):\n",
    "    query, key, value, mask = inputs['query'], inputs['key'], inputs[\n",
    "        'value'], inputs['mask']\n",
    "    batch_size = tf.shape(query)[0]\n",
    "\n",
    "    # Q, K, V에 각각 Dense를 적용합니다\n",
    "    query = self.query_dense(query)  # (batch_size, seq_len, d_model)\n",
    "    key = self.key_dense(key)        # (batch_size, seq_len, d_model)\n",
    "    value = self.value_dense(value)  # (batch_size, seq_len, d_model)\n",
    "\n",
    "    #  멀티 헤드로 분할 (batch, num_heads, seq_len, depth)\n",
    "    query = self.split_heads(query, batch_size)\n",
    "    key = self.split_heads(key, batch_size)\n",
    "    value = self.split_heads(value, batch_size)\n",
    "\n",
    "    # 스케일드 닷 프로덕트 어텐션 함수\n",
    "    scaled_attention = scaled_dot_product_attention(query, key, value, mask)\n",
    "\n",
    "    scaled_attention = tf.transpose(scaled_attention, perm=[0, 2, 1, 3])\n",
    "\n",
    "    # 어텐션 연산 후에 각 결과를 다시 연결(concatenate)합니다\n",
    "    concat_attention = tf.reshape(scaled_attention,\n",
    "                                  (batch_size, -1, self.d_model))\n",
    "\n",
    "    # 최종 결과에도 Dense를 한 번 더 적용합니다\n",
    "    outputs = self.dense(concat_attention)\n",
    "\n",
    "    return outputs"
   ]
  },
  {
   "cell_type": "code",
   "execution_count": 22,
   "id": "66ae305f-9d17-499b-a430-17cc1f0b15e0",
   "metadata": {},
   "outputs": [],
   "source": [
    "class AddNorm(tf.keras.layers.Layer):\n",
    "    ## 먼저 Layer Normalization 수행하고 (GPT-1에서 이 방식을 채택)\n",
    "    def __init__(self, d_model, dropout_rate=0.1):\n",
    "        super(AddNorm, self).__init__()\n",
    "        self.layer_norm = tf.keras.layers.LayerNormalization(epsilon=1e-6)\n",
    "        self.dropout = tf.keras.layers.Dropout(dropout_rate)\n",
    "\n",
    "    ## 그 다음에 residual connection\n",
    "    def call(self, inputs, sublayer_output, training):\n",
    "        normalized_inputs = self.layer_norm(inputs)\n",
    "        output = self.dropout(sublayer_output, training=training)\n",
    "        return inputs + output\n"
   ]
  },
  {
   "cell_type": "code",
   "execution_count": 23,
   "id": "9c8cbbe4-24ad-4ff2-a228-ae7275218d16",
   "metadata": {},
   "outputs": [],
   "source": [
    "# FFN 구성할 때, 렐루가 아니라 겔루를 사용했다는 논문을 그대로 따라가보자.\n",
    "class FeedForwardNetwork(tf.keras.layers.Layer):\n",
    "    def __init__(self, d_model, d_ff, dropout_rate=0.1):\n",
    "        super(FeedForwardNetwork, self).__init__()\n",
    "        self.layer_norm = tf.keras.layers.LayerNormalization(epsilon=1e-6)\n",
    "        self.dense1 = tf.keras.layers.Dense(d_ff, activation=tf.nn.gelu)  # GPT-1에서는 스무스한 함수인 gelu를 사용했다는 언급이 있음\n",
    "        self.dropout = tf.keras.layers.Dropout(dropout_rate)\n",
    "        self.dense2 = tf.keras.layers.Dense(d_model)  # 원래 차원으로 돌려놓음\n",
    "\n",
    "    def call(self, inputs, training):\n",
    "        normalized_inputs = self.layer_norm(inputs)\n",
    "        x = self.dense1(normalized_inputs)\n",
    "        x = self.dropout(x, training=training)\n",
    "        return self.dense2(x)  # 최종 FFN 출력\n"
   ]
  },
  {
   "cell_type": "code",
   "execution_count": 24,
   "id": "02369c98-1592-407f-aa15-616e37d056cb",
   "metadata": {},
   "outputs": [],
   "source": [
    "# 패딩 가리기\n",
    "def create_padding_mask(x):\n",
    "  mask = tf.cast(tf.math.equal(x, 0), tf.float32)\n",
    "  # (batch_size, 1, 1, sequence length)\n",
    "  return mask[:, tf.newaxis, tf.newaxis, :]"
   ]
  },
  {
   "cell_type": "code",
   "execution_count": 25,
   "id": "2c590ac1-affc-413e-88aa-8c113633fbfe",
   "metadata": {},
   "outputs": [],
   "source": [
    "# causal mask 구현하기\n",
    "def create_causal_mask(seq_len):\n",
    "    mask = 1 - tf.linalg.band_part(tf.ones((seq_len, seq_len)), -1, 0)\n",
    "    mask = tf.reshape(mask, (1, 1, seq_len, seq_len))\n",
    "    # (1, 1, seq_len, seq_len)\n",
    "    return mask"
   ]
  },
  {
   "cell_type": "code",
   "execution_count": 26,
   "id": "5edeaec9-beee-4020-aa0f-2e2c7509d77c",
   "metadata": {},
   "outputs": [],
   "source": [
    "# 디코더 하나의 레이어를 함수로 구현.\n",
    "def decoder_layer(d_model, num_heads, d_ff, dropout, name=\"decoder_layer\"):\n",
    "  inputs = tf.keras.Input(shape=(None, d_model), name=\"inputs\") # 디코더 인풋\n",
    "  mask = tf.keras.Input(shape=(1, None, None), name=\"mask\")\n",
    "\n",
    "  # 2. 멀티 헤드 어텐션 수행 (셀프 어텐션)\n",
    "  attention = MultiHeadAttention(\n",
    "      d_model, num_heads, name=\"self_attention\")(inputs={\n",
    "          'query': inputs,\n",
    "          'key': inputs,\n",
    "          'value': inputs,\n",
    "          'mask': mask\n",
    "      })\n",
    "\n",
    "  # 3. residual connection\n",
    "  attention = tf.keras.layers.Dropout(dropout)(attention)\n",
    "  attention = inputs + attention\n",
    "\n",
    "  # 4. 다시 한 번 정규화 하고 feed forward network \n",
    "\n",
    "  attention = tf.keras.layers.LayerNormalization(epsilon=1e-6)(attention)\n",
    "  ffn = FeedForwardNetwork(d_model, d_ff, dropout)(attention)\n",
    "\n",
    "  # 5. ffn에 residual connection 하는게 최종 아웃풋\n",
    "  outputs = attention + ffn\n",
    "\n",
    "  return tf.keras.Model(\n",
    "      inputs=[inputs, mask],\n",
    "      outputs=outputs,\n",
    "      name=name)"
   ]
  },
  {
   "cell_type": "markdown",
   "id": "422cdfe5-affd-4ee0-a760-ca7f185d03ae",
   "metadata": {},
   "source": [
    "#### 디코더 부분에서 오류가 나서, 패딩 마스크랑 코절 마스크를 여기서 결합하는 방식 사용"
   ]
  },
  {
   "cell_type": "code",
   "execution_count": 27,
   "id": "f2752017-cf1b-494f-a916-a1b36c02dc04",
   "metadata": {},
   "outputs": [],
   "source": [
    "def decoder(vocab_size, num_layers, d_model, num_heads, d_ff, dropout_rate, max_position, name=\"decoder\"):\n",
    "    # dec_inputs: 임베딩된 시퀀스, padding_mask: (batch, 1, 1, seq_len)\n",
    "    dec_inputs = tf.keras.Input(shape=(None, d_model), name=\"decoder_inputs\")\n",
    "\n",
    "    # padding mask\n",
    "    padding_mask = tf.keras.Input(shape=(1, 1, None), name=\"padding_mask\")\n",
    "    \n",
    "    # (1) causal mask 생성: shape (1, 1, seq_len, seq_len)\n",
    "    def generate_causal_mask(x):\n",
    "        seq_len = tf.shape(x)[1]\n",
    "        return create_causal_mask(seq_len)\n",
    "    causal_mask = tf.keras.layers.Lambda(generate_causal_mask, name=\"causal_mask\")(dec_inputs)\n",
    "    \n",
    "    # (2) 배치 차원에 맞게 causal mask 확장: (1, 1, seq_len, seq_len) -> (batch, 1, seq_len, seq_len)\n",
    "    def expand_causal(args):\n",
    "        mask, x = args\n",
    "        batch_size = tf.shape(x)[0]\n",
    "        return tf.tile(mask, [batch_size, 1, 1, 1])\n",
    "    causal_mask = tf.keras.layers.Lambda(expand_causal, name=\"expand_causal\")([causal_mask, dec_inputs])\n",
    "    \n",
    "    # (3) causal mask와 padding mask 결합: 두 mask에서 어느 한 쪽이라도 마스킹할 위치면 최종 mask는 1\n",
    "    def combine_masks(masks):\n",
    "        causal, padding = masks\n",
    "        return tf.maximum(causal, padding)\n",
    "    combined_mask = tf.keras.layers.Lambda(combine_masks, name=\"combined_mask\")([causal_mask, padding_mask])\n",
    "    \n",
    "    x = dec_inputs\n",
    "    for i in range(num_layers):\n",
    "        x = decoder_layer(d_model, num_heads, d_ff, dropout_rate, name=f\"decoder_layer_{i}\")([x, combined_mask])\n",
    "        \n",
    "    return tf.keras.Model(inputs=[dec_inputs, padding_mask], outputs=x, name=name)\n"
   ]
  },
  {
   "cell_type": "markdown",
   "id": "0065e77c-b71c-4145-ab40-91dcdd6cfb8b",
   "metadata": {},
   "source": [
    "#### 3. 포지셔널 레이어와 디코더를 구성했으니, 전체 GPT를 구성하기"
   ]
  },
  {
   "cell_type": "code",
   "execution_count": 28,
   "id": "fd4b003e-e739-4867-86f7-af2c80ed84b1",
   "metadata": {},
   "outputs": [],
   "source": [
    "class GPTModel(tf.keras.Model):\n",
    "    def __init__(self, vocab_size, d_model, num_layers, num_heads, d_ff, max_position, dropout_rate=0.1):\n",
    "        super(GPTModel, self).__init__()\n",
    "        # Token 및 Position Embedding\n",
    "        self.token_embedding = Embedding(vocab_size, d_model)\n",
    "        self.pos_embedding = Embedding(max_position, d_model)\n",
    "        \n",
    "        # Decoder-only 구성 (패딩 mask도 입력받도록)\n",
    "        self.decoder = decoder(\n",
    "            vocab_size=vocab_size,\n",
    "            num_layers=num_layers,\n",
    "            d_model=d_model,\n",
    "            num_heads=num_heads,\n",
    "            d_ff=d_ff,\n",
    "            dropout_rate=dropout_rate,\n",
    "            max_position=max_position\n",
    "        )\n",
    "        # 최종 출력 레이어\n",
    "        self.final_layer = keras.layers.Dense(vocab_size)\n",
    "        \n",
    "    def call(self, inputs):\n",
    "        # inputs: 토큰 id, shape (batch, seq_len)\n",
    "        seq_len = tf.shape(inputs)[1]\n",
    "        positions = tf.range(start=0, limit=seq_len, delta=1)\n",
    "        positions = self.pos_embedding(positions)\n",
    "        x = self.token_embedding(inputs) + positions\n",
    "        padding_mask = create_padding_mask(inputs)\n",
    "        x = self.decoder([x, padding_mask])\n",
    "        logits = self.final_layer(x)\n",
    "        return logits"
   ]
  },
  {
   "cell_type": "code",
   "execution_count": 29,
   "id": "09fdd402-d64d-44e6-9d29-80ee80fa31d6",
   "metadata": {},
   "outputs": [
    {
     "name": "stdout",
     "output_type": "stream",
     "text": [
      "8155\n"
     ]
    }
   ],
   "source": [
    "print(tokenizer.vocab_size + 2)"
   ]
  },
  {
   "cell_type": "markdown",
   "id": "9c178baa-b9a4-468c-904f-6ab444987d35",
   "metadata": {},
   "source": [
    "#### 4. 모델을 구성하고, 전체 스킴을 확인하기"
   ]
  },
  {
   "cell_type": "code",
   "execution_count": 30,
   "id": "e836f43f-a817-4841-9f9f-36818bc2cc0c",
   "metadata": {
    "scrolled": true
   },
   "outputs": [
    {
     "name": "stdout",
     "output_type": "stream",
     "text": [
      "Model: \"gpt_model\"\n",
      "_________________________________________________________________\n",
      " Layer (type)                Output Shape              Param #   \n",
      "=================================================================\n",
      " embedding (Embedding)       multiple                  4175360   \n",
      "                                                                 \n",
      " embedding_1 (Embedding)     multiple                  262144    \n",
      "                                                                 \n",
      " decoder (Functional)        (None, None, 512)         25219072  \n",
      "                                                                 \n",
      " dense_48 (Dense)            multiple                  4183515   \n",
      "                                                                 \n",
      "=================================================================\n",
      "Total params: 33,840,091\n",
      "Trainable params: 33,840,091\n",
      "Non-trainable params: 0\n",
      "_________________________________________________________________\n"
     ]
    }
   ],
   "source": [
    "# 하이퍼파라미터\n",
    "vocab_size = tokenizer.vocab_size + 2\n",
    "d_model = 512 ## vocab size가 줄었으니까 원 논문의 파리미터인 768에서 경량화\n",
    "num_layers = 8\n",
    "num_heads = 8\n",
    "d_ff = 2048 ## d_model * 4인 구조는 보존\n",
    "max_position = 512\n",
    "dropout_rate = 0.1\n",
    "\n",
    "model = GPTModel(vocab_size, d_model, num_layers, num_heads, d_ff, max_position, dropout_rate)\n",
    "model.build(input_shape=(None, None))\n",
    "model.summary()"
   ]
  },
  {
   "cell_type": "code",
   "execution_count": 31,
   "id": "2b10d6d9-f219-48e4-b407-e176449847a9",
   "metadata": {
    "scrolled": true
   },
   "outputs": [
    {
     "data": {
      "image/png": "[encoded data removed]",
      "text/plain": [
       "<IPython.core.display.Image object>"
      ]
     },
     "execution_count": 31,
     "metadata": {},
     "output_type": "execute_result"
    }
   ],
   "source": [
    "keras.utils.plot_model(model)\n",
    "# 안 그려지는구나 .. "
   ]
  },
  {
   "cell_type": "markdown",
   "id": "b9eef51e-dd72-4e6c-ba5b-f469cd802c27",
   "metadata": {},
   "source": [
    "#### 5. 손실함수, 커스텀 스케줄러, 옵티마이저를 설정하기\n",
    "\n",
    "이 때, 손실함수의 경우 sparse categorical crossentropy 를 최적화하는 것은 log likelihood를 최적화하는 것과 동일하다."
   ]
  },
  {
   "cell_type": "code",
   "execution_count": 32,
   "id": "9e14cc76-56c3-4fab-8834-cd4dab0e026f",
   "metadata": {},
   "outputs": [],
   "source": [
    "def loss_function(y_true, y_pred):\n",
    "  y_true = tf.reshape(y_true, shape=(-1, MAX_LENGTH - 1))\n",
    "  \n",
    "  loss = tf.keras.losses.SparseCategoricalCrossentropy(\n",
    "      from_logits=True, reduction='none')(y_true, y_pred)\n",
    "\n",
    "  mask = tf.cast(tf.not_equal(y_true, 0), tf.float32)\n",
    "  loss = tf.multiply(loss, mask)\n",
    "\n",
    "  return tf.reduce_mean(loss)"
   ]
  },
  {
   "cell_type": "code",
   "execution_count": 33,
   "id": "831571bf-d74b-4add-a5bd-ba34e1f56572",
   "metadata": {},
   "outputs": [],
   "source": [
    "class CustomSchedule(tf.keras.optimizers.schedules.LearningRateSchedule):\n",
    "\n",
    "  def __init__(self, d_model, warmup_steps=4000):\n",
    "    super(CustomSchedule, self).__init__()\n",
    "\n",
    "    self.d_model = d_model\n",
    "    self.d_model = tf.cast(self.d_model, tf.float32)\n",
    "\n",
    "    self.warmup_steps = warmup_steps\n",
    "\n",
    "  def __call__(self, step):\n",
    "    arg1 = tf.math.rsqrt(step)\n",
    "    arg2 = step * (self.warmup_steps**-1.5)\n",
    "\n",
    "    return tf.math.rsqrt(self.d_model) * tf.math.minimum(arg1, arg2)"
   ]
  },
  {
   "cell_type": "code",
   "execution_count": 34,
   "id": "215e6692-078b-4bc6-9180-4a47c4a582f4",
   "metadata": {},
   "outputs": [
    {
     "data": {
      "text/plain": [
       "Text(0.5, 0, 'Train Step')"
      ]
     },
     "execution_count": 34,
     "metadata": {},
     "output_type": "execute_result"
    },
    {
     "data": {
      "image/png": "[encoded data removed]",
      "text/plain": [
       "<Figure size 640x480 with 1 Axes>"
      ]
     },
     "metadata": {},
     "output_type": "display_data"
    }
   ],
   "source": [
    "sample_learning_rate = CustomSchedule(d_model=128)\n",
    "\n",
    "plt.plot(sample_learning_rate(tf.range(200000, dtype=tf.float32)))\n",
    "plt.ylabel(\"Learning Rate\")\n",
    "plt.xlabel(\"Train Step\")"
   ]
  },
  {
   "cell_type": "code",
   "execution_count": 35,
   "id": "5daa8fe4-0eee-41c6-b7a0-b112ca698ab5",
   "metadata": {},
   "outputs": [],
   "source": [
    "learning_rate = CustomSchedule(d_model)\n",
    "\n",
    "optimizer = tf.keras.optimizers.Adam(\n",
    "    learning_rate, beta_1=0.9, beta_2=0.98, epsilon=1e-9)\n",
    "\n",
    "def accuracy(y_true, y_pred):\n",
    "  y_true = tf.reshape(y_true, shape=(-1, MAX_LENGTH - 1))\n",
    "  return tf.keras.metrics.sparse_categorical_accuracy(y_true, y_pred)\n",
    "\n",
    "model.compile(optimizer=optimizer, loss=loss_function, metrics=[accuracy])"
   ]
  },
  {
   "cell_type": "code",
   "execution_count": 36,
   "id": "21bd8cb9-ca93-4798-a892-035fddd582c4",
   "metadata": {},
   "outputs": [
    {
     "name": "stdout",
     "output_type": "stream",
     "text": [
      "Epoch 1/50\n",
      "87/87 [==============================] - 19s 107ms/step - loss: 6.0355 - accuracy: 0.0450\n",
      "Epoch 2/50\n",
      "87/87 [==============================] - 9s 107ms/step - loss: 4.3877 - accuracy: 0.2212\n",
      "Epoch 3/50\n",
      "87/87 [==============================] - 9s 108ms/step - loss: 3.7337 - accuracy: 0.2787\n",
      "Epoch 4/50\n",
      "87/87 [==============================] - 9s 106ms/step - loss: 3.5305 - accuracy: 0.2870\n",
      "Epoch 5/50\n",
      "87/87 [==============================] - 9s 106ms/step - loss: 3.3767 - accuracy: 0.2916\n",
      "Epoch 6/50\n",
      "87/87 [==============================] - 9s 106ms/step - loss: 3.2633 - accuracy: 0.2962\n",
      "Epoch 7/50\n",
      "87/87 [==============================] - 9s 106ms/step - loss: 3.1705 - accuracy: 0.3007\n",
      "Epoch 8/50\n",
      "87/87 [==============================] - 9s 106ms/step - loss: 3.0801 - accuracy: 0.3065\n",
      "Epoch 9/50\n",
      "87/87 [==============================] - 9s 107ms/step - loss: 2.9724 - accuracy: 0.3129\n",
      "Epoch 10/50\n",
      "87/87 [==============================] - 9s 107ms/step - loss: 2.8476 - accuracy: 0.3213\n",
      "Epoch 11/50\n",
      "87/87 [==============================] - 9s 106ms/step - loss: 2.7193 - accuracy: 0.3295\n",
      "Epoch 12/50\n",
      "87/87 [==============================] - 9s 107ms/step - loss: 2.5744 - accuracy: 0.3395\n",
      "Epoch 13/50\n",
      "87/87 [==============================] - 9s 108ms/step - loss: 2.4233 - accuracy: 0.3519\n",
      "Epoch 14/50\n",
      "87/87 [==============================] - 9s 108ms/step - loss: 2.2752 - accuracy: 0.3645\n",
      "Epoch 15/50\n",
      "87/87 [==============================] - 10s 118ms/step - loss: 2.1386 - accuracy: 0.3769\n",
      "Epoch 16/50\n",
      "87/87 [==============================] - 9s 107ms/step - loss: 1.9986 - accuracy: 0.3899\n",
      "Epoch 17/50\n",
      "87/87 [==============================] - 10s 109ms/step - loss: 1.8578 - accuracy: 0.4053\n",
      "Epoch 18/50\n",
      "87/87 [==============================] - 9s 107ms/step - loss: 1.7381 - accuracy: 0.4175\n",
      "Epoch 19/50\n",
      "87/87 [==============================] - 9s 107ms/step - loss: 1.6118 - accuracy: 0.4329\n",
      "Epoch 20/50\n",
      "87/87 [==============================] - 9s 108ms/step - loss: 1.5052 - accuracy: 0.4452\n",
      "Epoch 21/50\n",
      "87/87 [==============================] - 9s 107ms/step - loss: 1.3840 - accuracy: 0.4613\n",
      "Epoch 22/50\n",
      "87/87 [==============================] - 9s 108ms/step - loss: 1.2983 - accuracy: 0.4724\n",
      "Epoch 23/50\n",
      "87/87 [==============================] - 9s 107ms/step - loss: 1.2261 - accuracy: 0.4821\n",
      "Epoch 24/50\n",
      "87/87 [==============================] - 9s 108ms/step - loss: 1.1680 - accuracy: 0.4894\n",
      "Epoch 25/50\n",
      "87/87 [==============================] - 9s 107ms/step - loss: 1.1007 - accuracy: 0.4983\n",
      "Epoch 26/50\n",
      "87/87 [==============================] - 9s 106ms/step - loss: 0.9858 - accuracy: 0.5183\n",
      "Epoch 27/50\n",
      "87/87 [==============================] - 9s 107ms/step - loss: 0.9258 - accuracy: 0.5279\n",
      "Epoch 28/50\n",
      "87/87 [==============================] - 9s 107ms/step - loss: 0.8704 - accuracy: 0.5362\n",
      "Epoch 29/50\n",
      "87/87 [==============================] - 9s 107ms/step - loss: 0.8670 - accuracy: 0.5364\n",
      "Epoch 30/50\n",
      "87/87 [==============================] - 9s 107ms/step - loss: 0.7739 - accuracy: 0.5543\n",
      "Epoch 31/50\n",
      "87/87 [==============================] - 9s 108ms/step - loss: 0.7691 - accuracy: 0.5532\n",
      "Epoch 32/50\n",
      "87/87 [==============================] - 10s 114ms/step - loss: 0.7388 - accuracy: 0.5580\n",
      "Epoch 33/50\n",
      "87/87 [==============================] - 10s 110ms/step - loss: 0.6791 - accuracy: 0.5709\n",
      "Epoch 34/50\n",
      "87/87 [==============================] - 10s 110ms/step - loss: 0.6832 - accuracy: 0.5690\n",
      "Epoch 35/50\n",
      "87/87 [==============================] - 10s 111ms/step - loss: 0.6353 - accuracy: 0.5790\n",
      "Epoch 36/50\n",
      "87/87 [==============================] - 10s 110ms/step - loss: 0.6600 - accuracy: 0.5731\n",
      "Epoch 37/50\n",
      "87/87 [==============================] - 10s 110ms/step - loss: 0.6858 - accuracy: 0.5675\n"
     ]
    }
   ],
   "source": [
    "from tensorflow.keras import callbacks\n",
    "es = keras.callbacks.EarlyStopping(monitor='accuracy',patience=2)\n",
    "EPOCHS = 50\n",
    "history = model.fit(dataset, epochs=EPOCHS, callbacks=[es], verbose=1)"
   ]
  },
  {
   "cell_type": "code",
   "execution_count": 37,
   "id": "cfab65f6-6b4d-4b09-8690-dccc4f6805b1",
   "metadata": {},
   "outputs": [
    {
     "data": {
      "image/png": "[encoded data removed]",
      "text/plain": [
       "<Figure size 640x480 with 1 Axes>"
      ]
     },
     "metadata": {},
     "output_type": "display_data"
    },
    {
     "data": {
      "image/png": "[encoded data removed]",
      "text/plain": [
       "<Figure size 640x480 with 1 Axes>"
      ]
     },
     "metadata": {},
     "output_type": "display_data"
    }
   ],
   "source": [
    "plt.plot(history.history['loss'])\n",
    "plt.show()\n",
    "\n",
    "plt.plot(history.history['accuracy'])\n",
    "plt.axhline(y=1, color='r', linestyle='--')\n",
    "plt.show()"
   ]
  },
  {
   "cell_type": "code",
   "execution_count": 39,
   "id": "8ff714e2-28cc-4851-a8e4-b401ef59d175",
   "metadata": {},
   "outputs": [],
   "source": [
    "def extract_text_between_sep_and_end(text):\n",
    "    \"\"\"\n",
    "    text에서 <sep>와 <end> 사이에 있는 첫 번째 구간을 캡처하여 반환.\n",
    "    없으면 None\n",
    "    \"\"\"\n",
    "    pattern = r\"<sep>(.*?)<end>\"\n",
    "    match = re.search(pattern, text, flags=re.DOTALL)\n",
    "    if match:\n",
    "        return match.group(1).strip()\n",
    "    return None"
   ]
  },
  {
   "cell_type": "code",
   "execution_count": 40,
   "id": "359f4c3c-5b21-4fe1-9826-522a41aba437",
   "metadata": {},
   "outputs": [],
   "source": [
    "def sentence_generation(sentence):\n",
    "    # 1) 디코더 인퍼런스를 통해 전체 생성 텍스트 얻기\n",
    "    prediction_ids = decoder_inference(sentence)\n",
    "    \n",
    "    # 2) 정수 시퀀스를 문자열로 디코딩\n",
    "    predicted_sentence = tokenizer.decode(\n",
    "        [tid for tid in prediction_ids if tid < tokenizer.vocab_size]\n",
    "    )\n",
    "\n",
    "    # 3) <sep> ~ <end> 사이 텍스트만 추출\n",
    "    middle_text = extract_text_between_sep_and_end(predicted_sentence)\n",
    "    \n",
    "    # 4) 만약 추출이 성공했다면, 그 부분만 출력/반환\n",
    "    if middle_text is not None:\n",
    "        final_output = middle_text\n",
    "    else:\n",
    "        # <sep> <end> 구간이 없다면, 그냥 전체를 반환하거나\n",
    "        # \"추출 불가\" 같은 메시지를 리턴하도록 선택 가능\n",
    "        final_output = predicted_sentence\n",
    "\n",
    "    print('입력 :', sentence)\n",
    "    print('출력 :', final_output)\n",
    "    return final_output"
   ]
  },
  {
   "cell_type": "code",
   "execution_count": 41,
   "id": "66444dad-396b-409d-8e86-6162a8485d26",
   "metadata": {},
   "outputs": [],
   "source": [
    "def decoder_inference(sentence):\n",
    "    \"\"\"\n",
    "    예시: GPT-1 구조에서 오토리그레시브로 토큰을 예측해나가는 함수.\n",
    "    START/END 토큰 없이, 단순 greedy decoding만 구현한 버전.\n",
    "    \"\"\"\n",
    "    # 전처리\n",
    "    sentence = preprocess_sentence(sentence)\n",
    "    # 문자열 -> 토큰\n",
    "    input_ids = tokenizer.encode(sentence)\n",
    "    # 배치 차원 추가\n",
    "    output_sequence = tf.expand_dims(input_ids, axis=0)\n",
    "\n",
    "    for _ in range(MAX_LENGTH):\n",
    "        predictions = model(output_sequence, training=False)  # shape: (1, seq_len, vocab_size)\n",
    "        next_token_logits = predictions[:, -1, :]             # 마지막 토큰의 로짓\n",
    "        next_token_id = tf.argmax(next_token_logits, axis=-1, output_type=tf.int32)\n",
    "        next_token_id = tf.expand_dims(next_token_id, axis=-1)  # (1, 1)\n",
    "        output_sequence = tf.concat([output_sequence, next_token_id], axis=-1)\n",
    "        \n",
    "        # 필요하면 종료 조건(특정 토큰 등) 추가\n",
    "\n",
    "    # (1, seq_len) -> (seq_len,)\n",
    "    return tf.squeeze(output_sequence, axis=0).numpy().tolist()\n"
   ]
  },
  {
   "cell_type": "code",
   "execution_count": 42,
   "id": "fe34d11c-93c4-4373-bbf7-7d46de2506ba",
   "metadata": {},
   "outputs": [
    {
     "name": "stdout",
     "output_type": "stream",
     "text": [
      "입력 : 기분이 좋지 않아요.\n",
      "출력 : 조금만 더 그리울낸지는 못하는 것을 화를 생각하는 건 뿐이에요 .\n"
     ]
    },
    {
     "data": {
      "text/plain": [
       "'조금만 더 그리울낸지는 못하는 것을 화를 생각하는 건 뿐이에요 .'"
      ]
     },
     "execution_count": 42,
     "metadata": {},
     "output_type": "execute_result"
    }
   ],
   "source": [
    "sentence_generation('기분이 좋지 않아요.')"
   ]
  },
  {
   "cell_type": "code",
   "execution_count": 43,
   "id": "a5ad79ee-eed0-4e26-9e73-00720d54c57d",
   "metadata": {},
   "outputs": [
    {
     "name": "stdout",
     "output_type": "stream",
     "text": [
      "입력 : 좋아?\n",
      "출력 : 차별옽로양는 증거를 재밌죠 .\n"
     ]
    },
    {
     "data": {
      "text/plain": [
       "'차별옽로양는 증거를 재밌죠 .'"
      ]
     },
     "execution_count": 43,
     "metadata": {},
     "output_type": "execute_result"
    }
   ],
   "source": [
    "sentence_generation('좋아?')"
   ]
  },
  {
   "cell_type": "code",
   "execution_count": 44,
   "id": "e3ec75d5-dd9c-4f24-8c7f-db70cd1071a6",
   "metadata": {},
   "outputs": [
    {
     "name": "stdout",
     "output_type": "stream",
     "text": [
      "입력 : 지금 어떤 느낌이에요?\n",
      "출력 : 마음은 언제양해를 쳐야 해요 .\n"
     ]
    },
    {
     "data": {
      "text/plain": [
       "'마음은 언제양해를 쳐야 해요 .'"
      ]
     },
     "execution_count": 44,
     "metadata": {},
     "output_type": "execute_result"
    }
   ],
   "source": [
    "sentence_generation('지금 어떤 느낌이에요?')"
   ]
  },
  {
   "cell_type": "code",
   "execution_count": 45,
   "id": "d2c6bc56-3dbd-41f0-900d-645a94e99b51",
   "metadata": {},
   "outputs": [
    {
     "name": "stdout",
     "output_type": "stream",
     "text": [
      "입력 : 수학 공부는 싫어요!\n",
      "출력 : 목적은 성별에 따라 다르지 떨어죠 .\n"
     ]
    },
    {
     "data": {
      "text/plain": [
       "'목적은 성별에 따라 다르지 떨어죠 .'"
      ]
     },
     "execution_count": 45,
     "metadata": {},
     "output_type": "execute_result"
    }
   ],
   "source": [
    "sentence_generation('수학 공부는 싫어요')"
   ]
  },
  {
   "cell_type": "code",
   "execution_count": 48,
   "id": "3f0cc23b-cf3b-446c-8a1a-b3a3f8b59085",
   "metadata": {},
   "outputs": [
    {
     "name": "stdout",
     "output_type": "stream",
     "text": [
      "입력 : 수학 공부는 싫으세요?\n",
      "출력 : 우연스에 불는것도 좋을 것 같아요 .\n"
     ]
    },
    {
     "data": {
      "text/plain": [
       "'우연스에 불는것도 좋을 것 같아요 .'"
      ]
     },
     "execution_count": 48,
     "metadata": {},
     "output_type": "execute_result"
    }
   ],
   "source": [
    "sentence_generation('수학 공부는 싫으세요?')"
   ]
  },
  {
   "cell_type": "code",
   "execution_count": null,
   "id": "46322fbf-71a3-449d-ad89-82abdd9f2ec5",
   "metadata": {},
   "outputs": [],
   "source": []
  }
 ],
 "metadata": {
  "kernelspec": {
   "display_name": "Python 3 (ipykernel)",
   "language": "python",
   "name": "python3"
  },
  "language_info": {
   "codemirror_mode": {
    "name": "ipython",
    "version": 3
   },
   "file_extension": ".py",
   "mimetype": "text/x-python",
   "name": "python",
   "nbconvert_exporter": "python",
   "pygments_lexer": "ipython3",
   "version": "3.10.12"
  }
 },
 "nbformat": 4,
 "nbformat_minor": 5
}
