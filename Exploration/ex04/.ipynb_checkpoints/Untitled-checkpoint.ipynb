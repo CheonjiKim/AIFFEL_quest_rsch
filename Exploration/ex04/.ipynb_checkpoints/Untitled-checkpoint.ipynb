{
 "cells": [
  {
   "cell_type": "code",
   "execution_count": 8,
   "id": "2f128054-dd12-4109-a2d4-8654d21ba137",
   "metadata": {},
   "outputs": [],
   "source": [
    "import os\n",
    "import urllib\n",
    "import cv2\n",
    "import numpy as np\n",
    "from pixellib.semantic import semantic_segmentation\n",
    "from matplotlib import pyplot as plt"
   ]
  },
  {
   "cell_type": "markdown",
   "id": "48f192ad-f07a-438a-ac7c-2ea05a7d468c",
   "metadata": {},
   "source": [
    "여기서 문제점:\n",
    "로컬에서 작업하는 경우, https://github.com/ayoolaolafenwa/PixelLib/issues/152 이 부분을 참고했는데,\n",
    "\n",
    "pixellib 라이브러리에서 semantic_segmentation을 불러오는 과정에서 \n",
    "\n",
    "ImportError: cannot import name 'BatchNormalization' from 'tensorflow.python.keras.layers' (/usr/local/lib/python3.7/dist-packages/tensorflow/python/keras/layers/init.py)\n",
    "\n",
    "이러한 오류가 발생해서 작업이 불가했는데\n",
    "\n",
    "Pixellib folder -> semantic -> deeplab.py 를 찾아서\n",
    "Replace this \n",
    "\"from tensorflow.python.keras.layers import BatchNormalization\" with \n",
    "\"from keras.layers.normalization.batch_normalization import BatchNormalization\"\n",
    "\n",
    "이렇게 바꾸었더니 해결했음."
   ]
  },
  {
   "cell_type": "code",
   "execution_count": 13,
   "id": "af6c3343-c247-4773-994a-2d96a10c4bf2",
   "metadata": {},
   "outputs": [
    {
     "ename": "AttributeError",
     "evalue": "'NoneType' object has no attribute 'shape'",
     "output_type": "error",
     "traceback": [
      "\u001b[1;31m---------------------------------------------------------------------------\u001b[0m",
      "\u001b[1;31mAttributeError\u001b[0m                            Traceback (most recent call last)",
      "Cell \u001b[1;32mIn[13], line 4\u001b[0m\n\u001b[0;32m      1\u001b[0m img_path \u001b[38;5;241m=\u001b[39m \u001b[38;5;124m'\u001b[39m\u001b[38;5;124mC:/Users/양자/Desktop/Hun_Works/AIFFEL_quest_rs/Exploration/ex04/images/image1.png\u001b[39m\u001b[38;5;124m'\u001b[39m\n\u001b[0;32m      2\u001b[0m img_orig \u001b[38;5;241m=\u001b[39m cv2\u001b[38;5;241m.\u001b[39mimread(img_path) \n\u001b[1;32m----> 4\u001b[0m \u001b[38;5;28mprint\u001b[39m(\u001b[43mimg_orig\u001b[49m\u001b[38;5;241;43m.\u001b[39;49m\u001b[43mshape\u001b[49m)\n",
      "\u001b[1;31mAttributeError\u001b[0m: 'NoneType' object has no attribute 'shape'"
     ]
    }
   ],
   "source": [
    "img_path = 'C:/Users/양자/Desktop/Hun_Works/AIFFEL_quest_rs/Exploration/ex04/images/image1.png'\n",
    "img_orig = cv2.imread(img_path) \n",
    "\n",
    "print(img_orig.shape)"
   ]
  },
  {
   "cell_type": "code",
   "execution_count": 7,
   "id": "c5af9834-d8b8-49ea-9bdc-b103d0d1aa1a",
   "metadata": {},
   "outputs": [
    {
     "name": "stdout",
     "output_type": "stream",
     "text": [
      "C:\\Users\\양자\\AppData\\Roaming\\Python\\Python310\\site-packages\\pixellib\n"
     ]
    }
   ],
   "source": [
    "import pixellib\n",
    "import os\n",
    "\n",
    "print(os.path.dirname(pixellib.__file__))\n"
   ]
  },
  {
   "cell_type": "code",
   "execution_count": null,
   "id": "c609eceb-a4f1-4588-8a3d-fd05a452e874",
   "metadata": {},
   "outputs": [],
   "source": []
  }
 ],
 "metadata": {
  "kernelspec": {
   "display_name": "Python 3 (ipykernel)",
   "language": "python",
   "name": "python3"
  },
  "language_info": {
   "codemirror_mode": {
    "name": "ipython",
    "version": 3
   },
   "file_extension": ".py",
   "mimetype": "text/x-python",
   "name": "python",
   "nbconvert_exporter": "python",
   "pygments_lexer": "ipython3",
   "version": "3.10.12"
  }
 },
 "nbformat": 4,
 "nbformat_minor": 5
}
