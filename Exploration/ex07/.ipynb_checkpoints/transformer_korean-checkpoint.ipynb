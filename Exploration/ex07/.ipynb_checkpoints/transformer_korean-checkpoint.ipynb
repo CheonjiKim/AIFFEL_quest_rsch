{
 "cells": [
  {
   "cell_type": "code",
   "execution_count": 1,
   "id": "d77e7f9e-c991-4d0f-97c2-daa62b7a1fd0",
   "metadata": {},
   "outputs": [],
   "source": [
    "import tensorflow as tf\n",
    "import re\n",
    "import tensorflow_datasets as tfds\n",
    "import numpy as np\n",
    "import matplotlib.pyplot as plt\n",
    "from tensorflow import keras\n",
    "from tensorflow.keras import utils"
   ]
  },
  {
   "cell_type": "code",
   "execution_count": 2,
   "id": "d9ef1fd1-42c0-46b2-8052-4e670d30683a",
   "metadata": {},
   "outputs": [],
   "source": [
    "# 전처리 하기 위해 일단 읽어오기\n",
    "import pandas as pd\n",
    "\n",
    "raw_data = pd.read_csv(\"C:/Users/양자/Desktop/Hun_Works/AIFFEL_quest_rs/Exploration/ex07/ChatbotData.csv\")"
   ]
  },
  {
   "cell_type": "code",
   "execution_count": 3,
   "id": "24f11e80-9c94-437f-ac3b-e18859c2f480",
   "metadata": {},
   "outputs": [
    {
     "data": {
      "text/html": [
       "<div>\n",
       "<style scoped>\n",
       "    .dataframe tbody tr th:only-of-type {\n",
       "        vertical-align: middle;\n",
       "    }\n",
       "\n",
       "    .dataframe tbody tr th {\n",
       "        vertical-align: top;\n",
       "    }\n",
       "\n",
       "    .dataframe thead th {\n",
       "        text-align: right;\n",
       "    }\n",
       "</style>\n",
       "<table border=\"1\" class=\"dataframe\">\n",
       "  <thead>\n",
       "    <tr style=\"text-align: right;\">\n",
       "      <th></th>\n",
       "      <th>Q</th>\n",
       "      <th>A</th>\n",
       "      <th>label</th>\n",
       "    </tr>\n",
       "  </thead>\n",
       "  <tbody>\n",
       "    <tr>\n",
       "      <th>0</th>\n",
       "      <td>12시 땡!</td>\n",
       "      <td>하루가 또 가네요.</td>\n",
       "      <td>0</td>\n",
       "    </tr>\n",
       "    <tr>\n",
       "      <th>1</th>\n",
       "      <td>1지망 학교 떨어졌어</td>\n",
       "      <td>위로해 드립니다.</td>\n",
       "      <td>0</td>\n",
       "    </tr>\n",
       "    <tr>\n",
       "      <th>2</th>\n",
       "      <td>3박4일 놀러가고 싶다</td>\n",
       "      <td>여행은 언제나 좋죠.</td>\n",
       "      <td>0</td>\n",
       "    </tr>\n",
       "    <tr>\n",
       "      <th>3</th>\n",
       "      <td>3박4일 정도 놀러가고 싶다</td>\n",
       "      <td>여행은 언제나 좋죠.</td>\n",
       "      <td>0</td>\n",
       "    </tr>\n",
       "    <tr>\n",
       "      <th>4</th>\n",
       "      <td>PPL 심하네</td>\n",
       "      <td>눈살이 찌푸려지죠.</td>\n",
       "      <td>0</td>\n",
       "    </tr>\n",
       "  </tbody>\n",
       "</table>\n",
       "</div>"
      ],
      "text/plain": [
       "                 Q            A  label\n",
       "0           12시 땡!   하루가 또 가네요.      0\n",
       "1      1지망 학교 떨어졌어    위로해 드립니다.      0\n",
       "2     3박4일 놀러가고 싶다  여행은 언제나 좋죠.      0\n",
       "3  3박4일 정도 놀러가고 싶다  여행은 언제나 좋죠.      0\n",
       "4          PPL 심하네   눈살이 찌푸려지죠.      0"
      ]
     },
     "execution_count": 3,
     "metadata": {},
     "output_type": "execute_result"
    }
   ],
   "source": [
    "raw_data.head()\n"
   ]
  },
  {
   "cell_type": "code",
   "execution_count": 4,
   "id": "1fb9643e-6781-41d6-b782-e60fa78625f7",
   "metadata": {},
   "outputs": [
    {
     "name": "stdout",
     "output_type": "stream",
     "text": [
      "11823\n"
     ]
    }
   ],
   "source": [
    "print(len(raw_data))"
   ]
  },
  {
   "cell_type": "code",
   "execution_count": 5,
   "id": "a4ea02b8-3fc9-43d6-b390-b77bb7159a6c",
   "metadata": {},
   "outputs": [],
   "source": [
    "MAX_SAMPLES=10000"
   ]
  },
  {
   "cell_type": "code",
   "execution_count": 6,
   "id": "743b9ea5-55f7-4d73-927c-a517c5e60f2c",
   "metadata": {},
   "outputs": [],
   "source": [
    "# 전처리 함수\n",
    "def preprocess_sentence(sentence):\n",
    "  sentence = sentence.lower()\n",
    "  \n",
    "  # 단어와 구두점(punctuation) 사이의 거리를 만듭니다.\n",
    "  # student와 온점 사이에 거리를 만듭니다.\n",
    "  sentence = re.sub(r\"([?.!,])\", r\" \\1 \", sentence) # 문장부호 앞뒤 공백 추가\n",
    "  sentence = re.sub(r'[\" \"]+', \" \", sentence) # 연속된 공백 제거\n",
    "  sentence = re.sub(r\"(.)\\1{2,}\", r\"\\1\\1\", sentence) # 반복 문자 축약\n",
    "  # (한국어 문자, \".\", \"?\", \"!\", \",\")를 제외한 모든 문자를 공백인 ' '로 대체합니다.\n",
    "  sentence = re.sub(r\"[^가-힣ㄱ-ㅣa-z0-9.?!,]\", \" \", sentence)\n",
    "  sentence = re.sub(r\"\\d+\", \"<NUM>\", sentence) # 숫자 변환\n",
    "  sentence = re.sub(r\"\\s+\", \" \", sentence).strip()\n",
    "  return sentence"
   ]
  },
  {
   "cell_type": "code",
   "execution_count": 7,
   "id": "3d3888f9-5329-4f61-97c1-a59dbf9dd246",
   "metadata": {},
   "outputs": [],
   "source": [
    "def load_qa_from_data(raw_data):\n",
    "\n",
    "    # 질문(Q)과 답변(A)을 담을 리스트\n",
    "    inputs, outputs = [], []\n",
    "\n",
    "    # Q, A 컬럼을 순회하면서 전처리 후 리스트에 저장\n",
    "    for i, row in raw_data.iterrows():\n",
    "        question = preprocess_sentence(row['Q'])  # 기존 코넬 예제에서 쓰던 전처리 함수\n",
    "        answer = preprocess_sentence(row['A'])\n",
    "        inputs.append(question)\n",
    "        outputs.append(answer)\n",
    "\n",
    "        # 일정 개수(MAX_SAMPLES)까지만 사용하고 싶으면 제한\n",
    "        if len(inputs) >= MAX_SAMPLES:\n",
    "            break\n",
    "\n",
    "    return inputs, outputs\n",
    "\n",
    "questions, answers = load_qa_from_data(raw_data)"
   ]
  },
  {
   "cell_type": "code",
   "execution_count": 8,
   "id": "ff44bfce-3cb8-46bd-a365-c71cd307fd04",
   "metadata": {
    "scrolled": true
   },
   "outputs": [
    {
     "name": "stdout",
     "output_type": "stream",
     "text": [
      "['<NUM>시 땡 !', '<NUM>지망 학교 떨어졌어', '<NUM>박<NUM>일 놀러가고 싶다', '<NUM>박<NUM>일 정도 놀러가고 싶다']\n",
      "\n",
      "['하루가 또 가네요 .', '위로해 드립니다 .', '여행은 언제나 좋죠 .', '여행은 언제나 좋죠 .']\n"
     ]
    }
   ],
   "source": [
    "print(questions[:4])\n",
    "print('')\n",
    "print(answers[:4])"
   ]
  },
  {
   "cell_type": "code",
   "execution_count": 9,
   "id": "7d5416ba-a419-4d06-9ea1-7829d50fc0da",
   "metadata": {
    "scrolled": true
   },
   "outputs": [
    {
     "name": "stdout",
     "output_type": "stream",
     "text": [
      "전체 샘플 수 : 10000\n",
      "전체 샘플 수 : 10000\n"
     ]
    }
   ],
   "source": [
    "print('전체 샘플 수 :', len(questions))\n",
    "print('전체 샘플 수 :', len(answers))"
   ]
  },
  {
   "cell_type": "code",
   "execution_count": 10,
   "id": "96584f8b-bf4d-45fd-83b5-f2eab50edffc",
   "metadata": {},
   "outputs": [],
   "source": [
    "# 왜 이걸 쓰라는걸까?\n",
    "\n",
    "tokenizer = tfds.deprecated.text.SubwordTextEncoder.build_from_corpus(questions + answers, target_vocab_size=2**13)"
   ]
  },
  {
   "cell_type": "code",
   "execution_count": 11,
   "id": "59cd893f-74ef-4572-bb79-b20460789384",
   "metadata": {},
   "outputs": [],
   "source": [
    "START_TOKEN, END_TOKEN = [tokenizer.vocab_size], [tokenizer.vocab_size + 1]"
   ]
  },
  {
   "cell_type": "code",
   "execution_count": 12,
   "id": "78f7e62b-7e88-4847-bb3d-efabc854c1b6",
   "metadata": {},
   "outputs": [
    {
     "name": "stdout",
     "output_type": "stream",
     "text": [
      "START_TOKEN의 번호 : [8836]\n",
      "END_TOKEN의 번호 : [8837]\n"
     ]
    }
   ],
   "source": [
    "print('START_TOKEN의 번호 :' ,[tokenizer.vocab_size])\n",
    "print('END_TOKEN의 번호 :' ,[tokenizer.vocab_size + 1])"
   ]
  },
  {
   "cell_type": "code",
   "execution_count": 13,
   "id": "10393a29-28c1-470f-87ab-4b80ed157a31",
   "metadata": {},
   "outputs": [
    {
     "name": "stdout",
     "output_type": "stream",
     "text": [
      "8838\n"
     ]
    }
   ],
   "source": [
    "# 시작 토큰과 종료 토큰을 고려하여 +2를 하여 단어장의 크기를 산정합니다.\n",
    "VOCAB_SIZE = tokenizer.vocab_size + 2\n",
    "print(VOCAB_SIZE)"
   ]
  },
  {
   "cell_type": "code",
   "execution_count": 14,
   "id": "5c002b52-78bb-4420-88a2-3669b6e6ef85",
   "metadata": {
    "scrolled": true
   },
   "outputs": [
    {
     "name": "stdout",
     "output_type": "stream",
     "text": [
      "가스비 장난 아님\n",
      "다음 달에는 더 절약해봐요 .\n",
      "정수 인코딩 후의 21번째 질문 샘플: [8551, 3659, 7135]\n",
      "정수 인코딩 후의 21번째 답변 샘플: [1768, 5698, 7, 4739, 116, 1]\n"
     ]
    }
   ],
   "source": [
    "# 임의의 22번째 샘플에 대해서 정수 인코딩 작업을 수행.\n",
    "# 각 토큰을 고유한 정수로 변환\n",
    "print(questions[21])\n",
    "print(answers[21])\n",
    "print('정수 인코딩 후의 21번째 질문 샘플: {}'.format(tokenizer.encode(questions[21])))\n",
    "print('정수 인코딩 후의 21번째 답변 샘플: {}'.format(tokenizer.encode(answers[21])))"
   ]
  },
  {
   "cell_type": "code",
   "execution_count": 15,
   "id": "2c519431-e248-43ff-988d-28c169b0058a",
   "metadata": {},
   "outputs": [
    {
     "name": "stdout",
     "output_type": "stream",
     "text": [
      "남자들은 좋아하는 여자가 자기보다 능력이 좋은 경우에 아무리 좋아해도 마음 접고 포기하나요 ? 사랑하는 사람과 함께하는 어제 , 오늘 , 내일이 각 다른 의미가 있다고 생각하면 유효기간이 딱히 느껴지지 않을 거예요 .\n",
      "52 68\n"
     ]
    }
   ],
   "source": [
    "#패딩을 위해 최대길이의 문자열 찾기\n",
    "max_q = max(questions, key=len)\n",
    "max_a = max(answers, key=len)\n",
    "print(max_q, max_a)\n",
    "print(len(max_q), len(max_a))"
   ]
  },
  {
   "cell_type": "code",
   "execution_count": 16,
   "id": "beea7223-c651-4b8d-8cb6-272252ca9199",
   "metadata": {
    "scrolled": true
   },
   "outputs": [
    {
     "name": "stdout",
     "output_type": "stream",
     "text": [
      "q최대 길이: 52\n",
      "q최소 길이: 1\n",
      "q평균 길이: 12.34\n",
      "q표준편차: 5.74\n",
      "a최대 길이: 68\n",
      "a최소 길이: 1\n",
      "a평균 길이: 15.56\n",
      "a표준편차: 6.38\n"
     ]
    }
   ],
   "source": [
    "q_lengths = np.array([len(question) for question in questions])\n",
    "a_lengths = np.array([len(answer) for answer in answers])\n",
    "\n",
    "q_max_length = q_lengths.max()\n",
    "q_min_length = q_lengths.min()\n",
    "q_mean_length = q_lengths.mean()\n",
    "q_std_length = q_lengths.std()\n",
    "\n",
    "a_max_length = a_lengths.max()\n",
    "a_min_length = a_lengths.min()\n",
    "a_mean_length = a_lengths.mean()\n",
    "a_std_length = a_lengths.std()\n",
    "\n",
    "print(f\"q최대 길이: {q_max_length}\")\n",
    "print(f\"q최소 길이: {q_min_length}\")\n",
    "print(f\"q평균 길이: {q_mean_length:.2f}\")\n",
    "print(f\"q표준편차: {q_std_length:.2f}\")\n",
    "\n",
    "print(f\"a최대 길이: {a_max_length}\")\n",
    "print(f\"a최소 길이: {a_min_length}\")\n",
    "print(f\"a평균 길이: {a_mean_length:.2f}\")\n",
    "print(f\"a표준편차: {a_std_length:.2f}\")"
   ]
  },
  {
   "cell_type": "code",
   "execution_count": 17,
   "id": "04f2e7a3-2467-484f-b719-a30a53bcff57",
   "metadata": {
    "scrolled": true
   },
   "outputs": [
    {
     "data": {
      "image/png": "[encoded data removed]",
      "text/plain": [
       "<Figure size 640x480 with 1 Axes>"
      ]
     },
     "metadata": {},
     "output_type": "display_data"
    },
    {
     "data": {
      "image/png": "[encoded data removed]",
      "text/plain": [
       "<Figure size 640x480 with 1 Axes>"
      ]
     },
     "metadata": {},
     "output_type": "display_data"
    }
   ],
   "source": [
    "# 박스플롯 그리기 (Q_length 기준)\n",
    "plt.subplots()\n",
    "plt.boxplot(q_lengths, vert=False, patch_artist=True)\n",
    "plt.subplots()\n",
    "plt.boxplot(a_lengths, vert=False, patch_artist=True)\n",
    "plt.show()\n"
   ]
  },
  {
   "cell_type": "code",
   "execution_count": 18,
   "id": "8c540fc0-e7cb-428c-ae29-c86a4a0229dc",
   "metadata": {
    "scrolled": true
   },
   "outputs": [
    {
     "name": "stdout",
     "output_type": "stream",
     "text": [
      "872\n",
      "1734\n"
     ]
    }
   ],
   "source": [
    "over = [length for length in q_lengths if length > 20]\n",
    "print(len(over))\n",
    "\n",
    "over = [length for length in a_lengths if length > 20]\n",
    "print(len(over))"
   ]
  },
  {
   "cell_type": "code",
   "execution_count": 19,
   "id": "765cc511-e258-405e-aa11-470d94eda8d8",
   "metadata": {},
   "outputs": [],
   "source": [
    "# 따라서... \n",
    "MAX_LENGTH = 8 + 2 # start 랑 end token 추가\n",
    "\n",
    "#원래는 30, 20으로 했었는데, 패딩이 커서 그런가 성능이 많이 안좋았음!"
   ]
  },
  {
   "cell_type": "code",
   "execution_count": 20,
   "id": "139e14ea-7002-4e83-af56-d2708253cd28",
   "metadata": {},
   "outputs": [],
   "source": [
    "# 정수 인코딩, 최대 길이를 초과하는 샘플 제거, 패딩\n",
    "def tokenize_and_filter(inputs, outputs):\n",
    "  tokenized_inputs, tokenized_outputs = [], []\n",
    "  \n",
    "  for (sentence1, sentence2) in zip(inputs, outputs):\n",
    "    # 정수 인코딩 과정에서 시작 토큰과 종료 토큰을 추가\n",
    "    sentence1 = START_TOKEN + tokenizer.encode(sentence1) + END_TOKEN\n",
    "    sentence2 = START_TOKEN + tokenizer.encode(sentence2) + END_TOKEN\n",
    "\n",
    "    # 최대 길이 이하인 경우에만 데이터셋으로 허용\n",
    "    if len(sentence1) <= MAX_LENGTH and len(sentence2) <= MAX_LENGTH:\n",
    "      tokenized_inputs.append(sentence1)\n",
    "      tokenized_outputs.append(sentence2)\n",
    "  \n",
    "  # 최대 길이로 모든 데이터셋을 패딩\n",
    "  tokenized_inputs = tf.keras.preprocessing.sequence.pad_sequences(\n",
    "      tokenized_inputs, maxlen=MAX_LENGTH, padding='post')\n",
    "  tokenized_outputs = tf.keras.preprocessing.sequence.pad_sequences(\n",
    "      tokenized_outputs, maxlen=MAX_LENGTH, padding='post')\n",
    "  \n",
    "  return tokenized_inputs, tokenized_outputs"
   ]
  },
  {
   "cell_type": "code",
   "execution_count": 21,
   "id": "d6112023-1dad-470b-9b0a-32f740efdee4",
   "metadata": {},
   "outputs": [
    {
     "name": "stdout",
     "output_type": "stream",
     "text": [
      "필터링 전의 질문 샘플 개수: 10000\n",
      "필터링 전의 답변 샘플 개수: 10000\n",
      "단어장의 크기 : 8838\n",
      "필터링 후의 질문 샘플 개수: 8237\n",
      "필터링 후의 답변 샘플 개수: 8237\n"
     ]
    }
   ],
   "source": [
    "print('필터링 전의 질문 샘플 개수: {}'.format(len(questions)))\n",
    "print('필터링 전의 답변 샘플 개수: {}'.format(len(answers)))\n",
    "filtered_Q, filtered_A = tokenize_and_filter(questions, answers)\n",
    "print('단어장의 크기 :',(VOCAB_SIZE))\n",
    "print('필터링 후의 질문 샘플 개수: {}'.format(len(filtered_Q)))\n",
    "print('필터링 후의 답변 샘플 개수: {}'.format(len(filtered_A)))"
   ]
  },
  {
   "cell_type": "code",
   "execution_count": 22,
   "id": "7bfcdb68-0b8b-4556-b933-a6c69907ad2b",
   "metadata": {},
   "outputs": [],
   "source": [
    "BATCH_SIZE = 64\n",
    "BUFFER_SIZE = 10000\n",
    "\n",
    "# 디코더는 이전의 target을 다음의 input으로 사용합니다.\n",
    "# 이에 따라 outputs에서는 START_TOKEN을 제거하겠습니다.\n",
    "dataset = tf.data.Dataset.from_tensor_slices((\n",
    "    {\n",
    "        'inputs': filtered_Q,\n",
    "        'dec_inputs': filtered_A[:, :-1]\n",
    "    },\n",
    "    {\n",
    "        'outputs': filtered_A[:, 1:]\n",
    "    },\n",
    "))\n",
    "\n",
    "dataset = dataset.cache()\n",
    "dataset = dataset.shuffle(BUFFER_SIZE)\n",
    "dataset = dataset.batch(BATCH_SIZE)\n",
    "dataset = dataset.prefetch(tf.data.experimental.AUTOTUNE)"
   ]
  },
  {
   "cell_type": "code",
   "execution_count": 23,
   "id": "7dc67718-04a5-4711-88f0-230c94b817b2",
   "metadata": {},
   "outputs": [],
   "source": [
    "# 포지셔널 인코딩 레이어\n",
    "class PositionalEncoding(tf.keras.layers.Layer):\n",
    "\n",
    "  def __init__(self, position, d_model):\n",
    "    super(PositionalEncoding, self).__init__()\n",
    "    self.pos_encoding = self.positional_encoding(position, d_model)\n",
    "\n",
    "  def get_angles(self, position, i, d_model):\n",
    "    angles = 1 / tf.pow(10000, (2 * (i // 2)) / tf.cast(d_model, tf.float32))\n",
    "    return position * angles\n",
    "\n",
    "  def positional_encoding(self, position, d_model):\n",
    "    # 각도 배열 생성\n",
    "    angle_rads = self.get_angles(\n",
    "        position=tf.range(position, dtype=tf.float32)[:, tf.newaxis],\n",
    "        i=tf.range(d_model, dtype=tf.float32)[tf.newaxis, :],\n",
    "        d_model=d_model)\n",
    "\n",
    "    # 배열의 짝수 인덱스에는 sin 함수 적용\n",
    "    sines = tf.math.sin(angle_rads[:, 0::2])\n",
    "    # 배열의 홀수 인덱스에는 cosine 함수 적용\n",
    "    cosines = tf.math.cos(angle_rads[:, 1::2])\n",
    "\n",
    "    # sin과 cosine이 교차되도록 재배열\n",
    "    pos_encoding = tf.stack([sines, cosines], axis=0)\n",
    "    pos_encoding = tf.transpose(pos_encoding,[1, 2, 0]) \n",
    "    pos_encoding = tf.reshape(pos_encoding, [position, d_model])\n",
    "\n",
    "    pos_encoding = pos_encoding[tf.newaxis, ...]\n",
    "    return tf.cast(pos_encoding, tf.float32)\n",
    "\n",
    "  def call(self, inputs):\n",
    "    return inputs + self.pos_encoding[:, :tf.shape(inputs)[1], :]"
   ]
  },
  {
   "cell_type": "code",
   "execution_count": 24,
   "id": "ddd83933-2c27-4160-843b-c07cbbfbedb5",
   "metadata": {},
   "outputs": [],
   "source": [
    "# 스케일드 닷 프로덕트 어텐션 함수\n",
    "def scaled_dot_product_attention(query, key, value, mask):\n",
    "  # 어텐션 가중치는 Q와 K의 닷 프로덕트\n",
    "  matmul_qk = tf.matmul(query, key, transpose_b=True)\n",
    "\n",
    "  # 가중치를 정규화\n",
    "  depth = tf.cast(tf.shape(key)[-1], tf.float32)\n",
    "  logits = matmul_qk / tf.math.sqrt(depth)\n",
    "\n",
    "  # 패딩에 마스크 추가\n",
    "  if mask is not None:\n",
    "    logits += (mask * -1e9)\n",
    "\n",
    "  # softmax적용\n",
    "  attention_weights = tf.nn.softmax(logits, axis=-1)\n",
    "\n",
    "  # 최종 어텐션은 가중치와 V의 닷 프로덕트\n",
    "  output = tf.matmul(attention_weights, value)\n",
    "  return output"
   ]
  },
  {
   "cell_type": "code",
   "execution_count": 25,
   "id": "90e07489-c03f-43c4-90a7-3c40c7721df4",
   "metadata": {},
   "outputs": [],
   "source": [
    "# 멀티헤드 어텐션\n",
    "class MultiHeadAttention(tf.keras.layers.Layer):\n",
    "\n",
    "  def __init__(self, d_model, num_heads, name=\"multi_head_attention\"):\n",
    "    super(MultiHeadAttention, self).__init__(name=name)\n",
    "    self.num_heads = num_heads\n",
    "    self.d_model = d_model\n",
    "\n",
    "    assert d_model % self.num_heads == 0\n",
    "\n",
    "    self.depth = d_model // self.num_heads\n",
    "\n",
    "    self.query_dense = tf.keras.layers.Dense(units=d_model)\n",
    "    self.key_dense = tf.keras.layers.Dense(units=d_model)\n",
    "    self.value_dense = tf.keras.layers.Dense(units=d_model)\n",
    "\n",
    "    self.dense = tf.keras.layers.Dense(units=d_model)\n",
    "\n",
    "  def split_heads(self, inputs, batch_size):\n",
    "    inputs = tf.reshape(\n",
    "        inputs, shape=(batch_size, -1, self.num_heads, self.depth))\n",
    "    return tf.transpose(inputs, perm=[0, 2, 1, 3])\n",
    "\n",
    "  def call(self, inputs):\n",
    "    query, key, value, mask = inputs['query'], inputs['key'], inputs[\n",
    "        'value'], inputs['mask']\n",
    "    batch_size = tf.shape(query)[0]\n",
    "\n",
    "    # Q, K, V에 각각 Dense를 적용합니다\n",
    "    query = self.query_dense(query)  # (batch_size, seq_len, d_model)\n",
    "    key = self.key_dense(key)        # (batch_size, seq_len, d_model)\n",
    "    value = self.value_dense(value)  # (batch_size, seq_len, d_model)\n",
    "\n",
    "    #  멀티 헤드로 분할 (batch, num_heads, seq_len, depth)\n",
    "    query = self.split_heads(query, batch_size)\n",
    "    key = self.split_heads(key, batch_size)\n",
    "    value = self.split_heads(value, batch_size)\n",
    "\n",
    "    # 스케일드 닷 프로덕트 어텐션 함수\n",
    "    scaled_attention = scaled_dot_product_attention(query, key, value, mask)\n",
    "\n",
    "    scaled_attention = tf.transpose(scaled_attention, perm=[0, 2, 1, 3])\n",
    "\n",
    "    # 어텐션 연산 후에 각 결과를 다시 연결(concatenate)합니다\n",
    "    concat_attention = tf.reshape(scaled_attention,\n",
    "                                  (batch_size, -1, self.d_model))\n",
    "\n",
    "    # 최종 결과에도 Dense를 한 번 더 적용합니다\n",
    "    outputs = self.dense(concat_attention)\n",
    "\n",
    "    return outputs"
   ]
  },
  {
   "cell_type": "code",
   "execution_count": 26,
   "id": "aed16e3a-6079-4c8f-bed3-4ef4d01b66de",
   "metadata": {},
   "outputs": [],
   "source": [
    "def create_padding_mask(x):\n",
    "  mask = tf.cast(tf.math.equal(x, 0), tf.float32)\n",
    "  # (batch_size, 1, 1, sequence length)\n",
    "  return mask[:, tf.newaxis, tf.newaxis, :]"
   ]
  },
  {
   "cell_type": "code",
   "execution_count": 27,
   "id": "06fee731-e5d2-4fc8-81b9-d8325432a90d",
   "metadata": {},
   "outputs": [],
   "source": [
    "def create_look_ahead_mask(x):\n",
    "  seq_len = tf.shape(x)[1]\n",
    "  look_ahead_mask = 1 - tf.linalg.band_part(tf.ones((seq_len, seq_len)), -1, 0)\n",
    "  padding_mask = create_padding_mask(x)\n",
    "  return tf.maximum(look_ahead_mask, padding_mask)"
   ]
  },
  {
   "cell_type": "code",
   "execution_count": 28,
   "id": "e0d25c0a-1498-4332-894d-a5a9f96c8e06",
   "metadata": {},
   "outputs": [],
   "source": [
    "# 인코더 하나의 레이어를 함수로 구현.\n",
    "# 이 하나의 레이어 안에는 두 개의 서브 레이어가 존재합니다.\n",
    "def encoder_layer(units, d_model, num_heads, dropout, name=\"encoder_layer\"):\n",
    "  inputs = tf.keras.Input(shape=(None, d_model), name=\"inputs\")\n",
    "\n",
    "  # 패딩 마스크 사용\n",
    "  padding_mask = tf.keras.Input(shape=(1, 1, None), name=\"padding_mask\")\n",
    "\n",
    "  # 첫 번째 서브 레이어 : 멀티 헤드 어텐션 수행 (셀프 어텐션)\n",
    "  attention = MultiHeadAttention(\n",
    "      d_model, num_heads, name=\"attention\")({\n",
    "          'query': inputs,\n",
    "          'key': inputs,\n",
    "          'value': inputs,\n",
    "          'mask': padding_mask\n",
    "      })\n",
    "\n",
    "  # 어텐션의 결과는 Dropout과 Layer Normalization이라는 훈련을 돕는 테크닉을 수행\n",
    "  attention = tf.keras.layers.Dropout(rate=dropout)(attention)\n",
    "  attention = tf.keras.layers.LayerNormalization(\n",
    "      epsilon=1e-6)(inputs + attention)\n",
    "\n",
    "  # 두 번째 서브 레이어 : 2개의 완전연결층\n",
    "  outputs = tf.keras.layers.Dense(units=units, activation='relu')(attention)\n",
    "  outputs = tf.keras.layers.Dense(units=d_model)(outputs)\n",
    "\n",
    "  # 완전연결층의 결과는 Dropout과 LayerNormalization이라는 훈련을 돕는 테크닉을 수행\n",
    "  outputs = tf.keras.layers.Dropout(rate=dropout)(outputs)\n",
    "  outputs = tf.keras.layers.LayerNormalization(\n",
    "      epsilon=1e-6)(attention + outputs)\n",
    "\n",
    "  return tf.keras.Model(\n",
    "      inputs=[inputs, padding_mask], outputs=outputs, name=name)"
   ]
  },
  {
   "cell_type": "code",
   "execution_count": 29,
   "id": "b3dc58eb-a63c-4c91-b745-428ba238220d",
   "metadata": {},
   "outputs": [],
   "source": [
    "def encoder(vocab_size,\n",
    "            num_layers,\n",
    "            units,\n",
    "            d_model,\n",
    "            num_heads,\n",
    "            dropout,\n",
    "            name=\"encoder\"):\n",
    "  inputs = tf.keras.Input(shape=(None,), name=\"inputs\")\n",
    "\n",
    "  # 패딩 마스크 사용\n",
    "  padding_mask = tf.keras.Input(shape=(1, 1, None), name=\"padding_mask\")\n",
    "\n",
    "  # 임베딩 레이어\n",
    "  embeddings = tf.keras.layers.Embedding(vocab_size, d_model)(inputs)\n",
    "  embeddings *= tf.math.sqrt(tf.cast(d_model, tf.float32))\n",
    "\n",
    "  # 포지셔널 인코딩\n",
    "  embeddings = PositionalEncoding(vocab_size, d_model)(embeddings)\n",
    "\n",
    "  outputs = tf.keras.layers.Dropout(rate=dropout)(embeddings)\n",
    "\n",
    "  # num_layers만큼 쌓아올린 인코더의 층.\n",
    "  for i in range(num_layers):\n",
    "    outputs = encoder_layer(\n",
    "        units=units,\n",
    "        d_model=d_model,\n",
    "        num_heads=num_heads,\n",
    "        dropout=dropout,\n",
    "        name=\"encoder_layer_{}\".format(i),\n",
    "    )([outputs, padding_mask])\n",
    "\n",
    "  return tf.keras.Model(\n",
    "      inputs=[inputs, padding_mask], outputs=outputs, name=name)"
   ]
  },
  {
   "cell_type": "code",
   "execution_count": 30,
   "id": "ddcba6d8-7480-4699-9637-10dc62798a4f",
   "metadata": {},
   "outputs": [],
   "source": [
    "# 디코더 하나의 레이어를 함수로 구현.\n",
    "# 이 하나의 레이어 안에는 세 개의 서브 레이어가 존재합니다.\n",
    "def decoder_layer(units, d_model, num_heads, dropout, name=\"decoder_layer\"):\n",
    "  inputs = tf.keras.Input(shape=(None, d_model), name=\"inputs\")\n",
    "  enc_outputs = tf.keras.Input(shape=(None, d_model), name=\"encoder_outputs\")\n",
    "  look_ahead_mask = tf.keras.Input(\n",
    "      shape=(1, None, None), name=\"look_ahead_mask\")\n",
    "  padding_mask = tf.keras.Input(shape=(1, 1, None), name='padding_mask')\n",
    "\n",
    "  # 첫 번째 서브 레이어 : 멀티 헤드 어텐션 수행 (셀프 어텐션)\n",
    "  attention1 = MultiHeadAttention(\n",
    "      d_model, num_heads, name=\"attention_1\")(inputs={\n",
    "          'query': inputs,\n",
    "          'key': inputs,\n",
    "          'value': inputs,\n",
    "          'mask': look_ahead_mask\n",
    "      })\n",
    "\n",
    "  # 멀티 헤드 어텐션의 결과는 LayerNormalization이라는 훈련을 돕는 테크닉을 수행\n",
    "  attention1 = tf.keras.layers.LayerNormalization(\n",
    "      epsilon=1e-6)(attention1 + inputs)\n",
    "\n",
    "  # 두 번째 서브 레이어 : 마스크드 멀티 헤드 어텐션 수행 (인코더-디코더 어텐션)\n",
    "  attention2 = MultiHeadAttention(\n",
    "      d_model, num_heads, name=\"attention_2\")(inputs={\n",
    "          'query': attention1,\n",
    "          'key': enc_outputs,\n",
    "          'value': enc_outputs,\n",
    "          'mask': padding_mask\n",
    "      })\n",
    "\n",
    "  # 마스크드 멀티 헤드 어텐션의 결과는\n",
    "  # Dropout과 LayerNormalization이라는 훈련을 돕는 테크닉을 수행\n",
    "  attention2 = tf.keras.layers.Dropout(rate=dropout)(attention2)\n",
    "  attention2 = tf.keras.layers.LayerNormalization(\n",
    "      epsilon=1e-6)(attention2 + attention1)\n",
    "\n",
    "  # 세 번째 서브 레이어 : 2개의 완전연결층\n",
    "  outputs = tf.keras.layers.Dense(units=units, activation='relu')(attention2)\n",
    "  outputs = tf.keras.layers.Dense(units=d_model)(outputs)\n",
    "\n",
    "  # 완전연결층의 결과는 Dropout과 LayerNormalization 수행\n",
    "  outputs = tf.keras.layers.Dropout(rate=dropout)(outputs)\n",
    "  outputs = tf.keras.layers.LayerNormalization(\n",
    "      epsilon=1e-6)(outputs + attention2)\n",
    "\n",
    "  return tf.keras.Model(\n",
    "      inputs=[inputs, enc_outputs, look_ahead_mask, padding_mask],\n",
    "      outputs=outputs,\n",
    "      name=name)"
   ]
  },
  {
   "cell_type": "code",
   "execution_count": 31,
   "id": "78a715f3-5eaf-4d48-b270-f48f878ac09e",
   "metadata": {},
   "outputs": [],
   "source": [
    "def decoder(vocab_size,\n",
    "            num_layers,\n",
    "            units,\n",
    "            d_model,\n",
    "            num_heads,\n",
    "            dropout,\n",
    "            name='decoder'):\n",
    "  inputs = tf.keras.Input(shape=(None,), name='inputs')\n",
    "  enc_outputs = tf.keras.Input(shape=(None, d_model), name='encoder_outputs')\n",
    "  look_ahead_mask = tf.keras.Input(\n",
    "      shape=(1, None, None), name='look_ahead_mask')\n",
    "\n",
    "  # 패딩 마스크\n",
    "  padding_mask = tf.keras.Input(shape=(1, 1, None), name='padding_mask')\n",
    "  \n",
    "  # 임베딩 레이어\n",
    "  embeddings = tf.keras.layers.Embedding(vocab_size, d_model)(inputs)\n",
    "  embeddings *= tf.math.sqrt(tf.cast(d_model, tf.float32))\n",
    "\n",
    "  # 포지셔널 인코딩\n",
    "  embeddings = PositionalEncoding(vocab_size, d_model)(embeddings)\n",
    "\n",
    "  # Dropout이라는 훈련을 돕는 테크닉을 수행\n",
    "  outputs = tf.keras.layers.Dropout(rate=dropout)(embeddings)\n",
    "\n",
    "  for i in range(num_layers):\n",
    "    outputs = decoder_layer(\n",
    "        units=units,\n",
    "        d_model=d_model,\n",
    "        num_heads=num_heads,\n",
    "        dropout=dropout,\n",
    "        name='decoder_layer_{}'.format(i),\n",
    "    )(inputs=[outputs, enc_outputs, look_ahead_mask, padding_mask])\n",
    "\n",
    "  return tf.keras.Model(\n",
    "      inputs=[inputs, enc_outputs, look_ahead_mask, padding_mask],\n",
    "      outputs=outputs,\n",
    "      name=name)"
   ]
  },
  {
   "cell_type": "code",
   "execution_count": 32,
   "id": "5f44eedd-71ca-4630-babc-c3ad2fe7e37e",
   "metadata": {},
   "outputs": [],
   "source": [
    "def transformer(vocab_size,\n",
    "                num_layers,\n",
    "                units,\n",
    "                d_model,\n",
    "                num_heads,\n",
    "                dropout,\n",
    "                name=\"transformer\"):\n",
    "  inputs = tf.keras.Input(shape=(None,), name=\"inputs\")\n",
    "  dec_inputs = tf.keras.Input(shape=(None,), name=\"dec_inputs\")\n",
    "\n",
    "  # 인코더에서 패딩을 위한 마스크\n",
    "  enc_padding_mask = tf.keras.layers.Lambda(\n",
    "      create_padding_mask, output_shape=(1, 1, None),\n",
    "      name='enc_padding_mask')(inputs)\n",
    "\n",
    "  # 디코더에서 미래의 토큰을 마스크 하기 위해서 사용합니다.\n",
    "  # 내부적으로 패딩 마스크도 포함되어져 있습니다.\n",
    "  look_ahead_mask = tf.keras.layers.Lambda(\n",
    "      create_look_ahead_mask,\n",
    "      output_shape=(1, None, None),\n",
    "      name='look_ahead_mask')(dec_inputs)\n",
    "\n",
    "  # 두 번째 어텐션 블록에서 인코더의 벡터들을 마스킹\n",
    "  # 디코더에서 패딩을 위한 마스크\n",
    "  dec_padding_mask = tf.keras.layers.Lambda(\n",
    "      create_padding_mask, output_shape=(1, 1, None),\n",
    "      name='dec_padding_mask')(inputs)\n",
    "\n",
    "  # 인코더\n",
    "  enc_outputs = encoder(\n",
    "      vocab_size=vocab_size,\n",
    "      num_layers=num_layers,\n",
    "      units=units,\n",
    "      d_model=d_model,\n",
    "      num_heads=num_heads,\n",
    "      dropout=dropout,\n",
    "  )(inputs=[inputs, enc_padding_mask])\n",
    "\n",
    "  # 디코더\n",
    "  dec_outputs = decoder(\n",
    "      vocab_size=vocab_size,\n",
    "      num_layers=num_layers,\n",
    "      units=units,\n",
    "      d_model=d_model,\n",
    "      num_heads=num_heads,\n",
    "      dropout=dropout,\n",
    "  )(inputs=[dec_inputs, enc_outputs, look_ahead_mask, dec_padding_mask])\n",
    "\n",
    "  # 완전연결층\n",
    "  outputs = tf.keras.layers.Dense(units=vocab_size, name=\"outputs\")(dec_outputs)\n",
    "\n",
    "  return tf.keras.Model(inputs=[inputs, dec_inputs], outputs=outputs, name=name)"
   ]
  },
  {
   "cell_type": "code",
   "execution_count": 33,
   "id": "42d5e607-13fa-4e75-a447-7fd1e5af5979",
   "metadata": {},
   "outputs": [
    {
     "name": "stdout",
     "output_type": "stream",
     "text": [
      "Model: \"transformer\"\n",
      "__________________________________________________________________________________________________\n",
      " Layer (type)                   Output Shape         Param #     Connected to                     \n",
      "==================================================================================================\n",
      " inputs (InputLayer)            [(None, None)]       0           []                               \n",
      "                                                                                                  \n",
      " dec_inputs (InputLayer)        [(None, None)]       0           []                               \n",
      "                                                                                                  \n",
      " enc_padding_mask (Lambda)      (None, 1, 1, None)   0           ['inputs[0][0]']                 \n",
      "                                                                                                  \n",
      " encoder (Functional)           (None, None, 256)    3316736     ['inputs[0][0]',                 \n",
      "                                                                  'enc_padding_mask[0][0]']       \n",
      "                                                                                                  \n",
      " look_ahead_mask (Lambda)       (None, 1, None, Non  0           ['dec_inputs[0][0]']             \n",
      "                                e)                                                                \n",
      "                                                                                                  \n",
      " dec_padding_mask (Lambda)      (None, 1, 1, None)   0           ['inputs[0][0]']                 \n",
      "                                                                                                  \n",
      " decoder (Functional)           (None, None, 256)    3844096     ['dec_inputs[0][0]',             \n",
      "                                                                  'encoder[0][0]',                \n",
      "                                                                  'look_ahead_mask[0][0]',        \n",
      "                                                                  'dec_padding_mask[0][0]']       \n",
      "                                                                                                  \n",
      " outputs (Dense)                (None, None, 8838)   2271366     ['decoder[0][0]']                \n",
      "                                                                                                  \n",
      "==================================================================================================\n",
      "Total params: 9,432,198\n",
      "Trainable params: 9,432,198\n",
      "Non-trainable params: 0\n",
      "__________________________________________________________________________________________________\n"
     ]
    }
   ],
   "source": [
    "tf.keras.backend.clear_session()\n",
    "\n",
    "# 하이퍼파라미터\n",
    "NUM_LAYERS = 2 # 인코더와 디코더의 층의 개수\n",
    "D_MODEL = 256 # 인코더와 디코더 내부의 입, 출력의 고정 차원\n",
    "NUM_HEADS = 8 # 멀티 헤드 어텐션에서의 헤드 수 \n",
    "UNITS = 512 # 피드 포워드 신경망의 은닉층의 크기\n",
    "DROPOUT = 0.1 # 드롭아웃의 비율\n",
    "\n",
    "model = transformer(\n",
    "    vocab_size=VOCAB_SIZE,\n",
    "    num_layers=NUM_LAYERS,\n",
    "    units=UNITS,\n",
    "    d_model=D_MODEL,\n",
    "    num_heads=NUM_HEADS,\n",
    "    dropout=DROPOUT)\n",
    "\n",
    "model.summary()"
   ]
  },
  {
   "cell_type": "code",
   "execution_count": 34,
   "id": "45c71f2e-a897-48f6-ad56-4ad5cd367d9a",
   "metadata": {},
   "outputs": [
    {
     "data": {
      "image/png": "[encoded data removed]",
      "text/plain": [
       "<IPython.core.display.Image object>"
      ]
     },
     "execution_count": 34,
     "metadata": {},
     "output_type": "execute_result"
    }
   ],
   "source": [
    "keras.utils.plot_model(model)"
   ]
  },
  {
   "cell_type": "code",
   "execution_count": 35,
   "id": "42493e33-146d-499c-9407-8434fff18982",
   "metadata": {},
   "outputs": [],
   "source": [
    "def loss_function(y_true, y_pred):\n",
    "  y_true = tf.reshape(y_true, shape=(-1, MAX_LENGTH - 1))\n",
    "  \n",
    "  loss = tf.keras.losses.SparseCategoricalCrossentropy(\n",
    "      from_logits=True, reduction='none')(y_true, y_pred)\n",
    "\n",
    "  mask = tf.cast(tf.not_equal(y_true, 0), tf.float32)\n",
    "  loss = tf.multiply(loss, mask)\n",
    "\n",
    "  return tf.reduce_mean(loss)"
   ]
  },
  {
   "cell_type": "code",
   "execution_count": 36,
   "id": "ef194c59-ee88-4d5b-8458-74fc0053fe24",
   "metadata": {},
   "outputs": [],
   "source": [
    "class CustomSchedule(tf.keras.optimizers.schedules.LearningRateSchedule):\n",
    "\n",
    "  def __init__(self, d_model, warmup_steps=4000):\n",
    "    super(CustomSchedule, self).__init__()\n",
    "\n",
    "    self.d_model = d_model\n",
    "    self.d_model = tf.cast(self.d_model, tf.float32)\n",
    "\n",
    "    self.warmup_steps = warmup_steps\n",
    "\n",
    "  def __call__(self, step):\n",
    "    arg1 = tf.math.rsqrt(step)\n",
    "    arg2 = step * (self.warmup_steps**-1.5)\n",
    "\n",
    "    return tf.math.rsqrt(self.d_model) * tf.math.minimum(arg1, arg2)"
   ]
  },
  {
   "cell_type": "code",
   "execution_count": 37,
   "id": "5eb2860b-8376-4d35-b50e-9e5a51a5e2c5",
   "metadata": {},
   "outputs": [
    {
     "data": {
      "text/plain": [
       "Text(0.5, 0, 'Train Step')"
      ]
     },
     "execution_count": 37,
     "metadata": {},
     "output_type": "execute_result"
    },
    {
     "data": {
      "image/png": "[encoded data removed]",
      "text/plain": [
       "<Figure size 640x480 with 1 Axes>"
      ]
     },
     "metadata": {},
     "output_type": "display_data"
    }
   ],
   "source": [
    "sample_learning_rate = CustomSchedule(d_model=128)\n",
    "\n",
    "plt.plot(sample_learning_rate(tf.range(200000, dtype=tf.float32)))\n",
    "plt.ylabel(\"Learning Rate\")\n",
    "plt.xlabel(\"Train Step\")"
   ]
  },
  {
   "cell_type": "code",
   "execution_count": 38,
   "id": "20161d6c-43b0-4c27-a443-a983e5dde623",
   "metadata": {},
   "outputs": [],
   "source": [
    "learning_rate = CustomSchedule(D_MODEL)\n",
    "\n",
    "optimizer = tf.keras.optimizers.Adam(\n",
    "    learning_rate, beta_1=0.9, beta_2=0.98, epsilon=1e-9)\n",
    "\n",
    "def accuracy(y_true, y_pred):\n",
    "  y_true = tf.reshape(y_true, shape=(-1, MAX_LENGTH - 1))\n",
    "  return tf.keras.metrics.sparse_categorical_accuracy(y_true, y_pred)\n",
    "\n",
    "model.compile(optimizer=optimizer, loss=loss_function, metrics=[accuracy])"
   ]
  },
  {
   "cell_type": "code",
   "execution_count": 98,
   "id": "d02082c7-9b85-4875-82af-d295c7381ecb",
   "metadata": {
    "scrolled": true
   },
   "outputs": [
    {
     "name": "stdout",
     "output_type": "stream",
     "text": [
      "Epoch 1/100\n",
      "129/129 [==============================] - 11s 35ms/step - loss: 5.5768 - accuracy: 0.1120\n",
      "Epoch 2/100\n",
      "129/129 [==============================] - 4s 34ms/step - loss: 4.8139 - accuracy: 0.2110\n",
      "Epoch 3/100\n",
      "129/129 [==============================] - 5s 35ms/step - loss: 4.0245 - accuracy: 0.2143\n",
      "Epoch 4/100\n",
      "129/129 [==============================] - 5s 36ms/step - loss: 3.5353 - accuracy: 0.2170\n",
      "Epoch 5/100\n",
      "129/129 [==============================] - 4s 34ms/step - loss: 3.2928 - accuracy: 0.2260\n",
      "Epoch 6/100\n",
      "129/129 [==============================] - 4s 34ms/step - loss: 3.1107 - accuracy: 0.2363\n",
      "Epoch 7/100\n",
      "129/129 [==============================] - 4s 33ms/step - loss: 2.9292 - accuracy: 0.2481\n",
      "Epoch 8/100\n",
      "129/129 [==============================] - 4s 34ms/step - loss: 2.7371 - accuracy: 0.2651\n",
      "Epoch 9/100\n",
      "129/129 [==============================] - 4s 33ms/step - loss: 2.5222 - accuracy: 0.2887\n",
      "Epoch 10/100\n",
      "129/129 [==============================] - 4s 33ms/step - loss: 2.2859 - accuracy: 0.3178\n",
      "Epoch 11/100\n",
      "129/129 [==============================] - 4s 33ms/step - loss: 2.0252 - accuracy: 0.3510\n",
      "Epoch 12/100\n",
      "129/129 [==============================] - 5s 36ms/step - loss: 1.7549 - accuracy: 0.3872\n",
      "Epoch 13/100\n",
      "129/129 [==============================] - 5s 35ms/step - loss: 1.4836 - accuracy: 0.4234\n",
      "Epoch 14/100\n",
      "129/129 [==============================] - 5s 35ms/step - loss: 1.2163 - accuracy: 0.4604\n",
      "Epoch 15/100\n",
      "129/129 [==============================] - 5s 35ms/step - loss: 0.9693 - accuracy: 0.4965\n",
      "Epoch 16/100\n",
      "129/129 [==============================] - 4s 34ms/step - loss: 0.7439 - accuracy: 0.5321\n",
      "Epoch 17/100\n",
      "129/129 [==============================] - 4s 35ms/step - loss: 0.5567 - accuracy: 0.5621\n",
      "Epoch 18/100\n",
      "129/129 [==============================] - 5s 37ms/step - loss: 0.4041 - accuracy: 0.5881\n",
      "Epoch 19/100\n",
      "129/129 [==============================] - 4s 34ms/step - loss: 0.2835 - accuracy: 0.6090\n",
      "Epoch 20/100\n",
      "129/129 [==============================] - 5s 35ms/step - loss: 0.1993 - accuracy: 0.6237\n",
      "Epoch 21/100\n",
      "129/129 [==============================] - 4s 34ms/step - loss: 0.1438 - accuracy: 0.6316\n",
      "Epoch 22/100\n",
      "129/129 [==============================] - 4s 34ms/step - loss: 0.1118 - accuracy: 0.6354\n",
      "Epoch 23/100\n",
      "129/129 [==============================] - 4s 34ms/step - loss: 0.0933 - accuracy: 0.6380\n",
      "Epoch 24/100\n",
      "129/129 [==============================] - 5s 36ms/step - loss: 0.0784 - accuracy: 0.6397\n",
      "Epoch 25/100\n",
      "129/129 [==============================] - 4s 35ms/step - loss: 0.0760 - accuracy: 0.6390\n",
      "Epoch 26/100\n",
      "129/129 [==============================] - 4s 34ms/step - loss: 0.0704 - accuracy: 0.6395\n"
     ]
    }
   ],
   "source": [
    "from tensorflow.keras import callbacks\n",
    "es = keras.callbacks.EarlyStopping(monitor='accuracy',patience=2)\n",
    "\n",
    "EPOCHS = 100\n",
    "history = model.fit(dataset, epochs=EPOCHS, callbacks=[es], verbose=1)"
   ]
  },
  {
   "cell_type": "code",
   "execution_count": 99,
   "id": "aec5a941-5f62-4262-9616-2f5815c0a661",
   "metadata": {},
   "outputs": [
    {
     "data": {
      "image/png": "[encoded data removed]",
      "text/plain": [
       "<Figure size 640x480 with 1 Axes>"
      ]
     },
     "metadata": {},
     "output_type": "display_data"
    },
    {
     "data": {
      "image/png": "[encoded data removed]",
      "text/plain": [
       "<Figure size 640x480 with 1 Axes>"
      ]
     },
     "metadata": {},
     "output_type": "display_data"
    }
   ],
   "source": [
    "plt.plot(history.history['loss'])\n",
    "plt.show()\n",
    "\n",
    "plt.plot(history.history['accuracy'])\n",
    "plt.axhline(y=1, color='r', linestyle='--')\n",
    "plt.show()"
   ]
  },
  {
   "cell_type": "code",
   "execution_count": 39,
   "id": "bf20b14b-a862-46cf-9618-5b5474a20367",
   "metadata": {},
   "outputs": [],
   "source": [
    "def sentence_generation(sentence):\n",
    "  # 입력 문장에 대해서 디코더를 동작 시켜 예측된 정수 시퀀스를 리턴받습니다.\n",
    "  prediction = decoder_inference(sentence)\n",
    "\n",
    "  # 정수 시퀀스를 다시 텍스트 시퀀스로 변환합니다.\n",
    "  predicted_sentence = tokenizer.decode(\n",
    "      [i for i in prediction if i < tokenizer.vocab_size])\n",
    "\n",
    "  print('입력 : {}'.format(sentence))\n",
    "  print('출력 : {}'.format(predicted_sentence))\n",
    "\n",
    "  return predicted_sentence"
   ]
  },
  {
   "cell_type": "code",
   "execution_count": 40,
   "id": "506749b4-b0a2-4da8-ae0b-148ef1a034cc",
   "metadata": {},
   "outputs": [],
   "source": [
    "def decoder_inference(sentence):\n",
    "  sentence = preprocess_sentence(sentence)\n",
    "\n",
    "  # 입력된 문장을 정수 인코딩 후, 시작 토큰과 종료 토큰을 앞뒤로 추가.\n",
    "  # ex) Where have you been? → [[8331   86   30    5 1059    7 8332]]\n",
    "  sentence = tf.expand_dims(\n",
    "      START_TOKEN + tokenizer.encode(sentence) + END_TOKEN, axis=0)\n",
    "\n",
    "  # 디코더의 현재까지의 예측한 출력 시퀀스가 지속적으로 저장되는 변수.\n",
    "  # 처음에는 예측한 내용이 없음으로 시작 토큰만 별도 저장. ex) 8331\n",
    "  output_sequence = tf.expand_dims(START_TOKEN, 0)\n",
    "\n",
    "  # 디코더의 인퍼런스 단계\n",
    "  for i in range(MAX_LENGTH):\n",
    "    # 디코더는 최대 MAX_LENGTH의 길이만큼 다음 단어 예측을 반복합니다.\n",
    "    predictions = model(inputs=[sentence, output_sequence], training=False)\n",
    "    predictions = predictions[:, -1:, :]\n",
    "\n",
    "    # 현재 예측한 단어의 정수\n",
    "    predicted_id = tf.cast(tf.argmax(predictions, axis=-1), tf.int32)\n",
    "\n",
    "    # 만약 현재 예측한 단어가 종료 토큰이라면 for문을 종료\n",
    "    if tf.equal(predicted_id, END_TOKEN[0]):\n",
    "      break\n",
    "\n",
    "    # 예측한 단어들은 지속적으로 output_sequence에 추가됩니다.\n",
    "    # 이 output_sequence는 다시 디코더의 입력이 됩니다.\n",
    "    output_sequence = tf.concat([output_sequence, predicted_id], axis=-1)\n",
    "\n",
    "  return tf.squeeze(output_sequence, axis=0)"
   ]
  },
  {
   "cell_type": "code",
   "execution_count": 102,
   "id": "b6e81fc1-59a7-4592-b3d0-950cae7203b7",
   "metadata": {},
   "outputs": [
    {
     "name": "stdout",
     "output_type": "stream",
     "text": [
      "입력 : 오늘은 무슨 날이야?\n",
      "출력 : 설마 기억 못하시는 거예요 ?\n"
     ]
    },
    {
     "data": {
      "text/plain": [
       "'설마 기억 못하시는 거예요 ?'"
      ]
     },
     "execution_count": 102,
     "metadata": {},
     "output_type": "execute_result"
    }
   ],
   "source": [
    "sentence_generation('오늘은 무슨 날이야?')"
   ]
  },
  {
   "cell_type": "code",
   "execution_count": 103,
   "id": "17fbc304-bb1a-4b1e-9301-88b738c500db",
   "metadata": {},
   "outputs": [
    {
     "name": "stdout",
     "output_type": "stream",
     "text": [
      "입력 : 같이 술 마실까요?\n",
      "출력 : 저랑 한 잔 해요 .\n"
     ]
    },
    {
     "data": {
      "text/plain": [
       "'저랑 한 잔 해요 .'"
      ]
     },
     "execution_count": 103,
     "metadata": {},
     "output_type": "execute_result"
    }
   ],
   "source": [
    "sentence_generation('같이 술 마실까요?')"
   ]
  },
  {
   "cell_type": "code",
   "execution_count": 111,
   "id": "8ad523a3-5623-4298-aecd-75fc26a8fe18",
   "metadata": {},
   "outputs": [
    {
     "name": "stdout",
     "output_type": "stream",
     "text": [
      "입력 : 드디어 대학교 졸업이구나.\n",
      "출력 : 졸업 축하해요\n"
     ]
    },
    {
     "data": {
      "text/plain": [
       "'졸업 축하해요'"
      ]
     },
     "execution_count": 111,
     "metadata": {},
     "output_type": "execute_result"
    }
   ],
   "source": [
    "sentence_generation('드디어 대학교 졸업이구나.')"
   ]
  },
  {
   "cell_type": "code",
   "execution_count": 112,
   "id": "39983a7e-b1f4-4f5a-8a4a-e27d5cd140a4",
   "metadata": {},
   "outputs": [
    {
     "name": "stdout",
     "output_type": "stream",
     "text": [
      "입력 : 누구나 실수할 수 있죠.\n",
      "출력 : 세상에 쉬운 일은 없어요 .\n"
     ]
    },
    {
     "data": {
      "text/plain": [
       "'세상에 쉬운 일은 없어요 .'"
      ]
     },
     "execution_count": 112,
     "metadata": {},
     "output_type": "execute_result"
    }
   ],
   "source": [
    "sentence_generation('누구나 실수할 수 있죠.')"
   ]
  },
  {
   "cell_type": "code",
   "execution_count": 106,
   "id": "26cad2b5-39d3-44d6-91ef-4560d4ec8774",
   "metadata": {},
   "outputs": [
    {
     "name": "stdout",
     "output_type": "stream",
     "text": [
      "입력 : 공부는 재미 없어!\n",
      "출력 : 확신이 없나봐요 .\n"
     ]
    },
    {
     "data": {
      "text/plain": [
       "'확신이 없나봐요 .'"
      ]
     },
     "execution_count": 106,
     "metadata": {},
     "output_type": "execute_result"
    }
   ],
   "source": [
    "sentence_generation('공부는 재미 없어!')"
   ]
  },
  {
   "cell_type": "code",
   "execution_count": 114,
   "id": "a9217da7-52e2-4b48-b4d8-06d3b3c8326c",
   "metadata": {
    "scrolled": true
   },
   "outputs": [
    {
     "name": "stdout",
     "output_type": "stream",
     "text": [
      "입력 : 꾸준히 운동하는 게 좋아.\n",
      "출력 : 운동할 때 조심하세요 .\n"
     ]
    },
    {
     "data": {
      "text/plain": [
       "'운동할 때 조심하세요 .'"
      ]
     },
     "execution_count": 114,
     "metadata": {},
     "output_type": "execute_result"
    }
   ],
   "source": [
    "sentence_generation('꾸준히 운동하는 게 좋아.')"
   ]
  },
  {
   "cell_type": "code",
   "execution_count": 42,
   "id": "55020d8a-6c77-4a49-925d-f8b0c0c4787a",
   "metadata": {},
   "outputs": [
    {
     "name": "stdout",
     "output_type": "stream",
     "text": [
      "Epoch 1/100\n",
      "129/129 [==============================] - 23s 69ms/step - loss: 5.5712 - accuracy: 0.0863\n",
      "Epoch 2/100\n",
      "129/129 [==============================] - 9s 67ms/step - loss: 4.8143 - accuracy: 0.1842\n",
      "Epoch 3/100\n",
      "129/129 [==============================] - 9s 68ms/step - loss: 4.0368 - accuracy: 0.2140\n",
      "Epoch 4/100\n",
      "129/129 [==============================] - 8s 66ms/step - loss: 3.5991 - accuracy: 0.2156\n",
      "Epoch 5/100\n",
      "129/129 [==============================] - 9s 66ms/step - loss: 3.3860 - accuracy: 0.2187\n",
      "Epoch 6/100\n",
      "129/129 [==============================] - 9s 66ms/step - loss: 3.2460 - accuracy: 0.2276\n",
      "Epoch 7/100\n",
      "129/129 [==============================] - 8s 63ms/step - loss: 3.1272 - accuracy: 0.2351\n",
      "Epoch 8/100\n",
      "129/129 [==============================] - 8s 65ms/step - loss: 3.0106 - accuracy: 0.2415\n",
      "Epoch 9/100\n",
      "129/129 [==============================] - 8s 63ms/step - loss: 2.8740 - accuracy: 0.2496\n",
      "Epoch 10/100\n",
      "129/129 [==============================] - 8s 62ms/step - loss: 2.7283 - accuracy: 0.2600\n",
      "Epoch 11/100\n",
      "129/129 [==============================] - 8s 63ms/step - loss: 2.5673 - accuracy: 0.2748\n",
      "Epoch 12/100\n",
      "129/129 [==============================] - 9s 66ms/step - loss: 2.3984 - accuracy: 0.2915\n",
      "Epoch 13/100\n",
      "129/129 [==============================] - 9s 68ms/step - loss: 2.2149 - accuracy: 0.3124\n",
      "Epoch 14/100\n",
      "129/129 [==============================] - 9s 66ms/step - loss: 2.0204 - accuracy: 0.3349\n",
      "Epoch 15/100\n",
      "129/129 [==============================] - 9s 66ms/step - loss: 1.8290 - accuracy: 0.3596\n",
      "Epoch 16/100\n",
      "129/129 [==============================] - 9s 68ms/step - loss: 1.6416 - accuracy: 0.3850\n",
      "Epoch 17/100\n",
      "129/129 [==============================] - 8s 66ms/step - loss: 1.4648 - accuracy: 0.4087\n",
      "Epoch 18/100\n",
      "129/129 [==============================] - 8s 65ms/step - loss: 1.2981 - accuracy: 0.4298\n",
      "Epoch 19/100\n",
      "129/129 [==============================] - 8s 66ms/step - loss: 1.1477 - accuracy: 0.4485\n",
      "Epoch 20/100\n",
      "129/129 [==============================] - 8s 65ms/step - loss: 1.0176 - accuracy: 0.4655\n",
      "Epoch 21/100\n",
      "129/129 [==============================] - 9s 66ms/step - loss: 0.9047 - accuracy: 0.4794\n",
      "Epoch 22/100\n",
      "129/129 [==============================] - 9s 68ms/step - loss: 0.8062 - accuracy: 0.4927\n",
      "Epoch 23/100\n",
      "129/129 [==============================] - 9s 69ms/step - loss: 0.7190 - accuracy: 0.5050\n",
      "Epoch 24/100\n",
      "129/129 [==============================] - 9s 67ms/step - loss: 0.6464 - accuracy: 0.5139\n",
      "Epoch 25/100\n",
      "129/129 [==============================] - 9s 67ms/step - loss: 0.5828 - accuracy: 0.5251\n",
      "Epoch 26/100\n",
      "129/129 [==============================] - 9s 67ms/step - loss: 0.5307 - accuracy: 0.5337\n",
      "Epoch 27/100\n",
      "129/129 [==============================] - 9s 68ms/step - loss: 0.4892 - accuracy: 0.5394\n",
      "Epoch 28/100\n",
      "129/129 [==============================] - 9s 67ms/step - loss: 0.4556 - accuracy: 0.5453\n",
      "Epoch 29/100\n",
      "129/129 [==============================] - 8s 63ms/step - loss: 0.4217 - accuracy: 0.5513\n",
      "Epoch 30/100\n",
      "129/129 [==============================] - 8s 64ms/step - loss: 0.3904 - accuracy: 0.5564\n",
      "Epoch 31/100\n",
      "129/129 [==============================] - 8s 64ms/step - loss: 0.3683 - accuracy: 0.5620\n",
      "Epoch 32/100\n",
      "129/129 [==============================] - 8s 65ms/step - loss: 0.3424 - accuracy: 0.5666\n",
      "Epoch 33/100\n",
      "129/129 [==============================] - 8s 64ms/step - loss: 0.3162 - accuracy: 0.5733\n",
      "Epoch 34/100\n",
      "129/129 [==============================] - 8s 64ms/step - loss: 0.2814 - accuracy: 0.5806\n",
      "Epoch 35/100\n",
      "129/129 [==============================] - 8s 64ms/step - loss: 0.2640 - accuracy: 0.5858\n",
      "Epoch 36/100\n",
      "129/129 [==============================] - 8s 65ms/step - loss: 0.2354 - accuracy: 0.5922\n",
      "Epoch 37/100\n",
      "129/129 [==============================] - 9s 66ms/step - loss: 0.2243 - accuracy: 0.5958\n",
      "Epoch 38/100\n",
      "129/129 [==============================] - 8s 65ms/step - loss: 0.2071 - accuracy: 0.6004\n",
      "Epoch 39/100\n",
      "129/129 [==============================] - 9s 67ms/step - loss: 0.1907 - accuracy: 0.6042\n",
      "Epoch 40/100\n",
      "129/129 [==============================] - 9s 67ms/step - loss: 0.1761 - accuracy: 0.6079\n",
      "Epoch 41/100\n",
      "129/129 [==============================] - 9s 71ms/step - loss: 0.1655 - accuracy: 0.6108\n",
      "Epoch 42/100\n",
      "129/129 [==============================] - 9s 69ms/step - loss: 0.1530 - accuracy: 0.6134\n",
      "Epoch 43/100\n",
      "129/129 [==============================] - 8s 65ms/step - loss: 0.1399 - accuracy: 0.6175\n",
      "Epoch 44/100\n",
      "129/129 [==============================] - 8s 64ms/step - loss: 0.1350 - accuracy: 0.6188\n",
      "Epoch 45/100\n",
      "129/129 [==============================] - 8s 63ms/step - loss: 0.1278 - accuracy: 0.6206\n",
      "Epoch 46/100\n",
      "129/129 [==============================] - 8s 64ms/step - loss: 0.1195 - accuracy: 0.6223\n",
      "Epoch 47/100\n",
      "129/129 [==============================] - 9s 69ms/step - loss: 0.1170 - accuracy: 0.6234\n",
      "Epoch 48/100\n",
      "129/129 [==============================] - 8s 62ms/step - loss: 0.1112 - accuracy: 0.6248\n",
      "Epoch 49/100\n",
      "129/129 [==============================] - 8s 65ms/step - loss: 0.1032 - accuracy: 0.6270\n",
      "Epoch 50/100\n",
      "129/129 [==============================] - 8s 62ms/step - loss: 0.0970 - accuracy: 0.6291\n",
      "Epoch 51/100\n",
      "129/129 [==============================] - 8s 62ms/step - loss: 0.0963 - accuracy: 0.6290\n",
      "Epoch 52/100\n",
      "129/129 [==============================] - 8s 65ms/step - loss: 0.0914 - accuracy: 0.6309\n",
      "Epoch 53/100\n",
      "129/129 [==============================] - 8s 63ms/step - loss: 0.0841 - accuracy: 0.6326\n",
      "Epoch 54/100\n",
      "129/129 [==============================] - 8s 63ms/step - loss: 0.0823 - accuracy: 0.6327\n",
      "Epoch 55/100\n",
      "129/129 [==============================] - 8s 62ms/step - loss: 0.0820 - accuracy: 0.6330\n",
      "Epoch 56/100\n",
      "129/129 [==============================] - 8s 61ms/step - loss: 0.0773 - accuracy: 0.6341\n",
      "Epoch 57/100\n",
      "129/129 [==============================] - 8s 61ms/step - loss: 0.0771 - accuracy: 0.6340\n",
      "Epoch 58/100\n",
      "129/129 [==============================] - 8s 62ms/step - loss: 0.0657 - accuracy: 0.6378\n",
      "Epoch 59/100\n",
      "129/129 [==============================] - 8s 61ms/step - loss: 0.0695 - accuracy: 0.6367\n",
      "Epoch 60/100\n",
      "129/129 [==============================] - 8s 65ms/step - loss: 0.0660 - accuracy: 0.6373\n"
     ]
    }
   ],
   "source": [
    "# 하이퍼파라미터\n",
    "NUM_LAYERS = 4 # 인코더와 디코더의 층의 개수\n",
    "D_MODEL = 256 # 인코더와 디코더 내부의 입, 출력의 고정 차원\n",
    "NUM_HEADS = 8 # 멀티 헤드 어텐션에서의 헤드 수 \n",
    "UNITS = 1024 # 피드 포워드 신경망의 은닉층의 크기\n",
    "DROPOUT = 0.2 # 드롭아웃의 비율\n",
    "\n",
    "model = transformer(\n",
    "    vocab_size=VOCAB_SIZE,\n",
    "    num_layers=NUM_LAYERS,\n",
    "    units=UNITS,\n",
    "    d_model=D_MODEL,\n",
    "    num_heads=NUM_HEADS,\n",
    "    dropout=DROPOUT)\n",
    "\n",
    "model.compile(optimizer=optimizer, loss=loss_function, metrics=[accuracy])\n",
    "\n",
    "es = keras.callbacks.EarlyStopping(monitor='accuracy',patience=2)\n",
    "\n",
    "EPOCHS = 100\n",
    "history = model.fit(dataset, epochs=EPOCHS, callbacks=[es], verbose=1)"
   ]
  },
  {
   "cell_type": "code",
   "execution_count": 43,
   "id": "6cf4d1aa-8c20-4fca-932b-3ef37234aa54",
   "metadata": {},
   "outputs": [
    {
     "data": {
      "image/png": "[encoded data removed]",
      "text/plain": [
       "<Figure size 640x480 with 1 Axes>"
      ]
     },
     "metadata": {},
     "output_type": "display_data"
    },
    {
     "data": {
      "image/png": "[encoded data removed]",
      "text/plain": [
       "<Figure size 640x480 with 1 Axes>"
      ]
     },
     "metadata": {},
     "output_type": "display_data"
    }
   ],
   "source": [
    "plt.plot(history.history['loss'])\n",
    "plt.show()\n",
    "\n",
    "plt.plot(history.history['accuracy'])\n",
    "plt.axhline(y=1, color='r', linestyle='--')\n",
    "plt.show()"
   ]
  },
  {
   "attachments": {
    "62851283-34a2-4414-991c-f6fa11de34c0.png": {
     "image/png": "[encoded data removed]"
    },
    "942a45de-5abb-4fd1-9ffd-1a591802a6d8.png": {
     "image/png": "[encoded data removed]"
    },
    "b589846c-2db8-4d49-ba05-a82e6289fd96.png": {
     "image/png": "[encoded data removed]"
    },
    "c6ec46fa-b251-4d0e-a00e-f91de512f584.png": {
     "image/png": "[encoded data removed]"
    }
   },
   "cell_type": "markdown",
   "id": "54caeccf-5cea-4fb3-8cc7-8f7c9da1a645",
   "metadata": {},
   "source": [
    "모든 EPOCH은 100으로 하고 EarlyStopping으로 accuracy 기준으로 중간에 알아서 끊기\n",
    "\n",
    "# 실험 1.\n",
    "Hyperparameters:\n",
    "NUM_LAYERS = 2 # 인코더와 디코더의 층의 개수  \n",
    "D_MODEL = 512 # 인코더와 디코더 내부의 입, 출력의 고정 차원  \n",
    "NUM_HEADS = 16 # 멀티 헤드 어텐션에서의 헤드 수   \n",
    "UNITS = 1024 # 피드 포워드 신경망의 은닉층의 크기  \n",
    "DROPOUT = 0.3 # 드롭아웃의 비율  \n",
    "\n",
    "accuracy ~ 0.306 부근에서 학습이 종료됐으며 (EarlyStopping at loss ~ 0.01)\n",
    "\n",
    "기본적으로 단어사전을 비롯한 데이터의 크기가 크지 않은 것을 고려하여, 층을 늘리는 식으로 모델을 키우면 왠지 과대적합만 빨리되고 충분한 accuracy 확보가 되지 않을 것이라고 생각했다.  \n",
    "\n",
    "# 실험 2.  \n",
    "Hyperparameters:\n",
    "NUM_LAYERS = 2 # 인코더와 디코더의 층의 개수  \n",
    "D_MODEL = 256 # 인코더와 디코더 내부의 입, 출력의 고정 차원  \n",
    "NUM_HEADS = 8 # 멀티 헤드 어텐션에서의 헤드 수   \n",
    "UNITS = 1024 # 피드 포워드 신경망의 은닉층의 크기  \n",
    "DROPOUT = 0.2 # 드롭아웃의 비율  \n",
    "\n",
    "임베딩 차원을 내리고 헤드 개수도 줄였는데, accuracy 역시 0.308 정도? 성능 수준은 거의 비슷하다.\n",
    "\n",
    "# 왜 실패했는가? (왜 어큐러시가 낮은가?)\n",
    "패딩을 20 내지 30까지 갔기 때문!\n",
    "\n",
    "패딩을 8+2 까지 낮추니까, 약 0.2의 비율의 문장들이 소거되기는 하였으나 acc이 0.6까지 상승!\n",
    "\n",
    "실제로 꽤 유의미하게 갔다.\n",
    "\n",
    "# 실험 3 = 패딩을 8+2=10으로 줄이기.  \n",
    "NUM_LAYERS = 2 # 인코더와 디코더의 층의 개수  \n",
    "D_MODEL = 256 # 인코더와 디코더 내부의 입, 출력의 고정 차원  \n",
    "NUM_HEADS = 8 # 멀티 헤드 어텐션에서의 헤드 수   \n",
    "UNITS = 512 # 피드 포워드 신경망의 은닉층의 크기  \n",
    "DROPOUT = 0.1 # 드롭아웃의 비율  \n",
    "accuracy ~ 0.6까지 올랐고, 텍스트도 몇몇개는 그럴듯하게 생성함!  \n",
    "\n",
    "## Loss\n",
    "![image.png](attachment:b589846c-2db8-4d49-ba05-a82e6289fd96.png)\n",
    "## Accuraccy\n",
    "![image.png](attachment:c6ec46fa-b251-4d0e-a00e-f91de512f584.png)\n",
    "\n",
    "![image.png](attachment:942a45de-5abb-4fd1-9ffd-1a591802a6d8.png)\n",
    "\n",
    "# 실험 4 = 실험 3 + 모델 크기 키우기(layer 2 &rightarrow; 4)\n",
    "NUM_LAYERS = 4 # 인코더와 디코더의 층의 개수  \n",
    "D_MODEL = 256 # 인코더와 디코더 내부의 입, 출력의 고정 차원  \n",
    "NUM_HEADS = 8 # 멀티 헤드 어텐션에서의 헤드 수 \n",
    "UNITS = 1024 # 피드 포워드 신경망의 은닉층의 크기  \n",
    "DROPOUT = 0.2 # 드롭아웃의 비율  \n",
    "\n",
    "acc ~ 0.637 근처에서 종료  \n",
    "하지만 acc랑은 별개로 그렇게까지 성능이 좋은 것 같다는 인식은 안 든다  \n",
    "![image.png](attachment:62851283-34a2-4414-991c-f6fa11de34c0.png)"
   ]
  },
  {
   "cell_type": "code",
   "execution_count": 49,
   "id": "fdfe9f9c-ad1d-405f-a116-76dfad333bd0",
   "metadata": {
    "scrolled": true
   },
   "outputs": [
    {
     "name": "stdout",
     "output_type": "stream",
     "text": [
      "입력 : 술 한 잔 할래요?\n",
      "출력 : 저는 주당이에요 .\n"
     ]
    },
    {
     "data": {
      "text/plain": [
       "'저는 주당이에요 .'"
      ]
     },
     "execution_count": 49,
     "metadata": {},
     "output_type": "execute_result"
    }
   ],
   "source": [
    "sentence_generation('술 한 잔 할래요?')"
   ]
  },
  {
   "cell_type": "code",
   "execution_count": 48,
   "id": "48f7fc5b-b552-4764-8f5c-704e111023ef",
   "metadata": {},
   "outputs": [
    {
     "name": "stdout",
     "output_type": "stream",
     "text": [
      "입력 : 드디어 대학교 졸업이구나.\n",
      "출력 : 졸업 축하해요\n"
     ]
    },
    {
     "data": {
      "text/plain": [
       "'졸업 축하해요'"
      ]
     },
     "execution_count": 48,
     "metadata": {},
     "output_type": "execute_result"
    }
   ],
   "source": [
    "sentence_generation('드디어 대학교 졸업이구나.')"
   ]
  },
  {
   "cell_type": "code",
   "execution_count": 50,
   "id": "b9498456-d103-442a-9192-d5f38527151c",
   "metadata": {},
   "outputs": [
    {
     "name": "stdout",
     "output_type": "stream",
     "text": [
      "입력 : 너 지금 뭐하는거냐?\n",
      "출력 : 어서 따듯한 곳으로 가세요\n"
     ]
    },
    {
     "data": {
      "text/plain": [
       "'어서 따듯한 곳으로 가세요'"
      ]
     },
     "execution_count": 50,
     "metadata": {},
     "output_type": "execute_result"
    }
   ],
   "source": [
    "sentence_generation('너 지금 뭐하는거냐?')"
   ]
  }
 ],
 "metadata": {
  "kernelspec": {
   "display_name": "Python 3 (ipykernel)",
   "language": "python",
   "name": "python3"
  },
  "language_info": {
   "codemirror_mode": {
    "name": "ipython",
    "version": 3
   },
   "file_extension": ".py",
   "mimetype": "text/x-python",
   "name": "python",
   "nbconvert_exporter": "python",
   "pygments_lexer": "ipython3",
   "version": "3.10.12"
  }
 },
 "nbformat": 4,
 "nbformat_minor": 5
}
