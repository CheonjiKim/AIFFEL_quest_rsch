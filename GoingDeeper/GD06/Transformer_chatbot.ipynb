{
 "cells": [
  {
   "cell_type": "markdown",
   "id": "d603a761-841a-4ddd-b0b5-2288b3ddad1b",
   "metadata": {
    "tags": []
   },
   "source": [
    "# <span style=\"color:skyblue;\"> Transformer를 활용해 챗봇 만들기</span>\n",
    "\n",
    "한국어 Q&A 대화문 데이터 corpus를 활용하여 질문에 대한 답변 태스크를 수행\n",
    "\n",
    "데이터 출처 : [songys/Chatbot_data](https://github.com/songys/Chatbot_data/ChatbotData.csv)\n",
    "\n",
    "<span style='color:skyblue;'> **모델 : Encoder-Decoder Transformer**</span>\n",
    "\n",
    "도입한 것 : 같은 하이퍼파라미터를 갖는 모델을 여러 시드로 초기화해서 얼마나 데이터 학습 분포가 촘촘한지 확인해보자.\n",
    "\n",
    "&rightarrow; seed_list = [20, 21, 22, 25, 28, 29, 6] 에 대해서 Learning Curve분포를 시각화, \n",
    "\n",
    "\n",
    "\n",
    "## <span style=\"color:skyblue;\"> Result (at its worst) </span>\n",
    "| Average Blue Score | Train data(num=100) | Custom Dialogue(num=10) |\n",
    "|----------|----------|----------|\n",
    "| 증강 적용(5배, Lexical, Random Ins/Del) | <span style=\"color:skyblue;\"> 64.56 </span>| <span style=\"color:skyblue;\"> 1.52 </span> |\n",
    "| 증강 미적용 | 36.1 | 1.22 |\n",
    "\n",
    "### Custom Dialogues\n",
    "\n",
    "    example = ['지루하다, 놀러가고 싶어.',\n",
    "               '오늘 일찍 일어났더니 피곤하다.',\n",
    "               '간만에 여자친구랑 데이트 하기로 했어.',\n",
    "               '집에 있는다는 소리야.',\n",
    "               '배고픈데 뭐 먹을지 고민되네.',\n",
    "               '비가 와서 그런가 기분이 좀 별로야.',\n",
    "               '시험 공부해야 하는데 집중이 안 돼.',\n",
    "               '드라마 정주행 시작했는데 완전 내 스타일!',\n",
    "               '운동 갔다 왔더니 몸이 너무 아파.',\n",
    "               '주말인데 할 일이 너무 많아서 귀찮다.']\n",
    "\n",
    "    example_answers = ['같이 놀면 좋겠어요',\n",
    "                       '조금 더 잠 들어요',\n",
    "                       '좋은 날이 되겠네요',\n",
    "                       '방 청소를 하면 되겠네',\n",
    "                       '뭐라도 드세요',\n",
    "                       '감성적이기에 딱 좋죠',\n",
    "                       '딴 생각 하지 마세요',\n",
    "                       '드라마 완전 재밌나 봐요',\n",
    "                       '몸이 놀라서 그래',\n",
    "                       '주말에도 일 하느라 힘들겠다']\n",
    "\n",
    "### Example에 대한 모델 대화 출력 예시(Run 1)\n",
    "\n",
    "    Average BLEU score: 1.5223969964279502 점, [0,1] 단위에 100 곱함\n",
    "\n",
    "    Example Sentence: 지루하다, 놀러가고 싶어.\n",
    "    Output Sequence:  저 도 마음 가짐 에 있 어요 \n",
    "    Example Answers: 같이 놀 면 좋 겠 어요\n",
    "    Bleu Score: 3.3031643180138064\n",
    "\n",
    "    Example Sentence: 오늘 일찍 일어났더니 피곤하다.\n",
    "    Output Sequence:  개인 바쁜가 봐요 \n",
    "    Example Answers: 조금 더 잠 들 어요\n",
    "    Bleu Score: 0\n",
    "    \n",
    "    Example Sentence: 간만에 여자친구랑 데이트 하기로 했어.\n",
    "    Output Sequence:  좋 은 만남 이 네요 \n",
    "    Example Answers: 좋 은 날 이 되 겠 네요\n",
    "    Bleu Score: 9.057365499736145\n",
    "    \n",
    "    Example Sentence: 집에 있는다는 소리야.\n",
    "    Output Sequence:  좋 은 분 하 실 거 예요 \n",
    "    Example Answers: 방 청소 를 하 면 되 겠 네\n",
    "    Bleu Score: 2.8634401465295497\n",
    "    \n",
    "    Example Sentence: 배고픈데 뭐 먹을지 고민되네.\n",
    "    Output Sequence:  예쁘 게 먹 고 는 걸 수 도 있 어요 \n",
    "    Example Answers: 뭐 라도 드세요\n",
    "    Bleu Score: 0\n",
    "    \n",
    "    Example Sentence: 비가 와서 그런가 기분이 좀 별로야.\n",
    "    Output Sequence:  비 와 당신 는데 \n",
    "    Example Answers: 감성 적 이 기에 딱 좋 죠\n",
    "    Bleu Score: 0\n",
    "    \n",
    "    Example Sentence: 시험 공부해야 하는데 집중이 안 돼.\n",
    "    Output Sequence:  잠시 쉬 어도 습니다 \n",
    "    Example Answers: 딴 생각 하 지 마세요\n",
    "    Bleu Score: 0\n",
    "    \n",
    "    Example Sentence: 드라마 정주행 시작했는데 완전 내 스타일!\n",
    "    Output Sequence:  속 조금 후련 해졌 죠 \n",
    "    Example Answers: 드라마 완전 재밌 나 봐요\n",
    "    Bleu Score: 0\n",
    "    \n",
    "    Example Sentence: 운동 갔다 왔더니 몸이 너무 아파.\n",
    "    Output Sequence:  건강 에 네요 \n",
    "    Example Answers: 몸 이 놀라 서 그래\n",
    "    Bleu Score: 0\n",
    "    \n",
    "    Example Sentence: 주말인데 할 일이 너무 많아서 귀찮다.\n",
    "    Output Sequence:  은가 봐요 \n",
    "    Example Answers: 주말 에 도 일 하 느라 힘들 겠 다\n",
    "    Bleu Score: 0\n",
    "\n",
    "### Model Hyperparameter: \n",
    "    \n",
    "    config = {\n",
    "    \"n_layers\": 3,\n",
    "    \"d_model\": 256,\n",
    "    \"n_heads\": 4,\n",
    "    \"d_ff\": 1024,\n",
    "    \"dropout\": 0.5,\n",
    "    \"vocab_size\": 15000,\n",
    "    \"pos_len\": 50,\n",
    "    \"batch_size\": 32,\n",
    "    \"epochs\": 20\n",
    "    }\n",
    "___\n"
   ]
  },
  {
   "cell_type": "markdown",
   "id": "826c6b45-1831-41d9-ab65-4169660486de",
   "metadata": {},
   "source": [
    "## 오늘의 이슈: 서브클래싱 한 트랜스포머를 새롭게 빌드해도 기존의 변수를 가지고 학습을 진행하는 이유는 무엇일까?\n",
    "\n",
    "1. 아마 @tf.function() 데코레이터가 처음 호출될 때의 변수를 캡쳐하고 캐시하기 때문?\n",
    "2. 이럼 GPU 연산 최적화가 깨질 수 있으니 각 run마다 train_step을 재정의 한다\n",
    "\n",
    "해결: train_step이 @tf.function으로 데코레이팅 되어 있는데, 캐싱이 최초 정보만 되어있어서 계속 그 값으로 학습하는 것이였음\n",
    "\n",
    "&rightarrow; get_train_step으로 포장해서 train_step을 매 번 새롭게 정의해서 초기화 해주면 된다.\n",
    "\n",
    "    def get_train_step():\n",
    "        @tf.function()\n",
    "        def train_step(src, tgt, model, optimizer):\n",
    "            gold = tgt[:, 1:]\n",
    "            \n",
    "            enc_mask, dec_enc_mask, dec_mask = generate_masks(src, tgt)\n",
    "    \n",
    "            # 계산된 loss에 tf.GradientTape()를 적용해 학습 진행\n",
    "            with tf.GradientTape() as tape:\n",
    "                predictions, enc_attns, dec_attns, dec_enc_attns = model(src, tgt, enc_mask, dec_enc_mask, dec_mask)\n",
    "                loss = loss_function(gold, predictions[:, :-1])\n",
    "    \n",
    "            # 최종적으로 optimizer.apply_gradients()가 사용\n",
    "            variables = model.trainable_variables\n",
    "            gradients = tape.gradient(loss, variables)\n",
    "            optimizer.apply_gradients(zip(gradients, variables))\n",
    "            \n",
    "            return loss, enc_attns, dec_attns, dec_enc_attns\n",
    "        return train_step`"
   ]
  },
  {
   "cell_type": "markdown",
   "id": "f8d51d6d-b614-46bb-a239-59b15bf79b94",
   "metadata": {
    "tags": []
   },
   "source": [
    "### 데이터 준비과정\n",
    "1. 라이브러리 로드\n",
    "2. 전처리 및 Mecab 토크나이징\n",
    "3. Data Augmentation\n",
    "4. 패딩"
   ]
  },
  {
   "cell_type": "code",
   "execution_count": 1,
   "id": "87292266-925c-4c3c-bcc4-3a0530409f3a",
   "metadata": {},
   "outputs": [
    {
     "name": "stderr",
     "output_type": "stream",
     "text": [
      "C:\\Anaconda3\\envs\\tf\\lib\\site-packages\\scipy\\__init__.py:177: UserWarning: A NumPy version >=1.18.5 and <1.26.0 is required for this version of SciPy (detected version 1.26.4\n",
      "  warnings.warn(f\"A NumPy version >={np_minversion} and <{np_maxversion}\"\n"
     ]
    }
   ],
   "source": [
    "import pandas as pd\n",
    "import matplotlib.pyplot as plt\n",
    "import numpy as np\n",
    "import tensorflow as tf\n",
    "import re\n",
    "import os\n",
    "import io\n",
    "import time\n",
    "import random\n",
    "import seaborn as sns\n",
    "import math\n",
    "import nltk\n",
    "\n",
    "from konlpy.tag import Mecab\n",
    "\n",
    "import asyncio\n",
    "from googletrans import Translator\n",
    "\n",
    "from gensim.models.word2vec import Word2Vec\n",
    "\n",
    "from tensorflow.keras.preprocessing.text import Tokenizer\n",
    "from tensorflow.keras.preprocessing.sequence import pad_sequences\n",
    "\n",
    "from sklearn.model_selection import train_test_split\n",
    "\n",
    "from nltk.translate.bleu_score import sentence_bleu\n",
    "from nltk.translate.bleu_score import SmoothingFunction\n",
    "\n",
    "from tqdm.notebook import tqdm"
   ]
  },
  {
   "cell_type": "code",
   "execution_count": 2,
   "id": "cb0af397-98ee-4194-8bff-b175b2ce1497",
   "metadata": {},
   "outputs": [],
   "source": [
    "filepath = \"./ChatbotData.csv\"\n",
    "\n",
    "raw_data = pd.read_csv(filepath)\n",
    "\n",
    "raw_data.dropna(inplace=True)\n",
    "raw_data.drop_duplicates(inplace=True)"
   ]
  },
  {
   "cell_type": "markdown",
   "id": "bc3f06cd-0ef8-4e86-9ed7-d8f21b0daefd",
   "metadata": {},
   "source": [
    "#### 중복이 존재하는 것을 확인\n",
    "&rightarrow; 미리 제거하자."
   ]
  },
  {
   "cell_type": "code",
   "execution_count": 3,
   "id": "8d3a8973-82cb-4dcd-a2fc-0f738444aa42",
   "metadata": {},
   "outputs": [
    {
     "data": {
      "text/html": [
       "<div>\n",
       "<style scoped>\n",
       "    .dataframe tbody tr th:only-of-type {\n",
       "        vertical-align: middle;\n",
       "    }\n",
       "\n",
       "    .dataframe tbody tr th {\n",
       "        vertical-align: top;\n",
       "    }\n",
       "\n",
       "    .dataframe thead th {\n",
       "        text-align: right;\n",
       "    }\n",
       "</style>\n",
       "<table border=\"1\" class=\"dataframe\">\n",
       "  <thead>\n",
       "    <tr style=\"text-align: right;\">\n",
       "      <th></th>\n",
       "      <th>Q</th>\n",
       "      <th>A</th>\n",
       "      <th>label</th>\n",
       "    </tr>\n",
       "  </thead>\n",
       "  <tbody>\n",
       "    <tr>\n",
       "      <th>0</th>\n",
       "      <td>12시 땡!</td>\n",
       "      <td>하루가 또 가네요.</td>\n",
       "      <td>0</td>\n",
       "    </tr>\n",
       "    <tr>\n",
       "      <th>1</th>\n",
       "      <td>1지망 학교 떨어졌어</td>\n",
       "      <td>위로해 드립니다.</td>\n",
       "      <td>0</td>\n",
       "    </tr>\n",
       "    <tr>\n",
       "      <th>2</th>\n",
       "      <td>3박4일 놀러가고 싶다</td>\n",
       "      <td>여행은 언제나 좋죠.</td>\n",
       "      <td>0</td>\n",
       "    </tr>\n",
       "    <tr>\n",
       "      <th>3</th>\n",
       "      <td>3박4일 정도 놀러가고 싶다</td>\n",
       "      <td>여행은 언제나 좋죠.</td>\n",
       "      <td>0</td>\n",
       "    </tr>\n",
       "    <tr>\n",
       "      <th>4</th>\n",
       "      <td>PPL 심하네</td>\n",
       "      <td>눈살이 찌푸려지죠.</td>\n",
       "      <td>0</td>\n",
       "    </tr>\n",
       "    <tr>\n",
       "      <th>...</th>\n",
       "      <td>...</td>\n",
       "      <td>...</td>\n",
       "      <td>...</td>\n",
       "    </tr>\n",
       "    <tr>\n",
       "      <th>95</th>\n",
       "      <td>개학하니까 좋다</td>\n",
       "      <td>친구들이 보고싶었나봐요.</td>\n",
       "      <td>0</td>\n",
       "    </tr>\n",
       "    <tr>\n",
       "      <th>96</th>\n",
       "      <td>걔 너무 싫다</td>\n",
       "      <td>되도록 만나지 마세요.</td>\n",
       "      <td>0</td>\n",
       "    </tr>\n",
       "    <tr>\n",
       "      <th>97</th>\n",
       "      <td>걔는 누굴 닮아서 그런거니?</td>\n",
       "      <td>당신이요.</td>\n",
       "      <td>0</td>\n",
       "    </tr>\n",
       "    <tr>\n",
       "      <th>98</th>\n",
       "      <td>걔랑 같은 반 됐으면 좋겠다</td>\n",
       "      <td>당신의 운을 믿어보세요.</td>\n",
       "      <td>0</td>\n",
       "    </tr>\n",
       "    <tr>\n",
       "      <th>99</th>\n",
       "      <td>거지 같이 일해 놓고 갔어</td>\n",
       "      <td>일 못하는 사람이 있으면 옆에 있는 사람이 더 힘들죠.</td>\n",
       "      <td>0</td>\n",
       "    </tr>\n",
       "  </tbody>\n",
       "</table>\n",
       "<p>100 rows × 3 columns</p>\n",
       "</div>"
      ],
      "text/plain": [
       "                  Q                               A  label\n",
       "0            12시 땡!                      하루가 또 가네요.      0\n",
       "1       1지망 학교 떨어졌어                       위로해 드립니다.      0\n",
       "2      3박4일 놀러가고 싶다                     여행은 언제나 좋죠.      0\n",
       "3   3박4일 정도 놀러가고 싶다                     여행은 언제나 좋죠.      0\n",
       "4           PPL 심하네                      눈살이 찌푸려지죠.      0\n",
       "..              ...                             ...    ...\n",
       "95         개학하니까 좋다                   친구들이 보고싶었나봐요.      0\n",
       "96          걔 너무 싫다                    되도록 만나지 마세요.      0\n",
       "97  걔는 누굴 닮아서 그런거니?                           당신이요.      0\n",
       "98  걔랑 같은 반 됐으면 좋겠다                   당신의 운을 믿어보세요.      0\n",
       "99   거지 같이 일해 놓고 갔어  일 못하는 사람이 있으면 옆에 있는 사람이 더 힘들죠.      0\n",
       "\n",
       "[100 rows x 3 columns]"
      ]
     },
     "execution_count": 3,
     "metadata": {},
     "output_type": "execute_result"
    }
   ],
   "source": [
    "raw_data.head(100)          "
   ]
  },
  {
   "cell_type": "code",
   "execution_count": 4,
   "id": "76b91c08-a21c-4da1-8fe6-781e3e69846d",
   "metadata": {},
   "outputs": [],
   "source": [
    "# Q, A 분리\n",
    "questions = list(raw_data['Q'])\n",
    "answers = list(raw_data['A'])"
   ]
  },
  {
   "cell_type": "code",
   "execution_count": 5,
   "id": "8488c4e2-a1e8-4098-908b-8153d11b1056",
   "metadata": {},
   "outputs": [],
   "source": [
    "def preprocess_sentence(sentence, s_token=False, e_token=False):   \n",
    "    # 소문자 변환\n",
    "    sentence = sentence.lower().strip()\n",
    "\n",
    "    # 정규식 활용\n",
    "    sentence = re.sub(r\"([?.!,])\", r\" \\1 \", sentence)\n",
    "    sentence = re.sub(r\"[^가-힣a-zA-Z0-9?.!\\s]+\", \" \", sentence)\n",
    "\n",
    "    sentence = \" \".join(sentence.split())\n",
    "    \n",
    "    \"\"\"\n",
    "    # Mecab 이후에 후처리로 answer에는 다시 적용할 예정이므로 지금은 적용 X\n",
    "    if s_token:\n",
    "        sentence = \"<s> \" + sentence\n",
    "    if e_token:\n",
    "        sentence += \" </s>\"\n",
    "    \"\"\"\n",
    "    return sentence"
   ]
  },
  {
   "cell_type": "code",
   "execution_count": 6,
   "id": "fd3d576d-29d5-41b0-ab80-9e70d7ef56e0",
   "metadata": {},
   "outputs": [],
   "source": [
    "mecab = Mecab(dicpath = 'C:/Mecab/mecab-ko-dic')"
   ]
  },
  {
   "cell_type": "markdown",
   "id": "5b9157a6-6264-4420-a218-401f9facc53e",
   "metadata": {},
   "source": [
    "#### 데이터 전처리, 중복 제거, 토크나이징\n",
    "\n",
    "상위 90퍼 길이에서 자르기"
   ]
  },
  {
   "cell_type": "code",
   "execution_count": 7,
   "id": "304ecff2-6a50-4ab4-a44d-6f4dcc61d14a",
   "metadata": {},
   "outputs": [],
   "source": [
    "def build_corpus(questions, answers):\n",
    "    \n",
    "    # 1. 전처리\n",
    "    preprocessed_questions = [preprocess_sentence(x) for x in questions]\n",
    "    preprocessed_answers = [preprocess_sentence(x) for x in answers]\n",
    "    \n",
    "    # 2. 중복 제거(하나만 남김)\n",
    "    unique_q = set()\n",
    "    unique_a = set()\n",
    "    filtered_pairs = []\n",
    "    \n",
    "    for q, a in zip(preprocessed_questions, preprocessed_answers):\n",
    "        if q not in unique_q and a not in unique_a:\n",
    "            filtered_pairs.append((q, a))\n",
    "            unique_q.add(q)\n",
    "            unique_a.add(a)\n",
    "    \n",
    "    filtered_questions, filtered_answers = zip(*filtered_pairs) if filtered_pairs else ([], [])\n",
    "    \n",
    "    filtered_questions = list(filtered_questions)\n",
    "    filtered_answers = list(filtered_answers)\n",
    "    \n",
    "    # 3. Mecab 토크나이징\n",
    "    tokenized_questions = [mecab.morphs(x) for x in filtered_questions]\n",
    "    tokenized_answers= [mecab.morphs(x) for x in filtered_answers]\n",
    "    \n",
    "    # 4 . N 이하의 토큰 길이를 갖는 쌍만 남기기\n",
    "    print('Question 상위 90퍼 길이:', np.percentile([len(x) for x in tokenized_questions], 90))\n",
    "    print('Answer 상위 90퍼 길이:', np.percentile([len(x) for x in tokenized_answers], 90))\n",
    "    \n",
    "    N_q = round(np.percentile([len(x) for x in tokenized_questions], 80))\n",
    "    N_a = round(np.percentile([len(x) for x in tokenized_answers], 80))\n",
    "    N = min(N_q, N_a)\n",
    "\n",
    "    \n",
    "    filtered_indices = [i for i in range(len(tokenized_questions)) if len(tokenized_questions[i]) <= N and len(tokenized_answers[i]) <= N]\n",
    "    \n",
    "    que_corpus = [tokenized_questions[i] for i in filtered_indices]\n",
    "    ans_corpus = [tokenized_answers[i] for i in filtered_indices]  \n",
    "    \n",
    "    return que_corpus, ans_corpus"
   ]
  },
  {
   "cell_type": "code",
   "execution_count": 8,
   "id": "cd23dfa2-2772-43a2-9785-cec62ff9a01f",
   "metadata": {},
   "outputs": [
    {
     "name": "stdout",
     "output_type": "stream",
     "text": [
      "Question 상위 90퍼 길이: 13.0\n",
      "Answer 상위 90퍼 길이: 13.0\n",
      "4954 4954\n"
     ]
    }
   ],
   "source": [
    "que_corpus, ans_corpus = build_corpus(questions, answers)\n",
    "print(len(que_corpus), len(ans_corpus))"
   ]
  },
  {
   "cell_type": "code",
   "execution_count": 9,
   "id": "a20eedd6-9e5e-490c-bee3-5d895865605a",
   "metadata": {},
   "outputs": [
    {
     "data": {
      "text/plain": [
       "['12', '시', '땡', '!']"
      ]
     },
     "execution_count": 9,
     "metadata": {},
     "output_type": "execute_result"
    }
   ],
   "source": [
    "que_corpus[0]"
   ]
  },
  {
   "cell_type": "code",
   "execution_count": 10,
   "id": "32653081-df16-44cc-9555-2103aa008793",
   "metadata": {},
   "outputs": [
    {
     "data": {
      "text/plain": [
       "4954"
      ]
     },
     "execution_count": 10,
     "metadata": {},
     "output_type": "execute_result"
    }
   ],
   "source": [
    "len(que_corpus)"
   ]
  },
  {
   "cell_type": "code",
   "execution_count": 11,
   "id": "59ae1238-b5b1-4d57-8ceb-1796b67e32cc",
   "metadata": {},
   "outputs": [
    {
     "data": {
      "text/plain": [
       "['하루', '가', '또', '가', '네요', '.']"
      ]
     },
     "execution_count": 11,
     "metadata": {},
     "output_type": "execute_result"
    }
   ],
   "source": [
    "ans_corpus[0]"
   ]
  },
  {
   "cell_type": "markdown",
   "id": "65da5c18-ec92-45e3-9b29-f2815a2a81dc",
   "metadata": {
    "tags": []
   },
   "source": [
    "#### Data Augmentation\n",
    "\n",
    "Pre-trained embedding : Word2Vec, [Kyubyong/wordvectors/korean (w)](https://github.com/Kyubyong/wordvectors)\n",
    "\n",
    "임베딩에서 most_similar 메서드를 활용해 lexical substitution 방식으로 증강\n",
    "\n",
    "&rightarrow; 아마 다른 방식을 더 활용해 방대한 데이터를 확보해야 할듯\n",
    "- random insertion/deletion"
   ]
  },
  {
   "cell_type": "code",
   "execution_count": 12,
   "id": "4db8f47e-fbb2-41e6-87a6-e54f792f8fbb",
   "metadata": {},
   "outputs": [
    {
     "name": "stdout",
     "output_type": "stream",
     "text": [
      "<class 'gensim.models.word2vec.Word2Vec'>\n"
     ]
    }
   ],
   "source": [
    "embedding_path = \"C:/datasets_temp/ko.bin\"\n",
    "\n",
    "wv = Word2Vec.load(embedding_path)\n",
    "print(type(wv))"
   ]
  },
  {
   "cell_type": "code",
   "execution_count": 13,
   "id": "4322b114-5c56-4627-a5b5-1b6c408c4237",
   "metadata": {},
   "outputs": [],
   "source": [
    "def lexical_sub(wv, que_corpus, ans_corpus, do_lex=True):\n",
    "    def substitute(sentence_tokens):\n",
    "        # valid_tokens: 단어가 모델의 어휘에 있는지 확인 (빈 리스트일 경우 원본 반환)\n",
    "        valid_tokens = [t for t in sentence_tokens if t in wv.wv.vocab]\n",
    "        if not valid_tokens:\n",
    "            return sentence_tokens\n",
    "        \n",
    "        chosen = random.choice(valid_tokens)\n",
    "        new_tokens = []\n",
    "        # 전체 문장을 순회하면서, chosen 단어를 유사 단어로 치환\n",
    "        for token in sentence_tokens:\n",
    "            if token == chosen:\n",
    "                similar_word = wv.wv.most_similar(token)[0][0]\n",
    "                new_tokens.append(similar_word)\n",
    "            else:\n",
    "                new_tokens.append(token)\n",
    "        return new_tokens\n",
    "\n",
    "    # 1. 원본 쌍\n",
    "    final_que = list(que_corpus)\n",
    "    final_ans = list(ans_corpus)\n",
    "    \n",
    "    if do_lex:\n",
    "        # 2. 질문만 증강\n",
    "        aug_que = [substitute(q_tokens) for q_tokens in que_corpus]\n",
    "        final_que.extend(aug_que)\n",
    "        final_ans.extend(ans_corpus)\n",
    "    \n",
    "        # 3. 답변만 증강\n",
    "        aug_ans = [substitute(a_tokens) for a_tokens in ans_corpus]\n",
    "        final_que.extend(que_corpus)\n",
    "        final_ans.extend(aug_ans)\n",
    "\n",
    "    return final_que, final_ans\n"
   ]
  },
  {
   "cell_type": "code",
   "execution_count": 14,
   "id": "eecf68b0-1499-4927-8009-2430affd2439",
   "metadata": {},
   "outputs": [],
   "source": [
    "def random_deletion(corpus, deletion_prob=0.1):\n",
    "    \"\"\"\n",
    "    각 문장에서 각 토큰을 deletion_prob 확률로 삭제합니다.\n",
    "    만약 삭제 후 문장이 빈 리스트가 되면 원본 문장을 그대로 반환\n",
    "    \"\"\"\n",
    "    new_corpus = []\n",
    "    for tokens in corpus:\n",
    "        new_tokens = [token for token in tokens if random.random() > deletion_prob]\n",
    "        if not new_tokens:\n",
    "            new_tokens = tokens\n",
    "        new_corpus.append(new_tokens)\n",
    "    return new_corpus"
   ]
  },
  {
   "cell_type": "code",
   "execution_count": 15,
   "id": "8c770e82-37f7-4eb4-baa6-ba964de20a8b",
   "metadata": {},
   "outputs": [],
   "source": [
    "def random_insertion(corpus, wv, insertion_prob=0.1):\n",
    "    \"\"\"\n",
    "    각 문장에서 각 토큰에 대해 insertion_prob 확률로,\n",
    "    해당 토큰의 유사 단어(Word2Vec)를 찾아 임의의 위치에 삽입\n",
    "    \"\"\"\n",
    "    new_corpus = []\n",
    "    for tokens in corpus:\n",
    "        new_tokens = tokens.copy()\n",
    "        for token in tokens:\n",
    "            if token in wv.wv.vocab and random.random() < insertion_prob:\n",
    "                try:\n",
    "                    synonym = wv.wv.most_similar(token)[0][0]\n",
    "                    pos = random.randint(0, len(new_tokens))\n",
    "                    new_tokens.insert(pos, synonym)\n",
    "                except Exception:\n",
    "                    pass\n",
    "        new_corpus.append(new_tokens)\n",
    "    return new_corpus"
   ]
  },
  {
   "cell_type": "code",
   "execution_count": 16,
   "id": "4452b626-d832-41ac-b7f9-c9f74233bfd2",
   "metadata": {},
   "outputs": [],
   "source": [
    "def augmentation(wv, que_corpus, ans_corpus):\n",
    "    \"\"\"\n",
    "    여러 증강 기법(lexical substitution, back translation)을 병렬로 적용하여\n",
    "    전체 증강 데이터를 생성\n",
    "    \"\"\"\n",
    "    # Lexical substitution\n",
    "    lexical_que, lexical_ans = lexical_sub(wv, que_corpus, ans_corpus, do_lex=True)\n",
    "    \n",
    "    # Random deletion\n",
    "    rd_que = random_deletion(que_corpus, deletion_prob=0.1)\n",
    "    rd_ans = random_deletion(ans_corpus, deletion_prob=0.1)\n",
    "    \n",
    "    # Random insertion\n",
    "    ri_que = random_insertion(que_corpus, wv, insertion_prob=0.1)\n",
    "    ri_ans = random_insertion(ans_corpus, wv, insertion_prob=0.1)\n",
    "    \n",
    "    # 각 기법의 결과를 합칩니다.\n",
    "    final_que = lexical_que + rd_que + ri_que\n",
    "    final_ans = lexical_ans + rd_ans + ri_ans\n",
    "    \n",
    "    return final_que, final_ans"
   ]
  },
  {
   "cell_type": "code",
   "execution_count": 17,
   "id": "e6af1bd2-5e1b-4a1b-b6e6-67ab3f5f28e0",
   "metadata": {},
   "outputs": [],
   "source": [
    "augmented_questions, augmented_answers = augmentation(wv, que_corpus, ans_corpus)"
   ]
  },
  {
   "cell_type": "code",
   "execution_count": 18,
   "id": "b6faf278-c51d-4953-bd83-907c26284557",
   "metadata": {},
   "outputs": [
    {
     "name": "stdout",
     "output_type": "stream",
     "text": [
      "24770 24770\n"
     ]
    }
   ],
   "source": [
    "print(len(augmented_questions), len(augmented_answers))"
   ]
  },
  {
   "cell_type": "code",
   "execution_count": 19,
   "id": "3b7b0536-590c-4cf8-9f1c-5c5fbfe85891",
   "metadata": {},
   "outputs": [
    {
     "name": "stdout",
     "output_type": "stream",
     "text": [
      "['<start>', '하루', '가', '또', '가', '네요', '.', '<end>']\n"
     ]
    }
   ],
   "source": [
    "augmented_answers = [[\"<start>\"] + data + [\"<end>\"] for data in augmented_answers]\n",
    "print(augmented_answers[0])"
   ]
  },
  {
   "cell_type": "markdown",
   "id": "58ef60d5-f189-4a88-9b3a-77f83aed704a",
   "metadata": {
    "tags": []
   },
   "source": [
    "#### 정수 인덱싱 하고 패딩처리"
   ]
  },
  {
   "cell_type": "code",
   "execution_count": 20,
   "id": "4dd62c79-9232-45fd-afdc-7046a82bf9d6",
   "metadata": {},
   "outputs": [
    {
     "data": {
      "text/plain": [
       "['<start> 결심 은 빠르 면 빠를수록 좋 아요 . <end>',\n",
       " '<start> 법 적 부부 가 된 걸 놀드 축하 해요 ! <end>',\n",
       " '<start> 외로운 상태 인 거 같 아요 . <end>',\n",
       " '<start> 적극 적 으로서 으로 꼬셔 강력히 보 세요 . <end>',\n",
       " '<start> 손수건 준비 할게요 . <end>',\n",
       " '<start> 힘들 겠 지만 제게 말 ㅂ시오 해 보 세요 . <end>',\n",
       " '<start> 화끈 하 시 네요 . <end>',\n",
       " '<start> 설렜 을 텐데 안타깝 아쉽 겠 어요 . <end>',\n",
       " '<start> 진심 으로 다가가 보 세요 . <end>',\n",
       " '<start> 는데요 설렜 겠 어요 는데 . <end>']"
      ]
     },
     "execution_count": 20,
     "metadata": {},
     "output_type": "execute_result"
    }
   ],
   "source": [
    "all_texts = [\" \".join(tokens) for tokens in augmented_questions + augmented_answers]\n",
    "all_texts[-10:]"
   ]
  },
  {
   "cell_type": "code",
   "execution_count": 21,
   "id": "9f085e3a-40f0-4faa-a4b9-d8e57d7e1d61",
   "metadata": {},
   "outputs": [],
   "source": [
    "tokenizer = Tokenizer()\n",
    "tokenizer.fit_on_texts(all_texts)\n",
    "\n",
    "augmented_questions_seq = tokenizer.texts_to_sequences([\" \".join(tokens) for tokens in augmented_questions])\n",
    "augmented_answers_seq   = tokenizer.texts_to_sequences([\" \".join(tokens) for tokens in augmented_answers])\n"
   ]
  },
  {
   "cell_type": "code",
   "execution_count": 22,
   "id": "fef132ef-1924-4047-897c-65e87ed18461",
   "metadata": {},
   "outputs": [
    {
     "data": {
      "text/plain": [
       "[[1, 264, 7, 93, 7, 30, 2],\n",
       " [1, 690, 11, 1156, 2],\n",
       " [1, 286, 14, 560, 17, 24, 2]]"
      ]
     },
     "execution_count": 22,
     "metadata": {},
     "output_type": "execute_result"
    }
   ],
   "source": [
    "augmented_answers_seq[:3]"
   ]
  },
  {
   "cell_type": "code",
   "execution_count": 23,
   "id": "872132f8-65c5-4f38-a4c7-997e97c7211d",
   "metadata": {},
   "outputs": [
    {
     "name": "stdout",
     "output_type": "stream",
     "text": [
      "start end\n"
     ]
    }
   ],
   "source": [
    "print(tokenizer.index_word[1], tokenizer.index_word[2])"
   ]
  },
  {
   "cell_type": "code",
   "execution_count": 24,
   "id": "60e232be-7bac-4e5c-bed1-0d78f23c93c3",
   "metadata": {},
   "outputs": [
    {
     "name": "stdout",
     "output_type": "stream",
     "text": [
      "enc_train shape: (24770, 17)\n",
      "dec_train shape: (24770, 17)\n"
     ]
    }
   ],
   "source": [
    "# 패딩 처리; enc_train, dec_train\n",
    "N = 13 + 2 + 2\n",
    "\n",
    "enc_train = tf.keras.preprocessing.sequence.pad_sequences(augmented_questions_seq, maxlen=N, padding='post')\n",
    "dec_train = tf.keras.preprocessing.sequence.pad_sequences(augmented_answers_seq, maxlen=N, padding='post')\n",
    "\n",
    "print(\"enc_train shape:\", enc_train.shape)\n",
    "print(\"dec_train shape:\", dec_train.shape)"
   ]
  },
  {
   "cell_type": "markdown",
   "id": "c16f0738-fc36-4f2a-a8f7-543092fe5fb2",
   "metadata": {
    "tags": []
   },
   "source": [
    "### 트랜스포머 모델 준비\n",
    "1. 포지셔널 인코딩, 멀티헤드 어텐션, 피드포워드 네트워크 준비\n",
    "2. 마스킹 구현\n",
    "3. 인코더, 디코더 및 트랜스포머 클래스 구현\n",
    "4. 인코더, 디코더 레이어 준비\n",
    "5. 손실함수, 옵티마이저 등의 베이스 컨피그\n",
    "6. Train, Test 스텝 정의"
   ]
  },
  {
   "cell_type": "code",
   "execution_count": 25,
   "id": "26d3cd23-1435-42da-b876-201d92294ac1",
   "metadata": {},
   "outputs": [],
   "source": [
    "def positional_encoding(pos, d_model):\n",
    "    def cal_angle(position, i):\n",
    "        return position / np.power(10000, int(i) / d_model)\n",
    "\n",
    "    def get_posi_angle_vec(position):\n",
    "        return [cal_angle(position, i) for i in range(d_model)]\n",
    "\n",
    "    sinusoid_table = np.array([get_posi_angle_vec(pos_i) for pos_i in range(pos)])\n",
    "    sinusoid_table[:, 0::2] = np.sin(sinusoid_table[:, 0::2])\n",
    "    sinusoid_table[:, 1::2] = np.cos(sinusoid_table[:, 1::2])\n",
    "    return sinusoid_table"
   ]
  },
  {
   "cell_type": "code",
   "execution_count": 26,
   "id": "e600e81e-ef76-45b0-8dfa-8f28ac045be2",
   "metadata": {},
   "outputs": [],
   "source": [
    "def generate_padding_mask(seq):\n",
    "    seq = tf.cast(tf.math.equal(seq, 0), tf.float32)\n",
    "    return seq[:, tf.newaxis, tf.newaxis, :]\n",
    "\n",
    "def generate_causality_mask(size):\n",
    "    mask = 1 - tf.linalg.band_part(tf.ones((size, size)), -1, 0)\n",
    "    return mask\n",
    "\n",
    "def generate_masks(src, tgt):\n",
    "    enc_mask = generate_padding_mask(src)\\\n",
    "    \n",
    "    dec_lookahead_mask = generate_causality_mask(tf.shape(tgt)[1])    \n",
    "    dec_padding_mask = generate_padding_mask(tgt)\n",
    "    dec_mask = tf.maximum(dec_lookahead_mask, dec_padding_mask)\n",
    "    \n",
    "    dec_enc_mask = generate_padding_mask(src)\n",
    "    return enc_mask, dec_mask, dec_enc_mask"
   ]
  },
  {
   "cell_type": "code",
   "execution_count": 27,
   "id": "0524b3b8-a1e3-48b7-b8f2-d7cb30857475",
   "metadata": {},
   "outputs": [],
   "source": [
    "class MultiHeadAttention(tf.keras.layers.Layer):\n",
    "    def __init__(self, d_model, num_heads):\n",
    "        super(MultiHeadAttention, self).__init__()\n",
    "        self.num_heads = num_heads\n",
    "        self.d_model = d_model\n",
    "        \n",
    "        self.depth = d_model // self.num_heads\n",
    "        \n",
    "        self.W_q = tf.keras.layers.Dense(d_model) # Linear Layer\n",
    "        self.W_k = tf.keras.layers.Dense(d_model)\n",
    "        self.W_v = tf.keras.layers.Dense(d_model)\n",
    "        \n",
    "        self.linear = tf.keras.layers.Dense(d_model)\n",
    "\n",
    "    def scaled_dot_product_attention(self, Q, K, V, mask):\n",
    "        d_k = tf.cast(K.shape[-1], tf.float32)\n",
    "        scaled_qk = tf.matmul(Q, K, transpose_b=True) / tf.math.sqrt(d_k)\n",
    "\n",
    "        if mask is not None: \n",
    "            scaled_qk += (mask * -1e9) \n",
    "\n",
    "        attentions = tf.nn.softmax(scaled_qk, axis=-1)\n",
    "        out = tf.matmul(attentions, V)\n",
    "\n",
    "        return out, attentions\n",
    "\n",
    "    def split_heads(self, x):\n",
    "        \n",
    "        batch_size = x.shape[0]\n",
    "        split_x = tf.reshape(x, (batch_size, -1, self.num_heads, self.depth))\n",
    "        split_x = tf.transpose(split_x, perm=[0,2,1,3])\n",
    "\n",
    "        return split_x\n",
    "\n",
    "    def combine_heads(self, x):\n",
    "        \n",
    "        batch_size = x.shape[0]\n",
    "        combined_x = tf.transpose(x, perm=[0,2,1,3])\n",
    "        combined_x = tf.reshape(combined_x, (batch_size, -1, self.d_model))\n",
    "        \n",
    "        return combined_x\n",
    "    \n",
    "\n",
    "    def call(self, Q, K, V, mask):\n",
    "        \n",
    "        WQ = self.W_q(Q)\n",
    "        WK = self.W_k(K)\n",
    "        WV = self.W_v(V)\n",
    "        \n",
    "        WQ_split = self.split_heads(WQ)\n",
    "        WK_split = self.split_heads(WK)\n",
    "        WV_split = self.split_heads(WV)\n",
    "        \n",
    "        out, attention_weights = self.scaled_dot_product_attention(WQ_split, WK_split, WV_split, mask)\n",
    "        \n",
    "        out = self.combine_heads(out)\n",
    "        \n",
    "        out = self.linear(out)\n",
    "        \n",
    "        return out, attention_weights"
   ]
  },
  {
   "cell_type": "code",
   "execution_count": 28,
   "id": "4b57e91f-4e4c-4170-9c4c-899bbb23605d",
   "metadata": {},
   "outputs": [],
   "source": [
    "class PoswiseFeedForwardNet(tf.keras.layers.Layer):\n",
    "    def __init__(self, d_model, d_ff):\n",
    "        super(PoswiseFeedForwardNet, self).__init__()\n",
    "        self.w_1 = tf.keras.layers.Dense(d_ff, activation='relu')\n",
    "        self.w_2 = tf.keras.layers.Dense(d_model)\n",
    "\n",
    "    def call(self, x):\n",
    "        out = self.w_1(x)\n",
    "        out = self.w_2(out)\n",
    "            \n",
    "        return out"
   ]
  },
  {
   "cell_type": "code",
   "execution_count": 29,
   "id": "104c4553-ffab-4eb1-b8d8-ee0ebffa3a44",
   "metadata": {},
   "outputs": [],
   "source": [
    "class EncoderLayer(tf.keras.layers.Layer):\n",
    "    def __init__(self, d_model, n_heads, d_ff, dropout):\n",
    "        super(EncoderLayer, self).__init__()\n",
    "\n",
    "        self.enc_self_attn = MultiHeadAttention(d_model, n_heads)\n",
    "        self.ffn = PoswiseFeedForwardNet(d_model, d_ff)\n",
    "\n",
    "        self.norm_1 = tf.keras.layers.LayerNormalization(epsilon=1e-6)\n",
    "        self.norm_2 = tf.keras.layers.LayerNormalization(epsilon=1e-6)\n",
    "\n",
    "        self.dropout = tf.keras.layers.Dropout(dropout)\n",
    "        \n",
    "    def call(self, x, mask):\n",
    "\n",
    "        \"\"\"\n",
    "        Encoder Multi-Head Attention\n",
    "        플로우: x -> LayerNorm -> MultiHeadAttention -> Dropout -> Add\n",
    "        \n",
    "        \"\"\"\n",
    "        residual = x\n",
    "        out = self.norm_1(x)\n",
    "        out, enc_attn = self.enc_self_attn(out, out, out, mask)\n",
    "        out = self.dropout(out)\n",
    "        out += residual\n",
    "        \n",
    "        \"\"\"\n",
    "        Position-Wise Feed Forward Network\n",
    "        플로우: -> LayerNorm -> FFN -> Dropout -> Add\n",
    "        \"\"\"\n",
    "        residual = out\n",
    "        out = self.norm_2(out)\n",
    "        out = self.ffn(out)\n",
    "        out = self.dropout(out)\n",
    "        out += residual\n",
    "        \n",
    "        return out, enc_attn"
   ]
  },
  {
   "cell_type": "code",
   "execution_count": 30,
   "id": "12b88b40-6365-414c-8c10-dfa63a0184f1",
   "metadata": {},
   "outputs": [],
   "source": [
    "class DecoderLayer(tf.keras.layers.Layer):\n",
    "    def __init__(self, d_model, n_heads, d_ff, dropout):\n",
    "        super(DecoderLayer, self).__init__()\n",
    "\n",
    "        self.masked_self_attn = MultiHeadAttention(d_model, n_heads)\n",
    "        self.enc_dec_attn = MultiHeadAttention(d_model, n_heads)\n",
    "        self.ffn = PoswiseFeedForwardNet(d_model, d_ff)\n",
    "\n",
    "        self.norm_1 = tf.keras.layers.LayerNormalization(epsilon=1e-6)\n",
    "        self.norm_2 = tf.keras.layers.LayerNormalization(epsilon=1e-6)\n",
    "        self.norm_3 = tf.keras.layers.LayerNormalization(epsilon=1e-6)\n",
    "\n",
    "        self.dropout = tf.keras.layers.Dropout(dropout)\n",
    "        \n",
    "    def call(self, x, enc_out, causality_mask, padding_mask):\n",
    "\n",
    "        \"\"\"\n",
    "        Masked Multi-Head Attention\n",
    "        플로우: x -> LayerNorm -> Causality-Masked Self MultiHeadAttention -> Dropout -> Add\n",
    "        \"\"\"\n",
    "        residual = x\n",
    "        out = self.norm_1(x)\n",
    "        out, dec_attn = self.masked_self_attn(out, out, out, causality_mask)\n",
    "        out = self.dropout(out)\n",
    "        out += residual\n",
    "        \n",
    "        \"\"\"\n",
    "        Encoder-Decoder Multi-Head Attention\n",
    "        플로우: -> LayerNorm -> Encoder-Decoder MultiHeadAttention -> Dropout -> Add\n",
    "        \"\"\"\n",
    "        residual = out\n",
    "        out = self.norm_2(out)\n",
    "        out, dec_enc_attn = self.enc_dec_attn(out, enc_out, enc_out, padding_mask)\n",
    "        out = self.dropout(out)\n",
    "        out += residual\n",
    "        \n",
    "        \"\"\"\n",
    "        Position-Wise Feed Forward Network\n",
    "        플로우: -> LayerNorm -> FFN -> Dropout -> Add        \n",
    "        \"\"\"\n",
    "        residual = out\n",
    "        out = self.norm_3(out)\n",
    "        out = self.ffn(out)\n",
    "        out = self.dropout(out)\n",
    "        out += residual\n",
    "        \n",
    "        return out, dec_attn, dec_enc_attn"
   ]
  },
  {
   "cell_type": "code",
   "execution_count": 31,
   "id": "9a4c7cba-3e44-4aaa-8ea1-c1ad67dff0b5",
   "metadata": {},
   "outputs": [],
   "source": [
    "class Encoder(tf.keras.Model):\n",
    "    def __init__(self,\n",
    "                 n_layers,\n",
    "                 d_model,\n",
    "                 n_heads,\n",
    "                 d_ff,\n",
    "                 dropout):\n",
    "        super(Encoder, self).__init__()\n",
    "        self.n_layers = n_layers\n",
    "        self.enc_layers = [EncoderLayer(d_model, n_heads, d_ff, dropout) \n",
    "                        for _ in range(n_layers)]\n",
    "        \n",
    "    def call(self, x, mask):\n",
    "        out = x\n",
    "    \n",
    "        enc_attns = list()\n",
    "        for i in range(self.n_layers):\n",
    "            out, enc_attn = self.enc_layers[i](out, mask)\n",
    "            enc_attns.append(enc_attn)\n",
    "        \n",
    "        return out, enc_attns"
   ]
  },
  {
   "cell_type": "code",
   "execution_count": 32,
   "id": "6ad67cb8-5e40-4161-8741-ada9cd602766",
   "metadata": {},
   "outputs": [],
   "source": [
    "class Decoder(tf.keras.Model):\n",
    "    def __init__(self,\n",
    "                 n_layers,\n",
    "                 d_model,\n",
    "                 n_heads,\n",
    "                 d_ff,\n",
    "                 dropout):\n",
    "        super(Decoder, self).__init__()\n",
    "        self.n_layers = n_layers\n",
    "        self.dec_layers = [DecoderLayer(d_model, n_heads, d_ff, dropout) \n",
    "                            for _ in range(n_layers)]\n",
    "                            \n",
    "                            \n",
    "    def call(self, x, enc_out, causality_mask, padding_mask):\n",
    "        out = x\n",
    "    \n",
    "        dec_attns = list()\n",
    "        dec_enc_attns = list()\n",
    "        for i in range(self.n_layers):\n",
    "            out, dec_attn, dec_enc_attn = \\\n",
    "            self.dec_layers[i](out, enc_out, causality_mask, padding_mask)\n",
    "\n",
    "            dec_attns.append(dec_attn)\n",
    "            dec_enc_attns.append(dec_enc_attn)\n",
    "\n",
    "        return out, dec_attns, dec_enc_attns"
   ]
  },
  {
   "cell_type": "code",
   "execution_count": 33,
   "id": "cfdb80a3-a7dc-4d6f-a1d8-2867e6c94a23",
   "metadata": {},
   "outputs": [],
   "source": [
    "class Transformer(tf.keras.Model):\n",
    "    def __init__(self,\n",
    "                 n_layers,\n",
    "                 d_model,\n",
    "                 n_heads,\n",
    "                 d_ff,\n",
    "                 vocab_size,\n",
    "                 pos_len=50,\n",
    "                 dropout=0.2,\n",
    "                 shared_fc=True,\n",
    "                 shared_emb=False):\n",
    "        super(Transformer, self).__init__()\n",
    "        self.d_model = tf.cast(d_model, tf.float32)\n",
    "        \n",
    "        if shared_emb:\n",
    "            self.enc_embedding = self.dec_embedding = tf.keras.layers.Embedding(vocab_size, d_model)\n",
    "        else:\n",
    "            self.enc_embedding = tf.keras.layers.Embedding(vocab_size, d_model)\n",
    "            self.dec_embedding = tf.keras.layers.Embedding(vocab_size, d_model)\n",
    "        \n",
    "        self.pos_encoding = positional_encoding(pos_len, d_model)\n",
    "        \n",
    "        self.encoder = Encoder(n_layers, d_model, n_heads, d_ff, dropout)\n",
    "        self.decoder = Decoder(n_layers, d_model, n_heads, d_ff, dropout)\n",
    "        \n",
    "        self.output_linear = tf.keras.layers.Dense(vocab_size)\n",
    "        \n",
    "        self.shared_fc = shared_fc\n",
    "        if shared_fc:\n",
    "            self.output_linear.set_weights(tf.transpose(self.dec_embedding.weights))\n",
    "                    \n",
    "        self.dropout = tf.keras.layers.Dropout(dropout)\n",
    "\n",
    "    def embedding(self, emb, x):\n",
    "        seq_len = x.shape[1]\n",
    "        out = emb(x)\n",
    "        \n",
    "        if self.shared_fc:\n",
    "            out *= tf.math.sqrt(self.d_model)\n",
    "            \n",
    "        out += self.pos_encoding[np.newaxis, ...][:,:seq_len, :]\n",
    "        \n",
    "        ## 드랍아웃 추가\n",
    "        out = self.dropout(out)\n",
    "        return out\n",
    "\n",
    "        \n",
    "    def call(self, enc_in, dec_in, enc_mask, dec_mask, dec_enc_mask):\n",
    "        \"\"\"\n",
    "        1. 인코더-디코더 구성\n",
    "        2. 인코더에서 output과 attention 계산 후 디코더에 넘김\n",
    "        3. 디코더에서 masked self attention과 encoder-decoder multihead attention 계산\n",
    "        4. FFN\n",
    "        \"\"\"\n",
    "        enc_in_emb = self.embedding(self.enc_embedding, enc_in)\n",
    "        dec_in_emb = self.embedding(self.dec_embedding, dec_in)\n",
    "        \n",
    "        enc_output, enc_attns = self.encoder(enc_in_emb, enc_mask)\n",
    "        \n",
    "        dec_output, dec_attns, dec_enc_attns = self.decoder(dec_in_emb, enc_output, dec_mask, dec_enc_mask)\n",
    "        \n",
    "        logits = self.output_linear(dec_output)    \n",
    "        \n",
    "        return logits, enc_attns, dec_attns, dec_enc_attns"
   ]
  },
  {
   "cell_type": "markdown",
   "id": "bdd47111-1996-4b70-9c8a-89f6e5e1da88",
   "metadata": {
    "tags": []
   },
   "source": [
    "### 컴파일 도구들\n",
    "\n",
    "LR 스케줄러, 손실함수와 옵티마이저"
   ]
  },
  {
   "cell_type": "code",
   "execution_count": 34,
   "id": "efa1ec3b-e6dc-4690-ac9d-aa96896bf2bf",
   "metadata": {},
   "outputs": [],
   "source": [
    "class LearningRateScheduler(tf.keras.optimizers.schedules.LearningRateSchedule):\n",
    "    def __init__(self, d_model, warmup_steps=4000):\n",
    "        super(LearningRateScheduler, self).__init__()\n",
    "        self.d_model = d_model\n",
    "        self.warmup_steps = warmup_steps\n",
    "    \n",
    "    def __call__(self, step):\n",
    "        arg1 = step ** -0.5\n",
    "        arg2 = step * (self.warmup_steps ** -1.5)\n",
    "        \n",
    "        return (self.d_model ** -0.5) * tf.math.minimum(arg1, arg2)"
   ]
  },
  {
   "cell_type": "code",
   "execution_count": 35,
   "id": "34778810-a9ce-4993-be36-6e18b8759b5d",
   "metadata": {},
   "outputs": [],
   "source": [
    "loss_object = tf.keras.losses.SparseCategoricalCrossentropy(\n",
    "    from_logits=True, reduction='none')\n",
    "\n",
    "def loss_function(real, pred):\n",
    "    mask = tf.math.logical_not(tf.math.equal(real, 0))\n",
    "    loss_ = loss_object(real, pred)\n",
    "\n",
    "    # Masking 되지 않은 입력의 개수로 Scaling하는 과정\n",
    "    mask = tf.cast(mask, dtype=loss_.dtype)\n",
    "    loss_ *= mask\n",
    "\n",
    "    return tf.reduce_sum(loss_)/tf.reduce_sum(mask)"
   ]
  },
  {
   "cell_type": "markdown",
   "id": "ec1833bc-e82f-41e5-b7e6-7a9918a4d3a9",
   "metadata": {
    "tags": []
   },
   "source": [
    "### 훈련과 검증, 그리고 평가 단계"
   ]
  },
  {
   "cell_type": "code",
   "execution_count": 36,
   "id": "b8466ee2-c800-47ce-add5-8496d015e60b",
   "metadata": {},
   "outputs": [],
   "source": [
    "def get_train_step():\n",
    "    @tf.function()\n",
    "    def train_step(src, tgt, model, optimizer):\n",
    "        gold = tgt[:, 1:]\n",
    "        \n",
    "        enc_mask, dec_enc_mask, dec_mask = generate_masks(src, tgt)\n",
    "\n",
    "        # 계산된 loss에 tf.GradientTape()를 적용해 학습 진행\n",
    "        with tf.GradientTape() as tape:\n",
    "            predictions, enc_attns, dec_attns, dec_enc_attns = model(src, tgt, enc_mask, dec_enc_mask, dec_mask)\n",
    "            loss = loss_function(gold, predictions[:, :-1])\n",
    "\n",
    "        # 최종적으로 optimizer.apply_gradients()가 사용됩니다. \n",
    "        variables = model.trainable_variables\n",
    "        gradients = tape.gradient(loss, variables)\n",
    "        optimizer.apply_gradients(zip(gradients, variables))\n",
    "        \n",
    "        return loss, enc_attns, dec_attns, dec_enc_attns\n",
    "    return train_step"
   ]
  },
  {
   "cell_type": "code",
   "execution_count": 37,
   "id": "b7d7b725-fc2e-4bcf-a9e1-696d7d37e38d",
   "metadata": {},
   "outputs": [],
   "source": [
    "@tf.function()\n",
    "def test_step(src, tgt, model):\n",
    "    gold = tgt[:, 1:]\n",
    "        \n",
    "    enc_mask, dec_enc_mask, dec_mask = generate_masks(src, tgt)\n",
    "\n",
    "    predictions, enc_attns, dec_attns, dec_enc_attns = model(src, tgt, enc_mask, dec_enc_mask, dec_mask)\n",
    "    loss = loss_function(gold, predictions[:, :-1])\n",
    "    \n",
    "    return loss"
   ]
  },
  {
   "cell_type": "code",
   "execution_count": 38,
   "id": "3230bd9b-8bb9-487e-bf2a-7eb107dc5f66",
   "metadata": {},
   "outputs": [],
   "source": [
    "def evaluate(sentence, model, max_length=N):\n",
    "    \"\"\"\n",
    "    1. 입력 문장 전처리 및 토크나이징, 패딩 해서 인코더에 넣을 준비\n",
    "    \"\"\"\n",
    "    tokens = mecab.morphs(preprocess_sentence(sentence))\n",
    "    token_ids = tokenizer.texts_to_sequences([\" \".join(tokens)])[0]\n",
    "    enc_input = tf.keras.preprocessing.sequence.pad_sequences(\n",
    "        [token_ids], maxlen=max_length, padding='post'\n",
    "    )\n",
    "\n",
    "    \"\"\"\n",
    "    2. 디코딩 하기 위해서 bos 토큰만 초기값으로 설정\n",
    "    \"\"\"\n",
    "    \n",
    "    output = tf.constant([[1]], dtype=tf.int32)\n",
    "\n",
    "    for i in range(dec_train.shape[-1]):\n",
    "        enc_mask, dec_mask, dec_enc_mask = generate_masks(enc_input, output)\n",
    "        predictions, enc_attns, dec_attns, dec_enc_attns = model(\n",
    "            enc_input,\n",
    "            output,\n",
    "            enc_mask,\n",
    "            dec_mask,\n",
    "            dec_enc_mask\n",
    "        )\n",
    "\n",
    "        predicted_id = tf.argmax(predictions[0, -1]).numpy().item()\n",
    "        output = tf.concat([output, tf.expand_dims([predicted_id], 0)], axis=-1)\n",
    "        \"\"\"\n",
    "        predicted_token = en_tokenizer.id_to_piece(predicted_id)\n",
    "\n",
    "        print(f\"Step {i}: predicted_id = {predicted_id}, token = {predicted_token}\")\n",
    "        \"\"\"\n",
    "                   \n",
    "        # eos token이 예측되면 종료\n",
    "        if predicted_id == 2:\n",
    "            break\n",
    "\n",
    "    result = tokenizer.sequences_to_texts(output.numpy().tolist())[0]\n",
    "    \n",
    "    return result\n",
    "\n",
    "def translate(sentence, model, show_result=True):\n",
    "    result = evaluate(sentence, model)\n",
    "    tokens = ['start', 'end']\n",
    "    for t in tokens:\n",
    "        result = result.replace(t, \"\")\n",
    "    \n",
    "    if show_result:\n",
    "        print('Input: %s' % sentence)\n",
    "        print('Predicted translation: {}'.format(result))\n",
    "    return result"
   ]
  },
  {
   "cell_type": "code",
   "execution_count": 39,
   "id": "6a29662f-ccbf-45ed-a731-88cfbca9a361",
   "metadata": {},
   "outputs": [],
   "source": [
    "def train(train_dataset, test_dataset, example):\n",
    "    train_loss_history = []\n",
    "    val_loss_history = []\n",
    "\n",
    "    for epoch in range(EPOCHS):\n",
    "    \n",
    "        # Training Loop\n",
    "        total_train_loss = 0\n",
    "        train_steps = 0\n",
    "\n",
    "        progress_bar = tqdm(train_dataset, desc=f\"Epoch {epoch+1} Train\", leave=False)\n",
    "        for src_batch, tgt_batch in progress_bar:\n",
    "            loss, _, _, _ = train_step(src_batch, tgt_batch, transformer, optimizer)\n",
    "        \n",
    "            total_train_loss += loss\n",
    "            train_steps += 1\n",
    "\n",
    "            avg_train_loss = total_train_loss / train_steps\n",
    "            progress_bar.set_postfix({\"loss\": f\"{avg_train_loss:.4f}\"})\n",
    "        \n",
    "        train_loss_history.append(avg_train_loss.numpy())\n",
    "    \n",
    "        # Validation Loop\n",
    "        total_val_loss = 0\n",
    "        val_steps = 0\n",
    "    \n",
    "        progress_bar_val = tqdm(test_dataset, desc=f\"Epoch {epoch+1} Val\", leave=False)\n",
    "        for src_batch, tgt_batch in progress_bar_val:\n",
    "            loss = test_step(src_batch, tgt_batch, transformer)\n",
    "        \n",
    "            total_val_loss += loss\n",
    "            val_steps += 1\n",
    "            \n",
    "            avg_val_loss = total_val_loss / val_steps\n",
    "            progress_bar_val.set_postfix({\"val_loss\": f\"{avg_val_loss:.4f}\"})\n",
    "        \n",
    "        val_loss_history.append(avg_val_loss.numpy())\n",
    "    \n",
    "        print(f\"\\nEpoch {epoch+1} - Train Loss: {avg_train_loss:.4f} / Val Loss: {avg_val_loss:.4f}\")\n",
    "    \n",
    "    return train_loss_history, val_loss_history"
   ]
  },
  {
   "cell_type": "markdown",
   "id": "81284ed8-0f6a-4140-897b-aa1971c7ea27",
   "metadata": {},
   "source": [
    "### 기타 도구들\n",
    "\n",
    "- Learning Curve 시각화\n",
    "- BLEU score 계산(일반화 데이터에 대해)\n",
    "\n",
    "BLEU score를 train data에 대해서 계산하면 아무래도 높을 수 밖에 없을 거 같긴 한데... 그 것도 해야하나? "
   ]
  },
  {
   "cell_type": "code",
   "execution_count": 40,
   "id": "60c0a160-51ff-4446-9dad-0431d0eef97d",
   "metadata": {},
   "outputs": [],
   "source": [
    "def plot_learning_curves(all_train_loss, all_val_loss):\n",
    "    \"\"\"\n",
    "    여러 번의 학습 run에서 수집된 Train/Val Loss를\n",
    "    평균 곡선과 표준편차 음영으로 플롯\n",
    "    \"\"\"\n",
    "    n_runs = len(all_train_loss)\n",
    "    epochs = len(all_train_loss[0])\n",
    "    epoch_range = np.arange(1, epochs+1)\n",
    "    \n",
    "    mean_train = np.mean(all_train_loss, axis=0)\n",
    "    std_train = np.std(all_train_loss, axis=0)\n",
    "    mean_val = np.mean(all_val_loss, axis=0)\n",
    "    std_val = np.std(all_val_loss, axis=0)\n",
    "    \n",
    "    print(\"Train Std:\", std_train)\n",
    "    print(\"Validation Std:\", std_train)\n",
    "    \n",
    "    plt.figure(figsize=(10,6))\n",
    "    \n",
    "    # 개별 run의 곡선 (투명하게)\n",
    "    for i in range(n_runs):\n",
    "        plt.plot(epoch_range, all_train_loss[i], color='blue', alpha=0.3)\n",
    "        plt.plot(epoch_range, all_val_loss[i], color='orange', alpha=0.3)\n",
    "    \n",
    "    # 평균 곡선\n",
    "    plt.plot(epoch_range, mean_train, color='blue', label='Train Loss (mean)', linewidth=0.5)\n",
    "    plt.plot(epoch_range, mean_val, color='orange', label='Val Loss (mean)', linewidth=0.5)\n",
    "    \n",
    "    # 표준편차 음영\n",
    "    plt.fill_between(epoch_range, mean_train-std_train, mean_train+std_train, color='blue', alpha=0.2)\n",
    "    plt.fill_between(epoch_range, mean_val-std_val, mean_val+std_val, color='orange', alpha=0.2)\n",
    "    \n",
    "    plt.xlabel(\"Epoch\")\n",
    "    plt.ylabel(\"Loss\")\n",
    "    plt.title(\"Learning Curve Distribution over Multiple Runs\")\n",
    "    plt.legend()\n",
    "    plt.grid(True)\n",
    "    plt.show()"
   ]
  },
  {
   "cell_type": "code",
   "execution_count": 41,
   "id": "33a87f0a-291a-4f1c-a752-c2d2ab3f283f",
   "metadata": {},
   "outputs": [],
   "source": [
    "def calculate_bleu(reference, candidate, weights=[0.25, 0.25, 0.25, 0.25]):\n",
    "    return sentence_bleu([reference],\n",
    "                         candidate,\n",
    "                         weights=weights,\n",
    "                         smoothing_function=SmoothingFunction().method1)\n",
    "\n",
    "def eval_bleu(source_sentences, target_sentences, show_bleu_only=False):\n",
    "    \"\"\"\n",
    "    절차:\n",
    "      1) source_sentences[i] -> translate(...) -> 모델 예측 출력 (형태소 구분된 문자열)\n",
    "      2) 예측 결과(candidate_text)를 split()으로 토큰화\n",
    "      3) target_sentences[i]를 mecab.morphs()로 토큰화 (reference_tokens)\n",
    "      4) calculate_bleu()로 BLEU 점수를 구해 리스트에 저장\n",
    "      5) 최종적으로 문장별 BLEU 점수 리스트와 평균값을 반환\n",
    "    \"\"\"\n",
    "    bleu_scores = []\n",
    "\n",
    "    for i, src_text in enumerate(source_sentences):\n",
    "        # 1) 모델을 이용해 예측 텍스트(형태소 분석 형태) 생성\n",
    "        \n",
    "        candidate_text = translate(src_text, transformer, show_result=False)\n",
    "        \n",
    "        # 예: \"잘 하 지 않 겠 네요\"\n",
    "\n",
    "        # 2) 후보 문장 토큰화\n",
    "        candidate_tokens = candidate_text.split()\n",
    "\n",
    "        # 3) 정답 문장도 mecab으로 형태소 분석\n",
    "        reference_text = target_sentences[i]\n",
    "        reference_tokens = mecab.morphs(reference_text)\n",
    "        \n",
    "        # 4) BLEU 점수 계산\n",
    "        score = calculate_bleu(reference_tokens, candidate_tokens)\n",
    "        bleu_scores.append(score)\n",
    "        \n",
    "        if show_bleu_only:\n",
    "            continue\n",
    "        else:\n",
    "            print(\"Example Sentence:\", src_text)\n",
    "            print(\"Output Sequence:\", candidate_text)\n",
    "            print(\"Example Answers:\", ' '.join(reference_tokens))\n",
    "            print(\"Bleu Score:\", score)\n",
    "            print(\"\")\n",
    "\n",
    "    # 모든 문장에 대한 BLEU 평균\n",
    "    avg_bleu = sum(bleu_scores) / len(bleu_scores) if bleu_scores else 0.0\n",
    "    print(\"Average BLEU score:\", avg_bleu * 100, \"점\")\n",
    "    return avg_bleu"
   ]
  },
  {
   "cell_type": "markdown",
   "id": "8a7332d9-0c0c-4b3b-9613-875b9ed253fb",
   "metadata": {},
   "source": [
    "### 시행"
   ]
  },
  {
   "cell_type": "markdown",
   "id": "92c93d45-4a14-49f8-ab9a-a3d0a6d90f22",
   "metadata": {
    "tags": []
   },
   "source": [
    "#### 트랜스포머 빌드"
   ]
  },
  {
   "cell_type": "code",
   "execution_count": 42,
   "id": "56b271be-17ae-4d63-963d-13dbecceb7c0",
   "metadata": {},
   "outputs": [],
   "source": [
    "def build_transformer_model(config):\n",
    "    \"\"\"\n",
    "    config 딕셔너리에 정의된 하이퍼파라미터를 바탕으로\n",
    "    새로운 Transformer 모델과 옵티마(optimizer)를 생성하여 반환.\n",
    "    \"\"\"\n",
    "    # 모델 생성\n",
    "    transformer = Transformer(\n",
    "        n_layers=config[\"n_layers\"],\n",
    "        d_model=config[\"d_model\"],\n",
    "        n_heads=config[\"n_heads\"],\n",
    "        d_ff=config[\"d_ff\"],\n",
    "        vocab_size=config[\"vocab_size\"],\n",
    "        pos_len=config[\"pos_len\"],\n",
    "        dropout=config[\"dropout\"],\n",
    "        shared_emb=True\n",
    "    )\n",
    "    \n",
    "    # 학습률 스케줄러 및 옵티마 설정\n",
    "    learning_rate = LearningRateScheduler(config['d_model'])\n",
    "    optimizer = tf.keras.optimizers.Adam(\n",
    "        learning_rate,\n",
    "        beta_1=0.9,\n",
    "        beta_2=0.98,\n",
    "        epsilon=1e-9\n",
    "    )\n",
    "    return transformer, optimizer"
   ]
  },
  {
   "cell_type": "code",
   "execution_count": 43,
   "id": "7f95460f-4760-4301-a22f-94890ef11b75",
   "metadata": {},
   "outputs": [],
   "source": [
    "config = {\n",
    "    \"n_layers\": 3,\n",
    "    \"d_model\": 256,\n",
    "    \"n_heads\": 4,\n",
    "    \"d_ff\": 1024,\n",
    "    \"dropout\": 0.5,\n",
    "    \"vocab_size\": 15000,\n",
    "    \"pos_len\": 50,\n",
    "    \"batch_size\": 32,\n",
    "    \"epochs\": 20\n",
    "}\n",
    "\n",
    "BATCH_SIZE = config['batch_size']\n",
    "EPOCHS = config['epochs']\n",
    "\n",
    "example = ['지루하다, 놀러가고 싶어.',\n",
    "           '오늘 일찍 일어났더니 피곤하다.',\n",
    "           '간만에 여자친구랑 데이트 하기로 했어.',\n",
    "           '집에 있는다는 소리야.',\n",
    "           '배고픈데 뭐 먹을지 고민되네.',\n",
    "           '비가 와서 그런가 기분이 좀 별로야.',\n",
    "           '시험 공부해야 하는데 집중이 안 돼.',\n",
    "           '드라마 정주행 시작했는데 완전 내 스타일!',\n",
    "           '운동 갔다 왔더니 몸이 너무 아파.',\n",
    "           '주말인데 할 일이 너무 많아서 귀찮다.']\n",
    "\n",
    "example_answers = ['같이 놀면 좋겠어요',\n",
    "                   '조금 더 잠 들어요',\n",
    "                   '좋은 날이 되겠네요',\n",
    "                   '방 청소를 하면 되겠네',\n",
    "                   '뭐라도 드세요',\n",
    "                   '감성적이기에 딱 좋죠',\n",
    "                   '딴 생각 하지 마세요',\n",
    "                   '드라마 완전 재밌나 봐요',\n",
    "                   '몸이 놀라서 그래',\n",
    "                   '주말에도 일 하느라 힘들겠다']\n"
   ]
  },
  {
   "cell_type": "code",
   "execution_count": 44,
   "id": "455aabbb-895a-4d45-95eb-cdf91497500b",
   "metadata": {},
   "outputs": [],
   "source": [
    "enc_train_part, enc_test, dec_train_part, dec_test = train_test_split(\n",
    "    enc_train, dec_train, test_size=0.2, random_state=42)\n",
    "\n",
    "# 학습 데이터셋 구성 (train 데이터)\n",
    "train_dataset = tf.data.Dataset.from_tensor_slices((enc_train_part, dec_train_part))\n",
    "train_dataset = train_dataset.shuffle(buffer_size=len(enc_train_part)).batch(BATCH_SIZE, drop_remainder=True)\n",
    "\n",
    "# 테스트 데이터셋 구성 (test 데이터)\n",
    "test_dataset = tf.data.Dataset.from_tensor_slices((enc_test, dec_test))\n",
    "test_dataset = test_dataset.batch(BATCH_SIZE, drop_remainder=False)"
   ]
  },
  {
   "cell_type": "code",
   "execution_count": null,
   "id": "e40f05f3-a601-4b24-ae52-15ca41b73793",
   "metadata": {},
   "outputs": [
    {
     "data": {
      "application/vnd.jupyter.widget-view+json": {
       "model_id": "",
       "version_major": 2,
       "version_minor": 0
      },
      "text/plain": [
       "Epoch 13 Val:   0%|          | 0/155 [00:00<?, ?it/s]"
      ]
     },
     "metadata": {},
     "output_type": "display_data"
    },
    {
     "name": "stdout",
     "output_type": "stream",
     "text": [
      "\n",
      "Epoch 13 - Train Loss: 0.5686 / Val Loss: 1.0517\n"
     ]
    },
    {
     "data": {
      "application/vnd.jupyter.widget-view+json": {
       "model_id": "",
       "version_major": 2,
       "version_minor": 0
      },
      "text/plain": [
       "Epoch 14 Train:   0%|          | 0/619 [00:00<?, ?it/s]"
      ]
     },
     "metadata": {},
     "output_type": "display_data"
    },
    {
     "data": {
      "application/vnd.jupyter.widget-view+json": {
       "model_id": "",
       "version_major": 2,
       "version_minor": 0
      },
      "text/plain": [
       "Epoch 14 Val:   0%|          | 0/155 [00:00<?, ?it/s]"
      ]
     },
     "metadata": {},
     "output_type": "display_data"
    },
    {
     "name": "stdout",
     "output_type": "stream",
     "text": [
      "\n",
      "Epoch 14 - Train Loss: 0.5294 / Val Loss: 1.0402\n"
     ]
    },
    {
     "data": {
      "application/vnd.jupyter.widget-view+json": {
       "model_id": "",
       "version_major": 2,
       "version_minor": 0
      },
      "text/plain": [
       "Epoch 15 Train:   0%|          | 0/619 [00:00<?, ?it/s]"
      ]
     },
     "metadata": {},
     "output_type": "display_data"
    },
    {
     "data": {
      "application/vnd.jupyter.widget-view+json": {
       "model_id": "",
       "version_major": 2,
       "version_minor": 0
      },
      "text/plain": [
       "Epoch 15 Val:   0%|          | 0/155 [00:00<?, ?it/s]"
      ]
     },
     "metadata": {},
     "output_type": "display_data"
    },
    {
     "name": "stdout",
     "output_type": "stream",
     "text": [
      "\n",
      "Epoch 15 - Train Loss: 0.4991 / Val Loss: 1.0151\n"
     ]
    },
    {
     "data": {
      "application/vnd.jupyter.widget-view+json": {
       "model_id": "",
       "version_major": 2,
       "version_minor": 0
      },
      "text/plain": [
       "Epoch 16 Train:   0%|          | 0/619 [00:00<?, ?it/s]"
      ]
     },
     "metadata": {},
     "output_type": "display_data"
    },
    {
     "data": {
      "application/vnd.jupyter.widget-view+json": {
       "model_id": "",
       "version_major": 2,
       "version_minor": 0
      },
      "text/plain": [
       "Epoch 16 Val:   0%|          | 0/155 [00:00<?, ?it/s]"
      ]
     },
     "metadata": {},
     "output_type": "display_data"
    },
    {
     "name": "stdout",
     "output_type": "stream",
     "text": [
      "\n",
      "Epoch 16 - Train Loss: 0.4712 / Val Loss: 1.0105\n"
     ]
    },
    {
     "data": {
      "application/vnd.jupyter.widget-view+json": {
       "model_id": "",
       "version_major": 2,
       "version_minor": 0
      },
      "text/plain": [
       "Epoch 17 Train:   0%|          | 0/619 [00:00<?, ?it/s]"
      ]
     },
     "metadata": {},
     "output_type": "display_data"
    },
    {
     "data": {
      "application/vnd.jupyter.widget-view+json": {
       "model_id": "",
       "version_major": 2,
       "version_minor": 0
      },
      "text/plain": [
       "Epoch 17 Val:   0%|          | 0/155 [00:00<?, ?it/s]"
      ]
     },
     "metadata": {},
     "output_type": "display_data"
    },
    {
     "name": "stdout",
     "output_type": "stream",
     "text": [
      "\n",
      "Epoch 17 - Train Loss: 0.4512 / Val Loss: 0.9950\n"
     ]
    },
    {
     "data": {
      "application/vnd.jupyter.widget-view+json": {
       "model_id": "2f52fd8bfbf64bff8f75b3b4ec3365d6",
       "version_major": 2,
       "version_minor": 0
      },
      "text/plain": [
       "Epoch 18 Train:   0%|          | 0/619 [00:00<?, ?it/s]"
      ]
     },
     "metadata": {},
     "output_type": "display_data"
    }
   ],
   "source": [
    "all_train_loss = []\n",
    "all_val_loss = []\n",
    "all_bleu = []\n",
    "\n",
    "### 지난 주 로또번호\n",
    "seed_list = [20, 21, 22, 25, 28, 29, 6]\n",
    "\n",
    "for i, seed in enumerate(seed_list):\n",
    "    tf.random.set_seed(seed)\n",
    "    np.random.seed(seed)\n",
    "    random.seed(seed)\n",
    "    \n",
    "    print('Current Seed:', seed)\n",
    "    \n",
    "    transformer, optimizer = build_transformer_model(config)\n",
    "    train_step = get_train_step()\n",
    "    train_loss_hist, val_loss_hist = train(train_dataset, test_dataset, example)\n",
    "    \n",
    "    all_train_loss.append(train_loss_hist)\n",
    "    all_val_loss.append(val_loss_hist)\n",
    "    \n",
    "    bleu = eval_bleu(example, example_answers, show_bleu_only=False)\n",
    "    all_bleu.append(bleu)\n",
    "    \n",
    "    for sentence in example:\n",
    "        translate(sentence, transformer, show_result=True)\n",
    "        \n",
    "    "
   ]
  },
  {
   "cell_type": "code",
   "execution_count": null,
   "id": "03552402-3512-4f2b-aae4-d436aeaf6c6a",
   "metadata": {},
   "outputs": [],
   "source": [
    "plot_learning_curves(all_train_loss, all_val_loss)"
   ]
  },
  {
   "cell_type": "markdown",
   "id": "27b7ef3e-2f81-4fd5-9d37-161eb2626218",
   "metadata": {},
   "source": [
    "___"
   ]
  },
  {
   "cell_type": "markdown",
   "id": "4948118b-a3dc-4527-94c4-269dfc332676",
   "metadata": {},
   "source": [
    "### Train data 원본에 대해서 BLEU score 계산하기"
   ]
  },
  {
   "cell_type": "code",
   "execution_count": null,
   "id": "8332b55d-1efa-4a26-ae12-e58212be8e0c",
   "metadata": {},
   "outputs": [],
   "source": [
    "bleu_corpus_input = [\" \".join(tokens) for tokens in que_corpus]\n",
    "bleu_corpus_output = [\" \".join(tokens) for tokens in ans_corpus]"
   ]
  },
  {
   "cell_type": "code",
   "execution_count": null,
   "id": "6aa06661-f3f2-49a7-9f5f-e8dc131887fc",
   "metadata": {},
   "outputs": [],
   "source": [
    "start_time = time.time()\n",
    "\n",
    "# 실행할 코드\n",
    "eval_bleu(bleu_corpus_input[:100], bleu_corpus_output[:100], show_bleu_only=True)\n",
    "\n",
    "end_time = time.time()\n",
    "\n",
    "execution_time = end_time - start_time\n",
    "print(f\"Execution time: {execution_time:.6f} seconds\")"
   ]
  },
  {
   "cell_type": "code",
   "execution_count": null,
   "id": "c3ffa1bd-97d8-41d8-bc01-dd847c37f24a",
   "metadata": {},
   "outputs": [],
   "source": [
    "start_time = time.time()\n",
    "\n",
    "# 실행할 코드\n",
    "eval_bleu(example, example_answers, show_bleu_only=True)\n",
    "\n",
    "end_time = time.time()\n",
    "\n",
    "execution_time = end_time - start_time\n",
    "print(f\"Execution time: {execution_time:.6f} seconds\")"
   ]
  },
  {
   "attachments": {
    "bc1f30e7-7249-4818-9ad8-27098e5ac0d2.png": {
     "image/png": "[encoded data removed]"
    }
   },
   "cell_type": "markdown",
   "id": "85a97d8e-50c8-4971-b55c-addcb04140a9",
   "metadata": {
    "tags": []
   },
   "source": [
    "### 시행 1 결과: 총 11회 반복\n",
    "\n",
    "Model Hyperparameters:\n",
    "\n",
    "    config = {\n",
    "        \"n_layers\": 2,\n",
    "        \"d_model\": 256,\n",
    "        \"n_heads\": 4,\n",
    "        \"d_ff\": 1024,\n",
    "        \"dropout\": 0.5,\n",
    "        \"vocab_size\": 15000,\n",
    "        \"pos_len\": 50,\n",
    "        \"batch_size\": 32,\n",
    "        \"epochs\": 15\n",
    "    }\n",
    "\n",
    "\n",
    "![image.png](attachment:bc1f30e7-7249-4818-9ad8-27098e5ac0d2.png)"
   ]
  },
  {
   "cell_type": "markdown",
   "id": "0066124e-4820-4398-adf9-f96655bef65f",
   "metadata": {},
   "source": [
    "### 시행 2: 7회 반복\n",
    "\n",
    "    config = {\n",
    "        \"n_layers\": 3,\n",
    "        \"d_model\": 256,\n",
    "        \"n_heads\": 4,\n",
    "        \"d_ff\": 1024,\n",
    "        \"dropout\": 0.5,\n",
    "        \"vocab_size\": 15000,\n",
    "        \"pos_len\": 50,\n",
    "        \"batch_size\": 32,\n",
    "        \"epochs\": 20\n",
    "    }\n",
    "\n",
    "    example = ['지루하다, 놀러가고 싶어.',\n",
    "           '오늘 일찍 일어났더니 피곤하다.',\n",
    "           '간만에 여자친구랑 데이트 하기로 했어.',\n",
    "           '집에 있는다는 소리야.',\n",
    "           '배고픈데 뭐 먹을지 고민되네.',\n",
    "           '비가 와서 그런가 기분이 좀 별로야.',\n",
    "           '시험 공부해야 하는데 집중이 안 돼.',\n",
    "           '드라마 정주행 시작했는데 완전 내 스타일!',\n",
    "           '운동 갔다 왔더니 몸이 너무 아파.',\n",
    "           '주말인데 할 일이 너무 많아서 귀찮다.']\n",
    "\n",
    "    example_answers = ['같이 놀면 좋겠어요',\n",
    "                   '조금 더 잠 들어요',\n",
    "                   '즐거운 날이 되겠네요',\n",
    "                   '방 청소를 하면 되겠네',\n",
    "                   '뭐라도 드세요',\n",
    "                   '스트레칭하는 것도 도움 될 거야',\n",
    "                   '딴 생각 하지 마세요',\n",
    "                   '드라마 완전 재밌나 봐요',\n",
    "                   '몸이 놀라서 그래',\n",
    "                   '주말에도 일 하느라 힘들겠다']\n"
   ]
  },
  {
   "cell_type": "code",
   "execution_count": null,
   "id": "7fa83498-79fc-4dda-a66a-956861f40567",
   "metadata": {},
   "outputs": [],
   "source": []
  },
  {
   "cell_type": "code",
   "execution_count": null,
   "id": "30c77a13-366c-4373-81a5-66d0420da4cb",
   "metadata": {},
   "outputs": [],
   "source": []
  },
  {
   "cell_type": "code",
   "execution_count": null,
   "id": "7e2a6466-8981-4fa0-8081-1d64ee47f7b7",
   "metadata": {},
   "outputs": [],
   "source": []
  }
 ],
 "metadata": {
  "kernelspec": {
   "display_name": "Python 3 (ipykernel)",
   "language": "python",
   "name": "python3"
  },
  "language_info": {
   "codemirror_mode": {
    "name": "ipython",
    "version": 3
   },
   "file_extension": ".py",
   "mimetype": "text/x-python",
   "name": "python",
   "nbconvert_exporter": "python",
   "pygments_lexer": "ipython3",
   "version": "3.9.21"
  }
 },
 "nbformat": 4,
 "nbformat_minor": 5
}
